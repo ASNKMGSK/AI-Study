{
 "cells": [
  {
   "cell_type": "markdown",
   "id": "cultural-roller",
   "metadata": {},
   "source": [
    "# 6. 작사가 AI"
   ]
  },
  {
   "cell_type": "markdown",
   "id": "under-application",
   "metadata": {},
   "source": [
    "## 6.1 데이터를 불러오고 확인해본다"
   ]
  },
  {
   "cell_type": "code",
   "execution_count": 1,
   "id": "tropical-china",
   "metadata": {},
   "outputs": [
    {
     "name": "stdout",
     "output_type": "stream",
     "text": [
      "데이터 크기: 187088\n",
      "Examples:\n",
      " ['', '\\t\\t\\t“There must be some way out of here,” said the joker to the thief', '“There’s too much confusion, I can’t get no relief']\n"
     ]
    }
   ],
   "source": [
    "# 먼저 프로젝트를 진행하기 전에 아래와 같은 작업이 필요하다\n",
    "# $ wget https://aiffelstaticprd.blob.core.windows.net/media/documents/song_lyrics.zip\n",
    "# $ unzip song_lyrics.zip -d ~/aiffel/lyricist/data/lyrics\n",
    "\n",
    "# 데이터를 읽어온다\n",
    "import glob\n",
    "import os\n",
    "import re\n",
    "import tensorflow as tf\n",
    "import numpy as np\n",
    "\n",
    "txt_file_path = os.getenv('HOME')+'/aiffel/lyricist/data/lyrics/*'\n",
    "\n",
    "txt_list = glob.glob(txt_file_path)\n",
    "\n",
    "raw_corpus = []\n",
    "\n",
    "# 여러개의 txt 파일을 모두 읽어서 raw_corpus 에 담는다\n",
    "for txt_file in txt_list:\n",
    "    with open(txt_file, \"r\") as f:\n",
    "        raw = f.read().splitlines()\n",
    "        raw_corpus.extend(raw)\n",
    "\n",
    "print(\"데이터 크기:\", len(raw_corpus))\n",
    "print(\"Examples:\\n\", raw_corpus[:3])"
   ]
  },
  {
   "cell_type": "code",
   "execution_count": 2,
   "id": "interstate-natural",
   "metadata": {},
   "outputs": [
    {
     "name": "stdout",
     "output_type": "stream",
     "text": [
      "\t\t\t“There must be some way out of here,” said the joker to the thief\n",
      "“There’s too much confusion, I can’t get no relief\n",
      "Businessmen, they drink my wine, plowmen dig my earth\n",
      "None of them along the line know what any of it is worth”\n",
      "“No reason to get excited,” the thief, he kindly spoke\n",
      "“There are many here among us who feel that life is but a joke\n",
      "But you and I, we’ve been through that, and this is not our fate\n",
      "So let us not talk falsely now, the hour is getting late”\n"
     ]
    }
   ],
   "source": [
    "# 문장이 어떤 것이 있는지 확인해보자\n",
    "for idx, sentence in enumerate(raw_corpus):\n",
    "    if len(sentence) == 0: continue   # 길이가 0인 문장은 건너뛴다.\n",
    "    if sentence[-1] == \":\": continue  # 문장의 끝이 : 인 문장은 건너뛴다.\n",
    "\n",
    "    if idx > 10: break   # 문장 10개를 확인해보자\n",
    "        \n",
    "    print(sentence)"
   ]
  },
  {
   "cell_type": "markdown",
   "id": "antique-paris",
   "metadata": {},
   "source": [
    "## 6.2 데이터를 전처리한다"
   ]
  },
  {
   "cell_type": "code",
   "execution_count": 3,
   "id": "retired-westminster",
   "metadata": {},
   "outputs": [
    {
     "name": "stdout",
     "output_type": "stream",
     "text": [
      "<start> this is sample sentence . <end>\n"
     ]
    }
   ],
   "source": [
    "# 토큰화하기 전에 정규표현식을 이용해서 문장을 필터링 해주는 함수를 만든다\n",
    "def preprocess_sentence(sentence):\n",
    "    sentence = sentence.lower().strip()       # 소문자로 바꾸고 양쪽 공백을 삭제\n",
    "  \n",
    "    # 아래 3단계를 거쳐 sentence는 스페이스 1개를 delimeter로 하는 소문자 단어 시퀀스로 바뀐다\n",
    "    sentence = re.sub(r\"([?.!,¿])\", r\" \\1 \", sentence)        # 패턴의 특수문자를 만나면 특수문자 양쪽에 공백을 추가\n",
    "    sentence = re.sub(r'[\" \"]+', \" \", sentence)                  # 공백 패턴을 만나면 스페이스 1개로 치환\n",
    "    sentence = re.sub(r\"[^a-zA-Z?.!,¿]+\", \" \", sentence)  # a-zA-Z?.!,¿ 패턴을 제외한 모든 문자(공백문자까지도)를 스페이스 1개로 치환\n",
    "\n",
    "    sentence = sentence.strip()\n",
    "\n",
    "    sentence = '<start> ' + sentence + ' <end>'      # 문장 앞뒤로 <start>와 <end>를 단어처럼 붙여 준다\n",
    "    \n",
    "    return sentence\n",
    "\n",
    "print(preprocess_sentence(\"This @_is ;;;sample        sentence.\"))   # 문장이 어떻게 필터링 됐는지 확인해보자"
   ]
  },
  {
   "cell_type": "code",
   "execution_count": 4,
   "id": "small-tulsa",
   "metadata": {},
   "outputs": [
    {
     "data": {
      "text/plain": [
       "['<start> there s too much confusion , i can t get no relief <end>',\n",
       " '<start> businessmen , they drink my wine , plowmen dig my earth <end>',\n",
       " '<start> no reason to get excited , the thief , he kindly spoke <end>',\n",
       " '<start> all along the watchtower , princes kept the view <end>',\n",
       " '<start> while all the women came and went , barefoot servants , too <end>',\n",
       " '<start> outside in the distance a wildcat did growl <end>',\n",
       " '<start> two riders were approaching , the wind began to howl <end>',\n",
       " '<start> once upon a time you dressed so fine <end>',\n",
       " '<start> you threw the bums a dime in your prime , didn t you ? <end>',\n",
       " '<start> people d call , say , beware doll , you re bound to fall <end>']"
      ]
     },
     "execution_count": 4,
     "metadata": {},
     "output_type": "execute_result"
    }
   ],
   "source": [
    "# 정제 데이터를 완성한다\n",
    "corpus = []\n",
    "\n",
    "for sentence in raw_corpus:\n",
    "    if len(sentence) == 0: continue\n",
    "    if len(sentence.split()) >=12 : continue\n",
    "    if sentence[-1] == \":\": continue  # 문장의 끝이 : 인 문장은 건너뛴다\n",
    "        \n",
    "    corpus.append(preprocess_sentence(sentence))\n",
    "        \n",
    "corpus[:10]"
   ]
  },
  {
   "cell_type": "code",
   "execution_count": 5,
   "id": "italian-bachelor",
   "metadata": {},
   "outputs": [
    {
     "name": "stdout",
     "output_type": "stream",
     "text": [
      "[[   2   62   16 ... 5623    3    0]\n",
      " [   2    1    4 ...    3    0    0]\n",
      " [   2   37  595 ... 1757    3    0]\n",
      " ...\n",
      " [   2    9  156 ...    0    0    0]\n",
      " [   2    8    9 ...    0    0    0]\n",
      " [   2    6 3227 ...    0    0    0]] <keras_preprocessing.text.Tokenizer object at 0x7f8d310fd490>\n"
     ]
    }
   ],
   "source": [
    "# 정제된 데이터를 토큰화하고, 단어 사전을 만들고, 데이터를 숫자로 변환한다.\n",
    "def tokenize(corpus):\n",
    "    # 텐서플로우에서 제공하는 Tokenizer 패키지를 생성\n",
    "    tokenizer = tf.keras.preprocessing.text.Tokenizer(\n",
    "        num_words=12500,  # 전체 단어의 개수 \n",
    "        filters=' ',    # 별도로 전처리 로직을 추가할 수 있지만, 이번에는 사용하지 않는다.\n",
    "        oov_token=\"<unk>\"  # out-of-vocabulary, 사전에 없었던 단어는 어떤 토큰으로 대체할지\n",
    "    )\n",
    "    tokenizer.fit_on_texts(corpus)   # 우리가 구축한 corpus로부터 Tokenizer가 사전을 자동구축하게 된다\n",
    "\n",
    "    # 이후 tokenizer를 활용하여 모델에 입력할 데이터셋을 구축한다\n",
    "    tensor = tokenizer.texts_to_sequences(corpus)   # tokenizer는 구축한 사전으로부터 corpus를 해석해 Tensor로 변환한다.\n",
    "\n",
    "    # 입력 데이터의 시퀀스 길이를 일정하게 맞추기 위한 padding  메소드를 제공한다\n",
    "    # maxlen의 디폴트값은 None이다. 이 경우 corpus의 가장 긴 문장을 기준으로 시퀀스 길이가 맞춰진다.\n",
    "    tensor = tf.keras.preprocessing.sequence.pad_sequences(tensor, padding='post', maxlen=15)  \n",
    "\n",
    "    print(tensor,tokenizer)\n",
    "    return tensor, tokenizer\n",
    "\n",
    "tensor, tokenizer = tokenize(corpus)"
   ]
  },
  {
   "cell_type": "code",
   "execution_count": 6,
   "id": "reduced-portland",
   "metadata": {},
   "outputs": [
    {
     "name": "stdout",
     "output_type": "stream",
     "text": [
      "[[   2   62   16  101  186 2633    4    5   33   15]\n",
      " [   2    1    4   43  488   13  986    4    1 1037]\n",
      " [   2   37  595   10   45 2491    4    6 2237    4]]\n"
     ]
    }
   ],
   "source": [
    "# 생성된 텐서 데이터를 3번째 행부터 10번째 열까지 출력해 보자\n",
    "print(tensor[:3, :10])"
   ]
  },
  {
   "cell_type": "code",
   "execution_count": 7,
   "id": "wanted-peter",
   "metadata": {},
   "outputs": [
    {
     "name": "stdout",
     "output_type": "stream",
     "text": [
      "1 : <unk>\n",
      "2 : <start>\n",
      "3 : <end>\n",
      "4 : ,\n",
      "5 : i\n",
      "6 : the\n",
      "7 : you\n",
      "8 : and\n",
      "9 : a\n",
      "10 : to\n",
      "11 : it\n",
      "12 : me\n",
      "13 : my\n",
      "14 : in\n",
      "15 : t\n"
     ]
    }
   ],
   "source": [
    "# 텐서 데이터는 모두 정수로 이우러져 있는데, 이것은 tokenizer에 구축된 단어 사전의 인덱스다. 단어 사전이 어떻게 구축되었는지 확인을 한번 해보자\n",
    "for idx in tokenizer.index_word:\n",
    "    print(idx, \":\", tokenizer.index_word[idx])\n",
    "\n",
    "    if idx >= 15: break"
   ]
  },
  {
   "cell_type": "code",
   "execution_count": 8,
   "id": "vital-booking",
   "metadata": {},
   "outputs": [
    {
     "name": "stdout",
     "output_type": "stream",
     "text": [
      "[   2   62   16  101  186 2633    4    5   33   15   45   37 5623    3]\n",
      "[  62   16  101  186 2633    4    5   33   15   45   37 5623    3    0]\n"
     ]
    }
   ],
   "source": [
    "# 데이터 패딩 처리\n",
    "src_input = tensor[:, :-1]  # tensor에서 마지막 토큰을 잘라내서 소스 문장을 생성한다. 마지막 토큰은 <end>가 아니라 <pad>일 가능성이 높다.\n",
    "tgt_input = tensor[:, 1:]    # tensor에서 <start>를 잘라내서 타겟 문장을 생성한다.\n",
    "\n",
    "print(src_input[0])\n",
    "print(tgt_input[0])"
   ]
  },
  {
   "cell_type": "code",
   "execution_count": 9,
   "id": "technical-latin",
   "metadata": {},
   "outputs": [],
   "source": [
    "# 데이터셋을 적절하게 나눠준다\n",
    "from sklearn.model_selection import train_test_split\n",
    "enc_train, enc_val, dec_train, dec_val = train_test_split(src_input, \n",
    "                                                          tgt_input,\n",
    "                                                          test_size=0.2,\n",
    "                                                          shuffle=True, \n",
    "                                                          random_state=20)"
   ]
  },
  {
   "cell_type": "code",
   "execution_count": 10,
   "id": "behavioral-chinese",
   "metadata": {},
   "outputs": [
    {
     "name": "stdout",
     "output_type": "stream",
     "text": [
      "Source Train: (121675, 14)\n",
      "Target Train: (121675, 14)\n"
     ]
    }
   ],
   "source": [
    "# 잘 나눠졌는지 확인해 보자\n",
    "print(\"Source Train:\", enc_train.shape)\n",
    "print(\"Target Train:\", dec_train.shape)"
   ]
  },
  {
   "cell_type": "code",
   "execution_count": 11,
   "id": "assumed-processing",
   "metadata": {},
   "outputs": [
    {
     "data": {
      "text/plain": [
       "<BatchDataset shapes: ((512, 14), (512, 14)), types: (tf.int32, tf.int32)>"
      ]
     },
     "execution_count": 11,
     "metadata": {},
     "output_type": "execute_result"
    }
   ],
   "source": [
    "# 데이터셋 객체를 생성한다.\n",
    "BUFFER_SIZE = len(src_input)\n",
    "BATCH_SIZE = 512\n",
    "steps_per_epoch = len(src_input) // BATCH_SIZE\n",
    "\n",
    "VOCAB_SIZE = tokenizer.num_words + 1    # tokenizer가 구축한 단어사전 내 10000개와, 여기 포함되지 않은 0:<pad>를 포함하여 10001개\n",
    "\n",
    "train_dataset = tf.data.Dataset.from_tensor_slices((enc_train, dec_train)).shuffle(BUFFER_SIZE)\n",
    "train_dataset = train_dataset.batch(BATCH_SIZE, drop_remainder = True)\n",
    "train_dataset\n",
    "\n",
    "test_dataset = tf.data.Dataset.from_tensor_slices((enc_val, dec_val)).shuffle(BUFFER_SIZE)\n",
    "test_dataset = test_dataset.batch(BATCH_SIZE, drop_remainder = True)\n",
    "test_dataset"
   ]
  },
  {
   "cell_type": "markdown",
   "id": "twenty-frontier",
   "metadata": {},
   "source": [
    "# 6.3 모델을 생성하고 평가해본다"
   ]
  },
  {
   "cell_type": "code",
   "execution_count": 19,
   "id": "limited-subscription",
   "metadata": {},
   "outputs": [],
   "source": [
    "# 모델 생성 -> 1개의 Embedding 레이어와 2개의 LSTM 레이어 그리고 1개의 Dense 레이어로 구성한다\n",
    "class TextGenerator(tf.keras.Model):\n",
    "    def __init__(self, vocab_size, embedding_size, hidden_size):\n",
    "        super(TextGenerator, self).__init__()\n",
    "        \n",
    "        self.embedding = tf.keras.layers.Embedding(vocab_size, embedding_size)\n",
    "        self.rnn_1 = tf.keras.layers.LSTM(hidden_size, return_sequences=True)\n",
    "        self.rnn_2 = tf.keras.layers.LSTM(hidden_size, return_sequences=True)\n",
    "        self.linear = tf.keras.layers.Dense(vocab_size)\n",
    "        \n",
    "    def call(self, x):\n",
    "        out = self.embedding(x)\n",
    "        out = self.rnn_1(out)\n",
    "        out = self.rnn_2(out)\n",
    "        out = self.linear(out)\n",
    "        \n",
    "        return out\n",
    "    \n",
    "embedding_size = 480\n",
    "hidden_size = 1440\n",
    "model = TextGenerator(tokenizer.num_words + 1, embedding_size , hidden_size)"
   ]
  },
  {
   "cell_type": "code",
   "execution_count": 20,
   "id": "mature-hampshire",
   "metadata": {
    "scrolled": true
   },
   "outputs": [
    {
     "data": {
      "text/plain": [
       "<tf.Tensor: shape=(512, 14, 12501), dtype=float32, numpy=\n",
       "array([[[ 7.83491705e-05, -3.48576723e-05,  5.27777556e-05, ...,\n",
       "         -1.76269474e-04,  3.41932537e-05,  2.44825969e-05],\n",
       "        [-1.26492523e-04,  3.53892479e-04,  2.86619848e-04, ...,\n",
       "          1.14105778e-05,  2.45756091e-04,  2.31883550e-05],\n",
       "        [-1.19324650e-04,  1.48999345e-04,  2.85895454e-04, ...,\n",
       "          2.59513792e-04,  4.75647685e-04, -1.93584696e-04],\n",
       "        ...,\n",
       "        [ 1.74773508e-03,  9.81976395e-04, -1.75179844e-03, ...,\n",
       "          5.14923049e-05,  5.52323414e-04,  6.24860963e-03],\n",
       "        [ 2.11211364e-03,  1.02826010e-03, -1.89271045e-03, ...,\n",
       "          5.42501721e-06,  7.53854343e-04,  6.96561579e-03],\n",
       "        [ 2.45503453e-03,  1.07204798e-03, -1.99964945e-03, ...,\n",
       "         -2.56221265e-05,  9.62811464e-04,  7.60013890e-03]],\n",
       "\n",
       "       [[ 7.83491705e-05, -3.48576723e-05,  5.27777556e-05, ...,\n",
       "         -1.76269474e-04,  3.41932537e-05,  2.44825969e-05],\n",
       "        [ 4.50202380e-04,  3.03066099e-05, -1.63707955e-04, ...,\n",
       "         -1.46934457e-04,  3.51528797e-05, -2.96852784e-04],\n",
       "        [ 6.27734349e-04,  8.62754896e-05, -2.73121230e-04, ...,\n",
       "         -4.08239757e-05,  2.08735597e-04, -2.90117547e-04],\n",
       "        ...,\n",
       "        [ 1.57391420e-03,  1.97024317e-03,  2.80169246e-04, ...,\n",
       "          2.32684379e-03, -2.19487003e-03, -1.67029013e-03],\n",
       "        [ 1.41181424e-03,  1.83058484e-03,  4.55528425e-05, ...,\n",
       "          2.16974341e-03, -2.22168793e-03, -1.07346068e-03],\n",
       "        [ 1.31611864e-03,  1.65616639e-03, -2.32335733e-04, ...,\n",
       "          1.93811173e-03, -2.15742923e-03, -2.34054241e-04]],\n",
       "\n",
       "       [[ 7.83491705e-05, -3.48576723e-05,  5.27777556e-05, ...,\n",
       "         -1.76269474e-04,  3.41932537e-05,  2.44825969e-05],\n",
       "        [-1.39163312e-04, -2.31447280e-04, -1.41138895e-04, ...,\n",
       "         -9.72097623e-05, -2.65543174e-04,  2.86936469e-04],\n",
       "        [-3.70547379e-04, -2.52365455e-04,  2.56259984e-04, ...,\n",
       "          1.39558106e-04, -5.83280169e-04,  3.32303716e-05],\n",
       "        ...,\n",
       "        [ 2.45672796e-04,  7.34550413e-04, -6.86896674e-04, ...,\n",
       "          1.32239109e-03,  5.37081854e-04,  3.47038236e-04],\n",
       "        [ 2.26175020e-04,  7.99739559e-04, -8.20801593e-04, ...,\n",
       "          1.19493180e-03,  5.42849884e-04,  9.73477552e-04],\n",
       "        [ 2.80602660e-04,  8.68738804e-04, -9.79068573e-04, ...,\n",
       "          1.03933213e-03,  5.16371627e-04,  1.78848859e-03]],\n",
       "\n",
       "       ...,\n",
       "\n",
       "       [[ 7.83491705e-05, -3.48576723e-05,  5.27777556e-05, ...,\n",
       "         -1.76269474e-04,  3.41932537e-05,  2.44825969e-05],\n",
       "        [ 2.58529210e-04, -9.88750180e-05, -5.99408959e-05, ...,\n",
       "         -2.72313802e-04, -1.42368381e-05,  1.62842116e-04],\n",
       "        [ 7.04876948e-05, -2.50091194e-04, -8.65446054e-05, ...,\n",
       "         -7.20326439e-04, -5.41505069e-05,  1.23422986e-04],\n",
       "        ...,\n",
       "        [-7.50663923e-04,  2.09970793e-04, -4.01126817e-05, ...,\n",
       "         -4.10274166e-04, -5.72189863e-04,  1.35571114e-03],\n",
       "        [-6.01678330e-04,  1.37714116e-04, -3.25388828e-04, ...,\n",
       "         -4.14107548e-04, -6.98095711e-04,  2.05336069e-03],\n",
       "        [-3.50858347e-04,  9.23860352e-05, -6.31216564e-04, ...,\n",
       "         -4.16833238e-04, -7.45964178e-04,  2.86913430e-03]],\n",
       "\n",
       "       [[ 7.83491705e-05, -3.48576723e-05,  5.27777556e-05, ...,\n",
       "         -1.76269474e-04,  3.41932537e-05,  2.44825969e-05],\n",
       "        [ 1.13339061e-04, -1.22690777e-04,  1.88555365e-04, ...,\n",
       "         -3.58708567e-05, -3.15136160e-04,  6.82663376e-05],\n",
       "        [-5.74666483e-05, -3.53399024e-04,  2.12321247e-05, ...,\n",
       "          1.96422785e-04, -8.15786654e-04,  3.83674225e-04],\n",
       "        ...,\n",
       "        [ 1.19109522e-03,  9.12376330e-04, -2.08569248e-03, ...,\n",
       "         -1.04817314e-04, -4.69528808e-04,  5.69347898e-03],\n",
       "        [ 1.57214038e-03,  9.62426886e-04, -2.25008791e-03, ...,\n",
       "         -1.23812541e-04, -1.79818046e-04,  6.41502347e-03],\n",
       "        [ 1.94191397e-03,  1.00223115e-03, -2.36787298e-03, ...,\n",
       "         -1.31635315e-04,  1.22081212e-04,  7.07456795e-03]],\n",
       "\n",
       "       [[ 7.83491705e-05, -3.48576723e-05,  5.27777556e-05, ...,\n",
       "         -1.76269474e-04,  3.41932537e-05,  2.44825969e-05],\n",
       "        [ 4.46083213e-05, -2.57699488e-04, -8.61848021e-05, ...,\n",
       "         -4.27530540e-05,  1.36840084e-04,  2.88860938e-05],\n",
       "        [-2.10648373e-04, -1.39013500e-04, -1.87740356e-04, ...,\n",
       "         -4.65330144e-04,  4.61219955e-04,  1.37710886e-04],\n",
       "        ...,\n",
       "        [ 1.04943349e-03,  9.09095805e-04, -9.98291303e-04, ...,\n",
       "          1.01793383e-03, -7.54000561e-04,  4.57380898e-03],\n",
       "        [ 1.32712349e-03,  8.38035485e-04, -1.29239773e-03, ...,\n",
       "          9.07584501e-04, -5.46750496e-04,  5.30168368e-03],\n",
       "        [ 1.63385831e-03,  7.89141341e-04, -1.55193626e-03, ...,\n",
       "          7.87652505e-04, -2.87215953e-04,  6.00545993e-03]]],\n",
       "      dtype=float32)>"
      ]
     },
     "execution_count": 20,
     "metadata": {},
     "output_type": "execute_result"
    }
   ],
   "source": [
    "# 모델의 shape을 살펴보자\n",
    "for src_sample, tgt_sample in train_dataset.take(1):\n",
    "    break\n",
    "model(src_sample)"
   ]
  },
  {
   "cell_type": "code",
   "execution_count": 21,
   "id": "wired-cycling",
   "metadata": {},
   "outputs": [
    {
     "name": "stdout",
     "output_type": "stream",
     "text": [
      "Model: \"text_generator_4\"\n",
      "_________________________________________________________________\n",
      "Layer (type)                 Output Shape              Param #   \n",
      "=================================================================\n",
      "embedding_4 (Embedding)      multiple                  6000480   \n",
      "_________________________________________________________________\n",
      "lstm_8 (LSTM)                multiple                  11064960  \n",
      "_________________________________________________________________\n",
      "lstm_9 (LSTM)                multiple                  16594560  \n",
      "_________________________________________________________________\n",
      "dense_4 (Dense)              multiple                  18013941  \n",
      "=================================================================\n",
      "Total params: 51,673,941\n",
      "Trainable params: 51,673,941\n",
      "Non-trainable params: 0\n",
      "_________________________________________________________________\n"
     ]
    }
   ],
   "source": [
    "# 만들어진 모델을 살펴본다\n",
    "model.summary()"
   ]
  },
  {
   "cell_type": "code",
   "execution_count": 22,
   "id": "portuguese-labor",
   "metadata": {},
   "outputs": [
    {
     "name": "stdout",
     "output_type": "stream",
     "text": [
      "WARNING:tensorflow:From <ipython-input-22-ebbdf77b3556>:2: is_gpu_available (from tensorflow.python.framework.test_util) is deprecated and will be removed in a future version.\n",
      "Instructions for updating:\n",
      "Use `tf.config.list_physical_devices('GPU')` instead.\n"
     ]
    },
    {
     "data": {
      "text/plain": [
       "True"
      ]
     },
     "execution_count": 22,
     "metadata": {},
     "output_type": "execute_result"
    }
   ],
   "source": [
    "# GPU가 사용가능 한 상태인지 확인해본다\n",
    "tf.test.is_gpu_available()"
   ]
  },
  {
   "cell_type": "code",
   "execution_count": 23,
   "id": "neither-acceptance",
   "metadata": {},
   "outputs": [
    {
     "name": "stdout",
     "output_type": "stream",
     "text": [
      "✅\n",
      "Epoch 1/10\n",
      "237/237 [==============================] - 109s 461ms/step - loss: 3.5636 - val_loss: 3.1331\n",
      "Epoch 2/10\n",
      "237/237 [==============================] - 109s 461ms/step - loss: 3.0024 - val_loss: 2.9281\n",
      "Epoch 3/10\n",
      "237/237 [==============================] - 110s 465ms/step - loss: 2.8200 - val_loss: 2.7988\n",
      "Epoch 4/10\n",
      "237/237 [==============================] - 110s 464ms/step - loss: 2.6716 - val_loss: 2.7014\n",
      "Epoch 5/10\n",
      "237/237 [==============================] - 107s 453ms/step - loss: 2.5405 - val_loss: 2.6223\n",
      "Epoch 6/10\n",
      "237/237 [==============================] - 108s 455ms/step - loss: 2.4170 - val_loss: 2.5560\n",
      "Epoch 7/10\n",
      "237/237 [==============================] - 110s 464ms/step - loss: 2.3001 - val_loss: 2.4992\n",
      "Epoch 8/10\n",
      "237/237 [==============================] - 110s 463ms/step - loss: 2.1894 - val_loss: 2.4535\n",
      "Epoch 9/10\n",
      "237/237 [==============================] - 111s 467ms/step - loss: 2.0847 - val_loss: 2.4103\n",
      "Epoch 10/10\n",
      "237/237 [==============================] - 111s 469ms/step - loss: 1.9860 - val_loss: 2.3762\n"
     ]
    },
    {
     "data": {
      "text/plain": [
       "'\\nhistory = model.fit(enc_train, \\n          dec_train, \\n          epochs=12,\\n          batch_size=400,\\n          validation_data=(enc_val, dec_val),\\n          verbose=1)\\n'"
      ]
     },
     "execution_count": 23,
     "metadata": {},
     "output_type": "execute_result"
    }
   ],
   "source": [
    "# 훈련 시작\n",
    "optimizer = tf.keras.optimizers.Adam()\n",
    "loss = tf.keras.losses.SparseCategoricalCrossentropy(\n",
    "    from_logits=True,\n",
    "    reduction='none'\n",
    ")\n",
    "print(\"✅\")\n",
    "\n",
    "model.compile(loss=loss, optimizer=optimizer)\n",
    "model.fit(train_dataset, validation_data = test_dataset, epochs=10)\n",
    "\n",
    "'''\n",
    "history = model.fit(enc_train, \n",
    "          dec_train, \n",
    "          epochs=12,\n",
    "          batch_size=400,\n",
    "          validation_data=(enc_val, dec_val),\n",
    "          verbose=1)\n",
    "'''"
   ]
  },
  {
   "cell_type": "markdown",
   "id": "global-campbell",
   "metadata": {},
   "source": [
    "## 6.4 모델 평가"
   ]
  },
  {
   "cell_type": "code",
   "execution_count": 24,
   "id": "located-freeze",
   "metadata": {},
   "outputs": [],
   "source": [
    "def generate_text(model, tokenizer, init_sentence=\"<start>\", max_len=20):\n",
    "    # 테스트를 위해서 입력받은 init_sentence도 일단 텐서로 변환한다.\n",
    "    test_input = tokenizer.texts_to_sequences([init_sentence])\n",
    "    test_tensor = tf.convert_to_tensor(test_input, dtype=tf.int64)\n",
    "    end_token = tokenizer.word_index[\"<end>\"]\n",
    "\n",
    "    # 텍스트를 실제로 생성할때는 루프를 돌면서 단어 하나씩 생성해야 됨\n",
    "    while True:\n",
    "        predict = model(test_tensor)  # 입력받은 문장의 텐서를 입력\n",
    "        predict_word = tf.argmax(tf.nn.softmax(predict, axis=-1), axis=-1)[:, -1]   # 모델이 예측한 마지막 단어가 새롭게 생성한 단어가 됨\n",
    "\n",
    "        # 모델이 새롭게 예측한 단어를 입력 문장의 뒤에 붙여 줌\n",
    "        test_tensor = tf.concat([test_tensor, \n",
    "                                                                 tf.expand_dims(predict_word, axis=0)], axis=-1)\n",
    "\n",
    "        # 우리 모델이 <end>를 예측했거나, max_len에 도달하지 않았다면  while 루프를 또 돌면서 다음 단어를 예측해야 됨\n",
    "        if predict_word.numpy()[0] == end_token: break\n",
    "        if test_tensor.shape[1] >= max_len: break\n",
    "\n",
    "    generated = \"\"\n",
    "    # 생성된 tensor 안에 있는 word index를 tokenizer.index_word 사전을 통해 실제 단어로 하나씩 변환\n",
    "    for word_index in test_tensor[0].numpy():\n",
    "        generated += tokenizer.index_word[word_index] + \" \"\n",
    "\n",
    "    return generated   # 최종적으로 모델이 생성한 자연어 문장"
   ]
  },
  {
   "cell_type": "code",
   "execution_count": 27,
   "id": "urban-electron",
   "metadata": {},
   "outputs": [
    {
     "data": {
      "text/plain": [
       "'<start> i swear to god i aint nervous <end> '"
      ]
     },
     "execution_count": 27,
     "metadata": {},
     "output_type": "execute_result"
    }
   ],
   "source": [
    "generate_text(model, tokenizer, init_sentence=\"<start> I swear\", max_len=20)"
   ]
  },
  {
   "cell_type": "markdown",
   "id": "starting-numbers",
   "metadata": {},
   "source": [
    "## 회고\n",
    "한주가 정말로 빨리간다... 이번 프로젝트에서는 화요일에 진행한 프로젝트와 같은 카테고리에 있는 자연어처리를 진행했는데, 그때는 음성을, 지금은 글을 어떻게 딥러닝모델에 담고 학습을 시키는지를 대략적으로 알게 되었다. 화요일 노드와 달리 이번에는 개념이 어렵지 않았고 복습도 아주 많은 시간을 들이지는 않을 거 같다. 내가 미완성된 문장을 주면 모델이 완성된 문장을 다시 리턴해주는 것과 모델을 다시 만들고 다시 학습을 시키면 리턴된 문장이 매번 달라지는 것이 신기했다. 프로젝트를 진행하면서 딱히 어려운 점은 없었으나, 모델이 무거워서 학습시간이 오래걸렸다. 점심을 먹고 다시 모델을 돌리니 예상시간이 엄청나게 길게 잡혀서 학습을 중단하고 tf.test.is_gpu_available() 명령어로 gpu가 사용가능한 상태인지 확인했더니 flase가 떠서 노트북을 껐다가 켰다. 그랬더니 True가 뜨고 모델이 어느정도 이해가능한?? 수준의 학습속도로 돌아오더라...역시 에러를 해결하는 확실한 방법은 재부팅이 아닐까... 여튼, 루브릭에서 요구하는 모든 평가문항들을 잘 수행했으니 이번에도 3별을 받지 않을까. \n",
    "\n",
    "\"아 그리고 노드에서 \"10 Epoch 안에 val_loss 값을 2.2 수준으로 줄일 수 있는 모델을 설계하세요!\"라고 되어 있는데 프로젝트에서 어딘가 꼬이지 않는 이상은 1 Epoch에 2.2 이하로 내려가는 것을 볼 수 있다.\"<br/>-----> maxlen 값을 설정안해서 loss가 낮게 나온 것이었다. 설정하니까 제대로 2.2까지 천천히 떨어진다."
   ]
  }
 ],
 "metadata": {
  "kernelspec": {
   "display_name": "aiffel",
   "language": "python",
   "name": "aiffel"
  },
  "language_info": {
   "codemirror_mode": {
    "name": "ipython",
    "version": 3
   },
   "file_extension": ".py",
   "mimetype": "text/x-python",
   "name": "python",
   "nbconvert_exporter": "python",
   "pygments_lexer": "ipython3",
   "version": "3.7.9"
  }
 },
 "nbformat": 4,
 "nbformat_minor": 5
}
