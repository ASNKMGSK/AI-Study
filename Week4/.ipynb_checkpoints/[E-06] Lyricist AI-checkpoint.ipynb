{
 "cells": [
  {
   "cell_type": "markdown",
   "id": "caroline-cutting",
   "metadata": {},
   "source": [
    "# 6. 작사가 AI"
   ]
  },
  {
   "cell_type": "markdown",
   "id": "breeding-washington",
   "metadata": {},
   "source": [
    "## 6.1 데이터를 불러오고 확인해본다"
   ]
  },
  {
   "cell_type": "code",
   "execution_count": 1,
   "id": "close-equilibrium",
   "metadata": {},
   "outputs": [
    {
     "name": "stdout",
     "output_type": "stream",
     "text": [
      "데이터 크기: 187088\n",
      "Examples:\n",
      " ['', '\\t\\t\\t“There must be some way out of here,” said the joker to the thief', '“There’s too much confusion, I can’t get no relief']\n"
     ]
    }
   ],
   "source": [
    "# 먼저 프로젝트를 진행하기 전에 아래와 같은 작업이 필요하다\n",
    "# $ wget https://aiffelstaticprd.blob.core.windows.net/media/documents/song_lyrics.zip\n",
    "# $ unzip song_lyrics.zip -d ~/aiffel/lyricist/data/lyrics\n",
    "\n",
    "# 데이터를 읽어온다\n",
    "import glob\n",
    "import os\n",
    "import re\n",
    "import tensorflow as tf\n",
    "import numpy as np\n",
    "\n",
    "txt_file_path = os.getenv('HOME')+'/aiffel/lyricist/data/lyrics/*'\n",
    "\n",
    "txt_list = glob.glob(txt_file_path)\n",
    "\n",
    "raw_corpus = []\n",
    "\n",
    "# 여러개의 txt 파일을 모두 읽어서 raw_corpus 에 담는다\n",
    "for txt_file in txt_list:\n",
    "    with open(txt_file, \"r\") as f:\n",
    "        raw = f.read().splitlines()\n",
    "        raw_corpus.extend(raw)\n",
    "\n",
    "print(\"데이터 크기:\", len(raw_corpus))\n",
    "print(\"Examples:\\n\", raw_corpus[:3])"
   ]
  },
  {
   "cell_type": "code",
   "execution_count": 2,
   "id": "dressed-nelson",
   "metadata": {},
   "outputs": [
    {
     "name": "stdout",
     "output_type": "stream",
     "text": [
      "\t\t\t“There must be some way out of here,” said the joker to the thief\n",
      "“There’s too much confusion, I can’t get no relief\n",
      "Businessmen, they drink my wine, plowmen dig my earth\n",
      "None of them along the line know what any of it is worth”\n",
      "“No reason to get excited,” the thief, he kindly spoke\n",
      "“There are many here among us who feel that life is but a joke\n",
      "But you and I, we’ve been through that, and this is not our fate\n",
      "So let us not talk falsely now, the hour is getting late”\n"
     ]
    }
   ],
   "source": [
    "# 문장이 어떤 것이 있는지 확인해보자\n",
    "for idx, sentence in enumerate(raw_corpus):\n",
    "    if len(sentence) == 0: continue   # 길이가 0인 문장은 건너뛴다.\n",
    "    if sentence[-1] == \":\": continue  # 문장의 끝이 : 인 문장은 건너뛴다.\n",
    "\n",
    "    if idx > 10: break   # 문장 10개를 확인해보자\n",
    "        \n",
    "    print(sentence)"
   ]
  },
  {
   "cell_type": "markdown",
   "id": "automotive-fight",
   "metadata": {},
   "source": [
    "## 6.2 데이터를 전처리한다"
   ]
  },
  {
   "cell_type": "code",
   "execution_count": 3,
   "id": "thirty-thong",
   "metadata": {},
   "outputs": [
    {
     "name": "stdout",
     "output_type": "stream",
     "text": [
      "<start> this is sample sentence . <end>\n"
     ]
    }
   ],
   "source": [
    "# 토큰화하기 전에 정규표현식을 이용해서 문장을 필터링 해주는 함수를 만든다\n",
    "def preprocess_sentence(sentence):\n",
    "    sentence = sentence.lower().strip()       # 소문자로 바꾸고 양쪽 공백을 삭제\n",
    "  \n",
    "    # 아래 3단계를 거쳐 sentence는 스페이스 1개를 delimeter로 하는 소문자 단어 시퀀스로 바뀐다\n",
    "    sentence = re.sub(r\"([?.!,¿])\", r\" \\1 \", sentence)        # 패턴의 특수문자를 만나면 특수문자 양쪽에 공백을 추가\n",
    "    sentence = re.sub(r'[\" \"]+', \" \", sentence)                  # 공백 패턴을 만나면 스페이스 1개로 치환\n",
    "    sentence = re.sub(r\"[^a-zA-Z?.!,¿]+\", \" \", sentence)  # a-zA-Z?.!,¿ 패턴을 제외한 모든 문자(공백문자까지도)를 스페이스 1개로 치환\n",
    "\n",
    "    sentence = sentence.strip()\n",
    "\n",
    "    sentence = '<start> ' + sentence + ' <end>'      # 문장 앞뒤로 <start>와 <end>를 단어처럼 붙여 준다\n",
    "    \n",
    "    return sentence\n",
    "\n",
    "print(preprocess_sentence(\"This @_is ;;;sample        sentence.\"))   # 문장이 어떻게 필터링 됐는지 확인해보자"
   ]
  },
  {
   "cell_type": "code",
   "execution_count": 4,
   "id": "engaging-event",
   "metadata": {},
   "outputs": [
    {
     "data": {
      "text/plain": [
       "['<start> there s too much confusion , i can t get no relief <end>',\n",
       " '<start> businessmen , they drink my wine , plowmen dig my earth <end>',\n",
       " '<start> no reason to get excited , the thief , he kindly spoke <end>',\n",
       " '<start> all along the watchtower , princes kept the view <end>',\n",
       " '<start> while all the women came and went , barefoot servants , too <end>',\n",
       " '<start> outside in the distance a wildcat did growl <end>',\n",
       " '<start> two riders were approaching , the wind began to howl <end>',\n",
       " '<start> once upon a time you dressed so fine <end>',\n",
       " '<start> you threw the bums a dime in your prime , didn t you ? <end>',\n",
       " '<start> people d call , say , beware doll , you re bound to fall <end>']"
      ]
     },
     "execution_count": 4,
     "metadata": {},
     "output_type": "execute_result"
    }
   ],
   "source": [
    "# 정제 데이터를 완성한다\n",
    "corpus = []\n",
    "\n",
    "for sentence in raw_corpus:\n",
    "    if len(sentence) == 0: continue\n",
    "    if len(sentence.split()) >=12 : continue\n",
    "    if sentence[-1] == \":\": continue  # 문장의 끝이 : 인 문장은 건너뛴다\n",
    "        \n",
    "    corpus.append(preprocess_sentence(sentence))\n",
    "        \n",
    "corpus[:10]"
   ]
  },
  {
   "cell_type": "code",
   "execution_count": 5,
   "id": "urban-arlington",
   "metadata": {},
   "outputs": [
    {
     "name": "stdout",
     "output_type": "stream",
     "text": [
      "[[   2   62   16 ... 5623    3    0]\n",
      " [   2    1    4 ...    3    0    0]\n",
      " [   2   37  595 ... 1757    3    0]\n",
      " ...\n",
      " [   2    9  156 ...    0    0    0]\n",
      " [   2    8    9 ...    0    0    0]\n",
      " [   2    6 3227 ...    0    0    0]] <keras_preprocessing.text.Tokenizer object at 0x7f89bfd28410>\n"
     ]
    }
   ],
   "source": [
    "# 정제된 데이터를 토큰화하고, 단어 사전을 만들고, 데이터를 숫자로 변환한다.\n",
    "def tokenize(corpus):\n",
    "    # 텐서플로우에서 제공하는 Tokenizer 패키지를 생성\n",
    "    tokenizer = tf.keras.preprocessing.text.Tokenizer(\n",
    "        num_words=12500,  # 전체 단어의 개수 \n",
    "        filters=' ',    # 별도로 전처리 로직을 추가할 수 있지만, 이번에는 사용하지 않는다.\n",
    "        oov_token=\"<unk>\"  # out-of-vocabulary, 사전에 없었던 단어는 어떤 토큰으로 대체할지\n",
    "    )\n",
    "    tokenizer.fit_on_texts(corpus)   # 우리가 구축한 corpus로부터 Tokenizer가 사전을 자동구축하게 된다\n",
    "\n",
    "    # 이후 tokenizer를 활용하여 모델에 입력할 데이터셋을 구축한다\n",
    "    tensor = tokenizer.texts_to_sequences(corpus)   # tokenizer는 구축한 사전으로부터 corpus를 해석해 Tensor로 변환한다.\n",
    "\n",
    "    # 입력 데이터의 시퀀스 길이를 일정하게 맞추기 위한 padding  메소드를 제공한다\n",
    "    # maxlen의 디폴트값은 None이다. 이 경우 corpus의 가장 긴 문장을 기준으로 시퀀스 길이가 맞춰진다.\n",
    "    tensor = tf.keras.preprocessing.sequence.pad_sequences(tensor, padding='post', maxlen=15)  \n",
    "\n",
    "    print(tensor,tokenizer)\n",
    "    return tensor, tokenizer\n",
    "\n",
    "tensor, tokenizer = tokenize(corpus)"
   ]
  },
  {
   "cell_type": "code",
   "execution_count": 6,
   "id": "regulation-harris",
   "metadata": {},
   "outputs": [
    {
     "name": "stdout",
     "output_type": "stream",
     "text": [
      "[[   2   62   16  101  186 2633    4    5   33   15]\n",
      " [   2    1    4   43  488   13  986    4    1 1037]\n",
      " [   2   37  595   10   45 2491    4    6 2237    4]]\n"
     ]
    }
   ],
   "source": [
    "# 생성된 텐서 데이터를 3번째 행부터 10번째 열까지 출력해 보자\n",
    "print(tensor[:3, :10])"
   ]
  },
  {
   "cell_type": "code",
   "execution_count": 7,
   "id": "desperate-remark",
   "metadata": {},
   "outputs": [
    {
     "name": "stdout",
     "output_type": "stream",
     "text": [
      "1 : <unk>\n",
      "2 : <start>\n",
      "3 : <end>\n",
      "4 : ,\n",
      "5 : i\n",
      "6 : the\n",
      "7 : you\n",
      "8 : and\n",
      "9 : a\n",
      "10 : to\n",
      "11 : it\n",
      "12 : me\n",
      "13 : my\n",
      "14 : in\n",
      "15 : t\n"
     ]
    }
   ],
   "source": [
    "# 텐서 데이터는 모두 정수로 이우러져 있는데, 이것은 tokenizer에 구축된 단어 사전의 인덱스다. 단어 사전이 어떻게 구축되었는지 확인을 한번 해보자\n",
    "for idx in tokenizer.index_word:\n",
    "    print(idx, \":\", tokenizer.index_word[idx])\n",
    "\n",
    "    if idx >= 15: break"
   ]
  },
  {
   "cell_type": "code",
   "execution_count": 8,
   "id": "fifty-comfort",
   "metadata": {},
   "outputs": [
    {
     "name": "stdout",
     "output_type": "stream",
     "text": [
      "[   2   62   16  101  186 2633    4    5   33   15   45   37 5623    3]\n",
      "[  62   16  101  186 2633    4    5   33   15   45   37 5623    3    0]\n"
     ]
    }
   ],
   "source": [
    "# 데이터 패딩 처리\n",
    "src_input = tensor[:, :-1]  # tensor에서 마지막 토큰을 잘라내서 소스 문장을 생성한다. 마지막 토큰은 <end>가 아니라 <pad>일 가능성이 높다.\n",
    "tgt_input = tensor[:, 1:]    # tensor에서 <start>를 잘라내서 타겟 문장을 생성한다.\n",
    "\n",
    "print(src_input[0])\n",
    "print(tgt_input[0])"
   ]
  },
  {
   "cell_type": "code",
   "execution_count": 9,
   "id": "protecting-latter",
   "metadata": {},
   "outputs": [],
   "source": [
    "# 데이터셋을 적절하게 나눠준다\n",
    "from sklearn.model_selection import train_test_split\n",
    "enc_train, enc_val, dec_train, dec_val = train_test_split(src_input, \n",
    "                                                          tgt_input,\n",
    "                                                          test_size=0.2,\n",
    "                                                          shuffle=True, \n",
    "                                                          random_state=20)"
   ]
  },
  {
   "cell_type": "code",
   "execution_count": 10,
   "id": "unknown-characteristic",
   "metadata": {},
   "outputs": [
    {
     "name": "stdout",
     "output_type": "stream",
     "text": [
      "Source Train: (121675, 14)\n",
      "Target Train: (121675, 14)\n"
     ]
    }
   ],
   "source": [
    "# 잘 나눠졌는지 확인해 보자\n",
    "print(\"Source Train:\", enc_train.shape)\n",
    "print(\"Target Train:\", dec_train.shape)"
   ]
  },
  {
   "cell_type": "code",
   "execution_count": 11,
   "id": "sticky-membrane",
   "metadata": {},
   "outputs": [
    {
     "data": {
      "text/plain": [
       "<BatchDataset shapes: ((512, 14), (512, 14)), types: (tf.int32, tf.int32)>"
      ]
     },
     "execution_count": 11,
     "metadata": {},
     "output_type": "execute_result"
    }
   ],
   "source": [
    "# 데이터셋 객체를 생성한다.\n",
    "BUFFER_SIZE = len(src_input)\n",
    "BATCH_SIZE = 512\n",
    "steps_per_epoch = len(src_input) // BATCH_SIZE\n",
    "\n",
    "VOCAB_SIZE = tokenizer.num_words + 1    # tokenizer가 구축한 단어사전 내 10000개와, 여기 포함되지 않은 0:<pad>를 포함하여 10001개\n",
    "\n",
    "train_dataset = tf.data.Dataset.from_tensor_slices((enc_train, dec_train)).shuffle(BUFFER_SIZE)\n",
    "train_dataset = train_dataset.batch(BATCH_SIZE, drop_remainder = True)\n",
    "train_dataset\n",
    "\n",
    "test_dataset = tf.data.Dataset.from_tensor_slices((enc_val, dec_val)).shuffle(BUFFER_SIZE)\n",
    "test_dataset = test_dataset.batch(BATCH_SIZE, drop_remainder = True)\n",
    "test_dataset"
   ]
  },
  {
   "cell_type": "markdown",
   "id": "controversial-secretariat",
   "metadata": {},
   "source": [
    "# 6.3 모델을 생성하고 평가해본다"
   ]
  },
  {
   "cell_type": "code",
   "execution_count": 12,
   "id": "trained-dispute",
   "metadata": {},
   "outputs": [],
   "source": [
    "# 모델 생성 -> 1개의 Embedding 레이어와 2개의 LSTM 레이어 그리고 1개의 Dense 레이어로 구성한다\n",
    "class TextGenerator(tf.keras.Model):\n",
    "    def __init__(self, vocab_size, embedding_size, hidden_size):\n",
    "        super(TextGenerator, self).__init__()\n",
    "        \n",
    "        self.embedding = tf.keras.layers.Embedding(vocab_size, embedding_size)\n",
    "        self.rnn_1 = tf.keras.layers.LSTM(hidden_size, return_sequences=True)\n",
    "        self.rnn_2 = tf.keras.layers.LSTM(hidden_size, return_sequences=True)\n",
    "        self.linear = tf.keras.layers.Dense(vocab_size)\n",
    "        \n",
    "    def call(self, x):\n",
    "        out = self.embedding(x)\n",
    "        out = self.rnn_1(out)\n",
    "        out = self.rnn_2(out)\n",
    "        out = self.linear(out)\n",
    "        \n",
    "        return out\n",
    "    \n",
    "embedding_size = 320\n",
    "hidden_size = 1200\n",
    "model = TextGenerator(tokenizer.num_words + 1, embedding_size , hidden_size)"
   ]
  },
  {
   "cell_type": "code",
   "execution_count": 13,
   "id": "still-composer",
   "metadata": {
    "scrolled": true
   },
   "outputs": [
    {
     "data": {
      "text/plain": [
       "<tf.Tensor: shape=(512, 14, 12501), dtype=float32, numpy=\n",
       "array([[[ 4.22111953e-05,  1.96412348e-05,  1.55454371e-04, ...,\n",
       "          1.65274876e-04,  1.07805652e-04,  9.58852106e-05],\n",
       "        [ 9.79740526e-06, -6.24692038e-05,  4.36051014e-05, ...,\n",
       "          1.59707619e-04,  2.40947091e-04, -4.65280027e-06],\n",
       "        [ 1.28379746e-04, -7.76436136e-05, -1.30562394e-05, ...,\n",
       "          2.44126655e-04,  4.77748516e-04, -6.05824243e-05],\n",
       "        ...,\n",
       "        [ 1.11867755e-03,  6.28407637e-04,  1.39923720e-03, ...,\n",
       "          5.52280981e-04, -7.47381186e-04, -4.95629618e-04],\n",
       "        [ 1.31207157e-03,  2.18320638e-04,  1.53708097e-03, ...,\n",
       "          6.27816829e-04, -8.92857322e-04, -1.05425308e-03],\n",
       "        [ 1.50825840e-03, -2.09532183e-04,  1.68128242e-03, ...,\n",
       "          6.25270419e-04, -9.62435093e-04, -1.65062514e-03]],\n",
       "\n",
       "       [[ 4.22111953e-05,  1.96412348e-05,  1.55454371e-04, ...,\n",
       "          1.65274876e-04,  1.07805652e-04,  9.58852106e-05],\n",
       "        [ 1.24366736e-04,  9.25731001e-06,  2.09483769e-04, ...,\n",
       "         -7.94110092e-05,  1.76917732e-04,  1.21716294e-04],\n",
       "        [-7.53463246e-05,  9.90004482e-05,  3.53700569e-04, ...,\n",
       "         -5.11949183e-04,  2.75811850e-04,  1.62986500e-04],\n",
       "        ...,\n",
       "        [ 7.91672966e-04, -5.27329859e-04,  9.72030160e-04, ...,\n",
       "          3.14011239e-04, -7.14158232e-04, -1.81798975e-03],\n",
       "        [ 9.88937099e-04, -8.29433848e-04,  1.18993258e-03, ...,\n",
       "          3.19810206e-04, -7.42637843e-04, -2.41449731e-03],\n",
       "        [ 1.17790699e-03, -1.10843033e-03,  1.42595300e-03, ...,\n",
       "          2.57612584e-04, -7.32263841e-04, -2.97575304e-03]],\n",
       "\n",
       "       [[ 4.22111953e-05,  1.96412348e-05,  1.55454371e-04, ...,\n",
       "          1.65274876e-04,  1.07805652e-04,  9.58852106e-05],\n",
       "        [ 2.36949272e-04, -1.44311460e-04,  1.62795513e-05, ...,\n",
       "          3.49935319e-04,  1.23329664e-04,  1.15955037e-04],\n",
       "        [ 3.74618918e-04,  2.72853904e-05,  1.57455815e-05, ...,\n",
       "          4.20927507e-04,  3.05598514e-04,  6.65644693e-05],\n",
       "        ...,\n",
       "        [-6.79995283e-04, -1.96139305e-03, -7.69781996e-04, ...,\n",
       "         -9.91463239e-05, -2.60329223e-04,  9.42936284e-04],\n",
       "        [-7.01888872e-04, -1.68299221e-03, -5.65053313e-04, ...,\n",
       "          5.71612618e-05, -6.55644864e-04,  9.37907374e-04],\n",
       "        [-6.08837639e-04, -1.60438276e-03, -3.06817645e-04, ...,\n",
       "          1.72942440e-04, -9.63405473e-04,  5.97790058e-04]],\n",
       "\n",
       "       ...,\n",
       "\n",
       "       [[ 4.22111953e-05,  1.96412348e-05,  1.55454371e-04, ...,\n",
       "          1.65274876e-04,  1.07805652e-04,  9.58852106e-05],\n",
       "        [-6.36331315e-05, -5.05246644e-05,  5.72935423e-05, ...,\n",
       "          2.10072831e-04,  1.34079761e-04,  5.63416863e-04],\n",
       "        [ 3.81427549e-06, -7.95717424e-05, -8.41066430e-05, ...,\n",
       "          1.07679829e-04,  1.05907013e-04,  6.21614337e-04],\n",
       "        ...,\n",
       "        [ 3.96732539e-05, -8.63846042e-04,  7.88407924e-04, ...,\n",
       "         -1.60998403e-04, -9.28578200e-04, -2.43381271e-03],\n",
       "        [ 3.18242004e-04, -1.11249730e-03,  1.09189318e-03, ...,\n",
       "         -9.95005248e-05, -9.74533905e-04, -3.02727357e-03],\n",
       "        [ 5.84659749e-04, -1.33175286e-03,  1.39469618e-03, ...,\n",
       "         -9.55787109e-05, -9.64058971e-04, -3.55744408e-03]],\n",
       "\n",
       "       [[ 4.22111953e-05,  1.96412348e-05,  1.55454371e-04, ...,\n",
       "          1.65274876e-04,  1.07805652e-04,  9.58852106e-05],\n",
       "        [-3.78016994e-05, -1.91712243e-04,  3.08751769e-04, ...,\n",
       "          3.44525499e-04, -1.23837395e-04,  9.93397261e-05],\n",
       "        [-7.91113634e-05, -1.26011742e-04,  5.01250441e-04, ...,\n",
       "          1.65790756e-04,  3.84063605e-05, -4.40981938e-04],\n",
       "        ...,\n",
       "        [ 7.19135744e-04,  2.68245960e-04,  6.93833805e-04, ...,\n",
       "          9.93284280e-04, -5.60705783e-04, -1.38783245e-03],\n",
       "        [ 9.21695028e-04, -5.79237894e-05,  1.03823084e-03, ...,\n",
       "          9.58980643e-04, -5.68480697e-04, -1.90135010e-03],\n",
       "        [ 1.11865299e-03, -3.93273396e-04,  1.36859587e-03, ...,\n",
       "          8.60231230e-04, -5.28476608e-04, -2.42340262e-03]],\n",
       "\n",
       "       [[ 4.22111953e-05,  1.96412348e-05,  1.55454371e-04, ...,\n",
       "          1.65274876e-04,  1.07805652e-04,  9.58852106e-05],\n",
       "        [ 2.59437074e-04, -1.46704726e-04,  4.71226755e-04, ...,\n",
       "          4.90739592e-04,  3.09078954e-04,  1.36791947e-04],\n",
       "        [ 2.71019991e-04, -8.10295533e-05,  2.94433790e-04, ...,\n",
       "          7.10703665e-04,  3.32200289e-04,  2.68595788e-04],\n",
       "        ...,\n",
       "        [ 1.56831602e-03, -8.09673278e-04,  1.16539700e-03, ...,\n",
       "          3.45742970e-04,  8.99069564e-05, -1.73588702e-03],\n",
       "        [ 1.71819772e-03, -1.09327980e-03,  1.46011089e-03, ...,\n",
       "          2.44400610e-04,  6.60451769e-05, -2.35696789e-03],\n",
       "        [ 1.85001269e-03, -1.35238247e-03,  1.74894219e-03, ...,\n",
       "          1.21258716e-04,  5.57608728e-05, -2.93676928e-03]]],\n",
       "      dtype=float32)>"
      ]
     },
     "execution_count": 13,
     "metadata": {},
     "output_type": "execute_result"
    }
   ],
   "source": [
    "# 모델의 shape을 살펴보자\n",
    "for src_sample, tgt_sample in train_dataset.take(1):\n",
    "    break\n",
    "model(src_sample)"
   ]
  },
  {
   "cell_type": "code",
   "execution_count": 14,
   "id": "associate-powell",
   "metadata": {},
   "outputs": [
    {
     "name": "stdout",
     "output_type": "stream",
     "text": [
      "Model: \"text_generator\"\n",
      "_________________________________________________________________\n",
      "Layer (type)                 Output Shape              Param #   \n",
      "=================================================================\n",
      "embedding (Embedding)        multiple                  4000320   \n",
      "_________________________________________________________________\n",
      "lstm (LSTM)                  multiple                  7300800   \n",
      "_________________________________________________________________\n",
      "lstm_1 (LSTM)                multiple                  11524800  \n",
      "_________________________________________________________________\n",
      "dense (Dense)                multiple                  15013701  \n",
      "=================================================================\n",
      "Total params: 37,839,621\n",
      "Trainable params: 37,839,621\n",
      "Non-trainable params: 0\n",
      "_________________________________________________________________\n"
     ]
    }
   ],
   "source": [
    "# 만들어진 모델을 살펴본다\n",
    "model.summary()"
   ]
  },
  {
   "cell_type": "code",
   "execution_count": 15,
   "id": "knowing-dylan",
   "metadata": {},
   "outputs": [
    {
     "name": "stdout",
     "output_type": "stream",
     "text": [
      "WARNING:tensorflow:From <ipython-input-15-ebbdf77b3556>:2: is_gpu_available (from tensorflow.python.framework.test_util) is deprecated and will be removed in a future version.\n",
      "Instructions for updating:\n",
      "Use `tf.config.list_physical_devices('GPU')` instead.\n"
     ]
    },
    {
     "data": {
      "text/plain": [
       "True"
      ]
     },
     "execution_count": 15,
     "metadata": {},
     "output_type": "execute_result"
    }
   ],
   "source": [
    "# GPU가 사용가능 한 상태인지 확인해본다\n",
    "tf.test.is_gpu_available()"
   ]
  },
  {
   "cell_type": "code",
   "execution_count": 16,
   "id": "active-belize",
   "metadata": {},
   "outputs": [
    {
     "name": "stdout",
     "output_type": "stream",
     "text": [
      "✅\n",
      "Epoch 1/10\n",
      "237/237 [==============================] - 83s 351ms/step - loss: 3.6365 - val_loss: 3.2257\n",
      "Epoch 2/10\n",
      "237/237 [==============================] - 86s 365ms/step - loss: 3.0968 - val_loss: 3.0113\n",
      "Epoch 3/10\n",
      "237/237 [==============================] - 84s 355ms/step - loss: 2.9218 - val_loss: 2.8963\n",
      "Epoch 4/10\n",
      "237/237 [==============================] - 87s 368ms/step - loss: 2.8003 - val_loss: 2.8104\n",
      "Epoch 5/10\n",
      "237/237 [==============================] - 83s 349ms/step - loss: 2.6949 - val_loss: 2.7431\n",
      "Epoch 6/10\n",
      "237/237 [==============================] - 83s 350ms/step - loss: 2.6053 - val_loss: 2.6885\n",
      "Epoch 7/10\n",
      "237/237 [==============================] - 83s 350ms/step - loss: 2.5235 - val_loss: 2.6433\n",
      "Epoch 8/10\n",
      "237/237 [==============================] - 82s 344ms/step - loss: 2.4483 - val_loss: 2.6053\n",
      "Epoch 9/10\n",
      "237/237 [==============================] - 81s 343ms/step - loss: 2.3772 - val_loss: 2.5712\n",
      "Epoch 10/10\n",
      "237/237 [==============================] - 81s 343ms/step - loss: 2.3096 - val_loss: 2.5367\n"
     ]
    },
    {
     "data": {
      "text/plain": [
       "'\\nhistory = model.fit(enc_train, \\n          dec_train, \\n          epochs=12,\\n          batch_size=400,\\n          validation_data=(enc_val, dec_val),\\n          verbose=1)\\n'"
      ]
     },
     "execution_count": 16,
     "metadata": {},
     "output_type": "execute_result"
    }
   ],
   "source": [
    "# 훈련 시작\n",
    "optimizer = tf.keras.optimizers.Adam()\n",
    "loss = tf.keras.losses.SparseCategoricalCrossentropy(\n",
    "    from_logits=True,\n",
    "    reduction='none'\n",
    ")\n",
    "print(\"✅\")\n",
    "\n",
    "model.compile(loss=loss, optimizer=optimizer)\n",
    "model.fit(train_dataset, validation_data = test_dataset, epochs=10)\n",
    "\n",
    "'''\n",
    "history = model.fit(enc_train, \n",
    "          dec_train, \n",
    "          epochs=12,\n",
    "          batch_size=400,\n",
    "          validation_data=(enc_val, dec_val),\n",
    "          verbose=1)\n",
    "'''"
   ]
  },
  {
   "cell_type": "markdown",
   "id": "improved-coach",
   "metadata": {},
   "source": [
    "## 6.4 모델 평가"
   ]
  },
  {
   "cell_type": "code",
   "execution_count": null,
   "id": "descending-excess",
   "metadata": {},
   "outputs": [],
   "source": [
    "def generate_text(model, tokenizer, init_sentence=\"<start>\", max_len=20):\n",
    "    # 테스트를 위해서 입력받은 init_sentence도 일단 텐서로 변환한다.\n",
    "    test_input = tokenizer.texts_to_sequences([init_sentence])\n",
    "    test_tensor = tf.convert_to_tensor(test_input, dtype=tf.int64)\n",
    "    end_token = tokenizer.word_index[\"<end>\"]\n",
    "\n",
    "    # 텍스트를 실제로 생성할때는 루프를 돌면서 단어 하나씩 생성해야 됨\n",
    "    while True:\n",
    "        predict = model(test_tensor)  # 입력받은 문장의 텐서를 입력\n",
    "        predict_word = tf.argmax(tf.nn.softmax(predict, axis=-1), axis=-1)[:, -1]   # 모델이 예측한 마지막 단어가 새롭게 생성한 단어가 됨\n",
    "\n",
    "        # 모델이 새롭게 예측한 단어를 입력 문장의 뒤에 붙여 줌\n",
    "        test_tensor = tf.concat([test_tensor, \n",
    "                                                                 tf.expand_dims(predict_word, axis=0)], axis=-1)\n",
    "\n",
    "        # 우리 모델이 <end>를 예측했거나, max_len에 도달하지 않았다면  while 루프를 또 돌면서 다음 단어를 예측해야 됨\n",
    "        if predict_word.numpy()[0] == end_token: break\n",
    "        if test_tensor.shape[1] >= max_len: break\n",
    "\n",
    "    generated = \"\"\n",
    "    # 생성된 tensor 안에 있는 word index를 tokenizer.index_word 사전을 통해 실제 단어로 하나씩 변환\n",
    "    for word_index in test_tensor[0].numpy():\n",
    "        generated += tokenizer.index_word[word_index] + \" \"\n",
    "\n",
    "    return generated   # 최종적으로 모델이 생성한 자연어 문장"
   ]
  },
  {
   "cell_type": "code",
   "execution_count": null,
   "id": "optional-davis",
   "metadata": {},
   "outputs": [],
   "source": [
    "generate_text(model, tokenizer, init_sentence=\"<start> I love\", max_len=20)"
   ]
  },
  {
   "cell_type": "markdown",
   "id": "polished-cleanup",
   "metadata": {},
   "source": [
    "## 회고\n",
    "한주가 정말로 빨리간다... 이번 프로젝트에서는 화요일에 진행한 프로젝트와 같은 카테고리에 있는 자연어처리를 진행했는데, 그때는 음성을, 지금은 글을 어떻게 딥러닝모델에 담고 학습을 시키는지를 대략적으로 알게 되었다. 화요일 노드와 달리 이번에는 개념이 어렵지 않았고 복습도 아주 많은 시간을 들이지는 않을 거 같다. 내가 미완성된 문장을 주면 모델이 완성된 문장을 다시 리턴해주는 것과 모델을 다시 만들고 다시 학습을 시키면 리턴된 문장이 매번 달라지는 것이 신기했다. 프로젝트를 진행하면서 딱히 어려운 점은 없었으나, 모델이 무거워서 학습시간이 오래걸렸다. 점심을 먹고 다시 모델을 돌리니 예상시간이 엄청나게 길게 잡혀서 학습을 중단하고 tf.test.is_gpu_available() 명령어로 gpu가 사용가능한 상태인지 확인했더니 flase가 떠서 노트북을 껐다가 켰다. 그랬더니 True가 뜨고 모델이 어느정도 이해가능한?? 수준의 학습속도로 돌아오더라...역시 에러를 해결하는 확실한 방법은 재부팅이 아닐까... 여튼, 루브릭에서 요구하는 모든 평가문항들을 잘 수행했으니 이번에도 3별을 받지 않을까. \n",
    "\n",
    "\"아 그리고 노드에서 \"10 Epoch 안에 val_loss 값을 2.2 수준으로 줄일 수 있는 모델을 설계하세요!\"라고 되어 있는데 프로젝트에서 어딘가 꼬이지 않는 이상은 1 Epoch에 2.2 이하로 내려가는 것을 볼 수 있다.\"\n",
    "-----> maxlen 값을 설정안해서 loss가 낮게 나온 것이었다. 설정하니까 제대로 2.2까지 천천히 떨어진다."
   ]
  },
  {
   "cell_type": "code",
   "execution_count": null,
   "id": "finite-commerce",
   "metadata": {},
   "outputs": [],
   "source": []
  }
 ],
 "metadata": {
  "kernelspec": {
   "display_name": "aiffel",
   "language": "python",
   "name": "aiffel"
  },
  "language_info": {
   "codemirror_mode": {
    "name": "ipython",
    "version": 3
   },
   "file_extension": ".py",
   "mimetype": "text/x-python",
   "name": "python",
   "nbconvert_exporter": "python",
   "pygments_lexer": "ipython3",
   "version": "3.7.9"
  }
 },
 "nbformat": 4,
 "nbformat_minor": 5
}
