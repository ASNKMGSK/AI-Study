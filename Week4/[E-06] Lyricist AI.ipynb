{
 "cells": [
  {
   "cell_type": "markdown",
   "id": "encouraging-electric",
   "metadata": {},
   "source": [
    "# 6. 작사가 AI"
   ]
  },
  {
   "cell_type": "markdown",
   "id": "critical-auction",
   "metadata": {},
   "source": [
    "## 6.1 데이터를 불러오고 확인해본다"
   ]
  },
  {
   "cell_type": "code",
   "execution_count": 1,
   "id": "micro-guitar",
   "metadata": {},
   "outputs": [
    {
     "name": "stdout",
     "output_type": "stream",
     "text": [
      "데이터 크기: 187088\n",
      "Examples:\n",
      " ['', '\\t\\t\\t“There must be some way out of here,” said the joker to the thief', '“There’s too much confusion, I can’t get no relief']\n"
     ]
    }
   ],
   "source": [
    "# 먼저 프로젝트를 진행하기 전에 아래과 같음 작업이 필요하다\n",
    "# $ wget https://aiffelstaticprd.blob.core.windows.net/media/documents/song_lyrics.zip\n",
    "# $ unzip song_lyrics.zip -d ~/aiffel/lyricist/data/lyrics\n",
    "\n",
    "# 데이터를 읽어온다\n",
    "import glob\n",
    "import os\n",
    "import re\n",
    "import tensorflow as tf\n",
    "import numpy as np\n",
    "\n",
    "txt_file_path = os.getenv('HOME')+'/aiffel/lyricist/data/lyrics/*'\n",
    "\n",
    "txt_list = glob.glob(txt_file_path)\n",
    "\n",
    "raw_corpus = []\n",
    "\n",
    "# 여러개의 txt 파일을 모두 읽어서 raw_corpus 에 담는다\n",
    "for txt_file in txt_list:\n",
    "    with open(txt_file, \"r\") as f:\n",
    "        raw = f.read().splitlines()\n",
    "        raw_corpus.extend(raw)\n",
    "\n",
    "print(\"데이터 크기:\", len(raw_corpus))\n",
    "print(\"Examples:\\n\", raw_corpus[:3])"
   ]
  },
  {
   "cell_type": "code",
   "execution_count": 2,
   "id": "harmful-handbook",
   "metadata": {},
   "outputs": [
    {
     "name": "stdout",
     "output_type": "stream",
     "text": [
      "\t\t\t“There must be some way out of here,” said the joker to the thief\n",
      "“There’s too much confusion, I can’t get no relief\n",
      "Businessmen, they drink my wine, plowmen dig my earth\n",
      "None of them along the line know what any of it is worth”\n",
      "“No reason to get excited,” the thief, he kindly spoke\n",
      "“There are many here among us who feel that life is but a joke\n",
      "But you and I, we’ve been through that, and this is not our fate\n",
      "So let us not talk falsely now, the hour is getting late”\n"
     ]
    }
   ],
   "source": [
    "# 문장이 어떤 것이 있는지 확인해보자\n",
    "for idx, sentence in enumerate(raw_corpus):\n",
    "    if len(sentence) == 0: continue   # 길이가 0인 문장은 건너뛴다.\n",
    "    if sentence[-1] == \":\": continue  # 문장의 끝이 : 인 문장은 건너뛴다.\n",
    "\n",
    "    if idx > 10: break   # 문장 10개를 확인해보자\n",
    "        \n",
    "    print(sentence)"
   ]
  },
  {
   "cell_type": "markdown",
   "id": "drawn-sleeping",
   "metadata": {},
   "source": [
    "## 6.2 데이터를 전처리한다"
   ]
  },
  {
   "cell_type": "code",
   "execution_count": 3,
   "id": "productive-foster",
   "metadata": {},
   "outputs": [
    {
     "name": "stdout",
     "output_type": "stream",
     "text": [
      "<start> this is sample sentence . <end>\n"
     ]
    }
   ],
   "source": [
    "# 토큰화하기 전에 정규표현식을 이용해서 문장을 필터링 해주는 함수를 만든다\n",
    "def preprocess_sentence(sentence):\n",
    "    sentence = sentence.lower().strip()       # 소문자로 바꾸고 양쪽 공백을 삭제\n",
    "  \n",
    "    # 아래 3단계를 거쳐 sentence는 스페이스 1개를 delimeter로 하는 소문자 단어 시퀀스로 바뀝니다.\n",
    "    sentence = re.sub(r\"([?.!,¿])\", r\" \\1 \", sentence)        # 패턴의 특수문자를 만나면 특수문자 양쪽에 공백을 추가\n",
    "    sentence = re.sub(r'[\" \"]+', \" \", sentence)                  # 공백 패턴을 만나면 스페이스 1개로 치환\n",
    "    sentence = re.sub(r\"[^a-zA-Z?.!,¿]+\", \" \", sentence)  # a-zA-Z?.!,¿ 패턴을 제외한 모든 문자(공백문자까지도)를 스페이스 1개로 치환\n",
    "\n",
    "    sentence = sentence.strip()\n",
    "\n",
    "    sentence = '<start> ' + sentence + ' <end>'      # 문장 앞뒤로 <start>와 <end>를 단어처럼 붙여 준다\n",
    "    \n",
    "    return sentence\n",
    "\n",
    "print(preprocess_sentence(\"This @_is ;;;sample        sentence.\"))   # 문장이 어떻게 필터링 됐는지 확인해보자"
   ]
  },
  {
   "cell_type": "code",
   "execution_count": 4,
   "id": "intimate-membrane",
   "metadata": {},
   "outputs": [
    {
     "data": {
      "text/plain": [
       "['<start> there s too much confusion , i can t get no relief <end>',\n",
       " '<start> businessmen , they drink my wine , plowmen dig my earth <end>',\n",
       " '<start> no reason to get excited , the thief , he kindly spoke <end>',\n",
       " '<start> all along the watchtower , princes kept the view <end>',\n",
       " '<start> while all the women came and went , barefoot servants , too <end>',\n",
       " '<start> outside in the distance a wildcat did growl <end>',\n",
       " '<start> two riders were approaching , the wind began to howl <end>',\n",
       " '<start> once upon a time you dressed so fine <end>',\n",
       " '<start> you threw the bums a dime in your prime , didn t you ? <end>',\n",
       " '<start> people d call , say , beware doll , you re bound to fall <end>']"
      ]
     },
     "execution_count": 4,
     "metadata": {},
     "output_type": "execute_result"
    }
   ],
   "source": [
    "# 정제 데이터를 완성한다\n",
    "corpus = []\n",
    "\n",
    "for sentence in raw_corpus:\n",
    "    if len(sentence) == 0: continue\n",
    "    if len(sentence.split()) >=12 : continue\n",
    "    if sentence[-1] == \":\": continue  # 문장의 끝이 : 인 문장은 건너뛴다\n",
    "        \n",
    "    corpus.append(preprocess_sentence(sentence))\n",
    "        \n",
    "corpus[:10]"
   ]
  },
  {
   "cell_type": "code",
   "execution_count": 5,
   "id": "wrong-imperial",
   "metadata": {},
   "outputs": [
    {
     "name": "stdout",
     "output_type": "stream",
     "text": [
      "[[   2   62   16 ...    0    0    0]\n",
      " [   2    1    4 ...    0    0    0]\n",
      " [   2   37  595 ...    0    0    0]\n",
      " ...\n",
      " [   2    9  156 ...    0    0    0]\n",
      " [   2    8    9 ...    0    0    0]\n",
      " [   2    6 3227 ...    0    0    0]] <keras_preprocessing.text.Tokenizer object at 0x7f78e1623f10>\n"
     ]
    }
   ],
   "source": [
    "# 정제된 데이터를 토큰화하고, 단어 사전을 만들고, 데디터를 숫자로 변환한다.\n",
    "def tokenize(corpus):\n",
    "    # 텐서플로우에서 제공하는 Tokenizer 패키지를 생성\n",
    "    tokenizer = tf.keras.preprocessing.text.Tokenizer(\n",
    "        num_words=10000,  # 전체 단어의 개수 \n",
    "        filters=' ',    # 별도로 전처리 로직을 추가할 수 있지만, 이번에는 사용하지 않겠습니다.\n",
    "        oov_token=\"<unk>\"  # out-of-vocabulary, 사전에 없었던 단어는 어떤 토큰으로 대체할지\n",
    "    )\n",
    "    tokenizer.fit_on_texts(corpus)   # 우리가 구축한 corpus로부터 Tokenizer가 사전을 자동구축하게 된다\n",
    "\n",
    "    # 이후 tokenizer를 활용하여 모델에 입력할 데이터셋을 구축한다\n",
    "    tensor = tokenizer.texts_to_sequences(corpus)   # tokenizer는 구축한 사전으로부터 corpus를 해석해 Tensor로 변환한다.\n",
    "\n",
    "    # 입력 데이터의 시퀀스 길이를 일정하게 맞추기 위한 padding  메소드를 제공한다\n",
    "    # maxlen의 디폴트값은 None이다. 이 경우 corpus의 가장 긴 문장을 기준으로 시퀀스 길이가 맞춰진다.\n",
    "    tensor = tf.keras.preprocessing.sequence.pad_sequences(tensor, padding='post')  \n",
    "\n",
    "    print(tensor,tokenizer)\n",
    "    return tensor, tokenizer\n",
    "\n",
    "tensor, tokenizer = tokenize(corpus)"
   ]
  },
  {
   "cell_type": "code",
   "execution_count": 6,
   "id": "cordless-director",
   "metadata": {},
   "outputs": [
    {
     "name": "stdout",
     "output_type": "stream",
     "text": [
      "[[   2   62   16  101  186 2633    4    5   33   15]\n",
      " [   2    1    4   43  488   13  986    4    1 1037]\n",
      " [   2   37  595   10   45 2491    4    6 2237    4]]\n"
     ]
    }
   ],
   "source": [
    "# 생성된 텐서 데이터를 3번째 행부터 10번째 열까지 출력해 보자\n",
    "print(tensor[:3, :10])"
   ]
  },
  {
   "cell_type": "code",
   "execution_count": 7,
   "id": "vital-student",
   "metadata": {},
   "outputs": [
    {
     "name": "stdout",
     "output_type": "stream",
     "text": [
      "1 : <unk>\n",
      "2 : <start>\n",
      "3 : <end>\n",
      "4 : ,\n",
      "5 : i\n",
      "6 : the\n",
      "7 : you\n",
      "8 : and\n",
      "9 : a\n",
      "10 : to\n"
     ]
    }
   ],
   "source": [
    "# 텐서 데이터는 모두 정수로 이우러져 있는데, 이것은 tokenizer에 구축된 단어 사전의 인덱스다. 단어 사전이 어떻게 구축되었는지 확인을 한번 해보자\n",
    "for idx in tokenizer.index_word:\n",
    "    print(idx, \":\", tokenizer.index_word[idx])\n",
    "\n",
    "    if idx >= 10: break"
   ]
  },
  {
   "cell_type": "code",
   "execution_count": 8,
   "id": "silver-custom",
   "metadata": {},
   "outputs": [
    {
     "name": "stdout",
     "output_type": "stream",
     "text": [
      "[   2   62   16  101  186 2633    4    5   33   15   45   37 5623    3\n",
      "    0    0    0    0    0    0    0    0    0    0    0    0    0    0\n",
      "    0]\n",
      "[  62   16  101  186 2633    4    5   33   15   45   37 5623    3    0\n",
      "    0    0    0    0    0    0    0    0    0    0    0    0    0    0\n",
      "    0]\n"
     ]
    }
   ],
   "source": [
    "# 데이터 패딩 처리\n",
    "src_input = tensor[:, :-1]  # tensor에서 마지막 토큰을 잘라내서 소스 문장을 생성한다. 마지막 토큰은 <end>가 아니라 <pad>일 가능성이 높다.\n",
    "tgt_input = tensor[:, 1:]    # tensor에서 <start>를 잘라내서 타겟 문장을 생성한다.\n",
    "\n",
    "print(src_input[0])\n",
    "print(tgt_input[0])"
   ]
  },
  {
   "cell_type": "code",
   "execution_count": 9,
   "id": "known-married",
   "metadata": {},
   "outputs": [
    {
     "data": {
      "text/plain": [
       "<BatchDataset shapes: ((256, 29), (256, 29)), types: (tf.int32, tf.int32)>"
      ]
     },
     "execution_count": 9,
     "metadata": {},
     "output_type": "execute_result"
    }
   ],
   "source": [
    "# 데이터셋 객체를 생성한다.\n",
    "BUFFER_SIZE = len(src_input)\n",
    "BATCH_SIZE = 256\n",
    "steps_per_epoch = len(src_input) // BATCH_SIZE\n",
    "\n",
    "VOCAB_SIZE = tokenizer.num_words + 1    # tokenizer가 구축한 단어사전 내 10000개와, 여기 포함되지 않은 0:<pad>를 포함하여 10001개\n",
    "\n",
    "dataset = tf.data.Dataset.from_tensor_slices((src_input, tgt_input)).shuffle(BUFFER_SIZE)\n",
    "dataset = dataset.batch(BATCH_SIZE, drop_remainder=True)\n",
    "dataset"
   ]
  },
  {
   "cell_type": "code",
   "execution_count": 10,
   "id": "buried-shopping",
   "metadata": {},
   "outputs": [],
   "source": [
    "# 데이터셋을 적절하게 나눠준다\n",
    "from sklearn.model_selection import train_test_split\n",
    "enc_train, enc_val, dec_train, dec_val = train_test_split(src_input, \n",
    "                                                          tgt_input,\n",
    "                                                          test_size=0.2,\n",
    "                                                          shuffle=True, \n",
    "                                                          random_state=16)"
   ]
  },
  {
   "cell_type": "code",
   "execution_count": 11,
   "id": "behind-anniversary",
   "metadata": {},
   "outputs": [
    {
     "name": "stdout",
     "output_type": "stream",
     "text": [
      "Source Train: (121675, 29)\n",
      "Target Train: (121675, 29)\n"
     ]
    }
   ],
   "source": [
    "# 잘 나눠졌는지 확인해 보자\n",
    "print(\"Source Train:\", enc_train.shape)\n",
    "print(\"Target Train:\", dec_train.shape)"
   ]
  },
  {
   "cell_type": "markdown",
   "id": "bored-scientist",
   "metadata": {},
   "source": [
    "# 6.3 모델을 생성하고 평가해본다"
   ]
  },
  {
   "cell_type": "code",
   "execution_count": 12,
   "id": "fluid-hormone",
   "metadata": {},
   "outputs": [],
   "source": [
    "# 모델 생성 -> 1개의 Embedding 레이어와 2개의 LSTM 레이어 그리고 1개의 Dense 레이어로 구성한다\n",
    "class TextGenerator(tf.keras.Model):\n",
    "    def __init__(self, vocab_size, embedding_size, hidden_size):\n",
    "        super(TextGenerator, self).__init__()\n",
    "        \n",
    "        self.embedding = tf.keras.layers.Embedding(vocab_size, embedding_size)\n",
    "        self.rnn_1 = tf.keras.layers.LSTM(hidden_size, return_sequences=True)\n",
    "        self.rnn_2 = tf.keras.layers.LSTM(hidden_size, return_sequences=True)\n",
    "        self.linear = tf.keras.layers.Dense(vocab_size)\n",
    "        \n",
    "    def call(self, x):\n",
    "        out = self.embedding(x)\n",
    "        out = self.rnn_1(out)\n",
    "        out = self.rnn_2(out)\n",
    "        out = self.linear(out)\n",
    "        \n",
    "        return out\n",
    "    \n",
    "embedding_size = 256\n",
    "hidden_size = 1024\n",
    "model = TextGenerator(tokenizer.num_words + 1, embedding_size , hidden_size)"
   ]
  },
  {
   "cell_type": "code",
   "execution_count": 13,
   "id": "developed-classification",
   "metadata": {
    "scrolled": true
   },
   "outputs": [
    {
     "data": {
      "text/plain": [
       "<tf.Tensor: shape=(256, 29, 10001), dtype=float32, numpy=\n",
       "array([[[ 1.73964596e-04, -1.10335095e-04,  5.91715252e-05, ...,\n",
       "         -8.50700744e-05, -1.72316621e-04, -4.82142903e-04],\n",
       "        [ 1.69169391e-04, -2.51029385e-04, -3.26916088e-05, ...,\n",
       "         -1.79636234e-04, -4.26350685e-04, -6.28633308e-04],\n",
       "        [-6.66239866e-05, -4.26287559e-04, -3.54777876e-04, ...,\n",
       "         -5.31290134e-04, -3.12551769e-04, -4.77150228e-04],\n",
       "        ...,\n",
       "        [-1.21887843e-03,  6.76041655e-03, -3.25467001e-04, ...,\n",
       "          2.56913737e-03, -5.88729978e-04,  1.23893400e-03],\n",
       "        [-1.23005756e-03,  6.83449861e-03, -3.54725518e-04, ...,\n",
       "          2.59675691e-03, -5.56068320e-04,  1.25967490e-03],\n",
       "        [-1.23509194e-03,  6.89366926e-03, -3.83394072e-04, ...,\n",
       "          2.61690118e-03, -5.27205528e-04,  1.28060661e-03]],\n",
       "\n",
       "       [[ 1.73964596e-04, -1.10335095e-04,  5.91715252e-05, ...,\n",
       "         -8.50700744e-05, -1.72316621e-04, -4.82142903e-04],\n",
       "        [ 1.80059360e-04, -1.49002924e-04,  4.84366392e-05, ...,\n",
       "         -1.75995418e-04, -3.18997481e-04, -4.82209987e-04],\n",
       "        [ 2.16684828e-04, -2.54379062e-04, -4.29187054e-07, ...,\n",
       "         -8.13608713e-05, -2.33571584e-04, -6.36778655e-04],\n",
       "        ...,\n",
       "        [-1.36677944e-03,  6.46444643e-03, -3.02327797e-04, ...,\n",
       "          2.59717368e-03, -6.25834742e-04,  1.15394196e-03],\n",
       "        [-1.36966305e-03,  6.59740623e-03, -3.21965374e-04, ...,\n",
       "          2.62311404e-03, -5.99999796e-04,  1.17070915e-03],\n",
       "        [-1.36632298e-03,  6.70487201e-03, -3.45183013e-04, ...,\n",
       "          2.64153816e-03, -5.74299076e-04,  1.19050429e-03]],\n",
       "\n",
       "       [[ 1.73964596e-04, -1.10335095e-04,  5.91715252e-05, ...,\n",
       "         -8.50700744e-05, -1.72316621e-04, -4.82142903e-04],\n",
       "        [ 3.26099689e-04, -9.86555460e-06,  2.58664339e-04, ...,\n",
       "         -2.41008776e-04, -7.64845245e-05, -4.89587372e-04],\n",
       "        [ 3.98210221e-04, -6.49883877e-05,  2.73135374e-04, ...,\n",
       "         -1.40919452e-04,  9.48131128e-05, -5.95612917e-04],\n",
       "        ...,\n",
       "        [-1.70093880e-03,  6.40309881e-03, -4.73648397e-04, ...,\n",
       "          2.53505679e-03, -5.75530459e-04,  1.10790483e-03],\n",
       "        [-1.66835089e-03,  6.54444564e-03, -4.65577556e-04, ...,\n",
       "          2.56184745e-03, -5.54983329e-04,  1.11918966e-03],\n",
       "        [-1.63329055e-03,  6.65947283e-03, -4.65345074e-04, ...,\n",
       "          2.58295098e-03, -5.34712395e-04,  1.13593205e-03]],\n",
       "\n",
       "       ...,\n",
       "\n",
       "       [[ 1.73964596e-04, -1.10335095e-04,  5.91715252e-05, ...,\n",
       "         -8.50700744e-05, -1.72316621e-04, -4.82142903e-04],\n",
       "        [ 2.98593717e-04, -2.20713773e-04, -1.13451151e-05, ...,\n",
       "          3.25420660e-05, -1.28000233e-04, -9.33473522e-04],\n",
       "        [ 2.53084290e-04, -3.68399720e-04, -9.62229387e-05, ...,\n",
       "          4.74086647e-07, -2.09315534e-04, -1.14004512e-03],\n",
       "        ...,\n",
       "        [-1.37146923e-03,  6.94318302e-03, -4.12606780e-04, ...,\n",
       "          2.69864476e-03, -4.79926268e-04,  1.25124597e-03],\n",
       "        [-1.34566810e-03,  6.98202755e-03, -4.33233654e-04, ...,\n",
       "          2.69632693e-03, -4.66803322e-04,  1.27841718e-03],\n",
       "        [-1.32032193e-03,  7.01314304e-03, -4.52276960e-04, ...,\n",
       "          2.69285194e-03, -4.55671921e-04,  1.30355184e-03]],\n",
       "\n",
       "       [[ 1.73964596e-04, -1.10335095e-04,  5.91715252e-05, ...,\n",
       "         -8.50700744e-05, -1.72316621e-04, -4.82142903e-04],\n",
       "        [ 3.14605859e-04, -5.96742728e-04, -9.78556272e-05, ...,\n",
       "         -4.09054628e-04, -3.73180432e-04, -6.41594816e-04],\n",
       "        [ 2.51615449e-04, -8.26715317e-04, -2.66973977e-04, ...,\n",
       "         -5.58579515e-04, -3.64517880e-04, -5.25596086e-04],\n",
       "        ...,\n",
       "        [-1.30758795e-03,  6.94857817e-03, -4.26249753e-04, ...,\n",
       "          2.52229930e-03, -4.48242616e-04,  1.14257808e-03],\n",
       "        [-1.30011712e-03,  6.99118804e-03, -4.44275240e-04, ...,\n",
       "          2.55045481e-03, -4.33469424e-04,  1.18049874e-03],\n",
       "        [-1.28908793e-03,  7.02419272e-03, -4.61320917e-04, ...,\n",
       "          2.57272786e-03, -4.21628880e-04,  1.21620169e-03]],\n",
       "\n",
       "       [[ 1.73964596e-04, -1.10335095e-04,  5.91715252e-05, ...,\n",
       "         -8.50700744e-05, -1.72316621e-04, -4.82142903e-04],\n",
       "        [ 3.00624932e-04, -3.42729094e-04,  6.32416632e-05, ...,\n",
       "         -2.17217006e-04, -4.33126086e-04, -5.69549506e-04],\n",
       "        [ 4.03929182e-04, -4.18505690e-04, -3.80498299e-04, ...,\n",
       "         -3.43513238e-05, -7.52402586e-04, -6.50831906e-04],\n",
       "        ...,\n",
       "        [-1.25507032e-03,  6.74241921e-03, -3.51022114e-04, ...,\n",
       "          2.66994117e-03, -5.22952527e-04,  1.24813372e-03],\n",
       "        [-1.25245412e-03,  6.81365654e-03, -3.77519871e-04, ...,\n",
       "          2.67907209e-03, -5.08885307e-04,  1.26952934e-03],\n",
       "        [-1.24685583e-03,  6.87175803e-03, -4.02754056e-04, ...,\n",
       "          2.68404395e-03, -4.95433284e-04,  1.29094650e-03]]],\n",
       "      dtype=float32)>"
      ]
     },
     "execution_count": 13,
     "metadata": {},
     "output_type": "execute_result"
    }
   ],
   "source": [
    "# 모델의 shape을 살펴보자\n",
    "for src_sample, tgt_sample in dataset.take(1): break\n",
    "model(src_sample)"
   ]
  },
  {
   "cell_type": "code",
   "execution_count": 14,
   "id": "realistic-brother",
   "metadata": {},
   "outputs": [
    {
     "name": "stdout",
     "output_type": "stream",
     "text": [
      "Model: \"text_generator\"\n",
      "_________________________________________________________________\n",
      "Layer (type)                 Output Shape              Param #   \n",
      "=================================================================\n",
      "embedding (Embedding)        multiple                  2560256   \n",
      "_________________________________________________________________\n",
      "lstm (LSTM)                  multiple                  5246976   \n",
      "_________________________________________________________________\n",
      "lstm_1 (LSTM)                multiple                  8392704   \n",
      "_________________________________________________________________\n",
      "dense (Dense)                multiple                  10251025  \n",
      "=================================================================\n",
      "Total params: 26,450,961\n",
      "Trainable params: 26,450,961\n",
      "Non-trainable params: 0\n",
      "_________________________________________________________________\n"
     ]
    }
   ],
   "source": [
    "# 만들어진 모델을 살펴본다\n",
    "model.summary()"
   ]
  },
  {
   "cell_type": "code",
   "execution_count": 2,
   "id": "arabic-glossary",
   "metadata": {},
   "outputs": [
    {
     "name": "stdout",
     "output_type": "stream",
     "text": [
      "WARNING:tensorflow:From <ipython-input-2-ebbdf77b3556>:2: is_gpu_available (from tensorflow.python.framework.test_util) is deprecated and will be removed in a future version.\n",
      "Instructions for updating:\n",
      "Use `tf.config.list_physical_devices('GPU')` instead.\n"
     ]
    },
    {
     "data": {
      "text/plain": [
       "True"
      ]
     },
     "execution_count": 2,
     "metadata": {},
     "output_type": "execute_result"
    }
   ],
   "source": [
    "# GPU가 사용가능 한 상태인지 확인해본다\n",
    "tf.test.is_gpu_available()"
   ]
  },
  {
   "cell_type": "code",
   "execution_count": 18,
   "id": "collectible-synthetic",
   "metadata": {},
   "outputs": [
    {
     "name": "stdout",
     "output_type": "stream",
     "text": [
      "Epoch 1/12\n",
      "305/305 [==============================] - 133s 435ms/step - loss: 1.8366 - accuracy: 0.7451 - val_loss: 1.5323 - val_accuracy: 0.7639\n",
      "Epoch 2/12\n",
      "305/305 [==============================] - 130s 425ms/step - loss: 1.4797 - accuracy: 0.7682 - val_loss: 1.4422 - val_accuracy: 0.7714\n",
      "Epoch 3/12\n",
      "305/305 [==============================] - 128s 420ms/step - loss: 1.4070 - accuracy: 0.7734 - val_loss: 1.3923 - val_accuracy: 0.7749\n",
      "Epoch 4/12\n",
      "305/305 [==============================] - 132s 433ms/step - loss: 1.3545 - accuracy: 0.7768 - val_loss: 1.3546 - val_accuracy: 0.7774\n",
      "Epoch 5/12\n",
      "305/305 [==============================] - 130s 425ms/step - loss: 1.3100 - accuracy: 0.7796 - val_loss: 1.3235 - val_accuracy: 0.7799\n",
      "Epoch 6/12\n",
      "305/305 [==============================] - 130s 427ms/step - loss: 1.2698 - accuracy: 0.7823 - val_loss: 1.2988 - val_accuracy: 0.7818\n",
      "Epoch 7/12\n",
      "305/305 [==============================] - 122s 400ms/step - loss: 1.2322 - accuracy: 0.7852 - val_loss: 1.2752 - val_accuracy: 0.7844\n",
      "Epoch 8/12\n",
      "305/305 [==============================] - 120s 394ms/step - loss: 1.1969 - accuracy: 0.7880 - val_loss: 1.2553 - val_accuracy: 0.7868\n",
      "Epoch 9/12\n",
      "305/305 [==============================] - 123s 404ms/step - loss: 1.1638 - accuracy: 0.7909 - val_loss: 1.2361 - val_accuracy: 0.7890\n",
      "Epoch 10/12\n",
      "305/305 [==============================] - 125s 410ms/step - loss: 1.1324 - accuracy: 0.7939 - val_loss: 1.2211 - val_accuracy: 0.7911\n",
      "Epoch 11/12\n",
      "305/305 [==============================] - 131s 430ms/step - loss: 1.1025 - accuracy: 0.7970 - val_loss: 1.2078 - val_accuracy: 0.7929\n",
      "Epoch 12/12\n",
      "305/305 [==============================] - 134s 440ms/step - loss: 1.0736 - accuracy: 0.8001 - val_loss: 1.1952 - val_accuracy: 0.7950\n"
     ]
    }
   ],
   "source": [
    "# 훈련 시작\n",
    "optimizer = tf.keras.optimizers.Adam()\n",
    "loss = tf.keras.losses.SparseCategoricalCrossentropy(\n",
    "    from_logits=True,\n",
    "    reduction='none'\n",
    ")\n",
    "\n",
    "model.compile(loss=loss, optimizer=optimizer, metrics=['accuracy'])\n",
    "\n",
    "history = model.fit(enc_train, \n",
    "          dec_train, \n",
    "          epochs=12,\n",
    "          batch_size=400,\n",
    "          validation_data=(enc_val, dec_val),\n",
    "          verbose=1)"
   ]
  },
  {
   "cell_type": "markdown",
   "id": "blank-treasure",
   "metadata": {},
   "source": [
    "## 6.4 모델 평가"
   ]
  },
  {
   "cell_type": "code",
   "execution_count": 19,
   "id": "different-torture",
   "metadata": {},
   "outputs": [
    {
     "name": "stdout",
     "output_type": "stream",
     "text": [
      "dict_keys(['loss', 'accuracy', 'val_loss', 'val_accuracy'])\n"
     ]
    }
   ],
   "source": [
    "history_dict = history.history\n",
    "print(history_dict.keys()) # epoch에 따른 그래프를 그려볼 수 있는 항목들"
   ]
  },
  {
   "cell_type": "code",
   "execution_count": 20,
   "id": "threatened-gender",
   "metadata": {},
   "outputs": [
    {
     "data": {
      "image/png": "[encoded data removed]",
      "text/plain": [
       "<Figure size 432x288 with 1 Axes>"
      ]
     },
     "metadata": {
      "needs_background": "light"
     },
     "output_type": "display_data"
    }
   ],
   "source": [
    "import matplotlib.pyplot as plt\n",
    "\n",
    "acc = history_dict['accuracy']\n",
    "val_acc = history_dict['val_accuracy']\n",
    "loss = history_dict['loss']\n",
    "val_loss = history_dict['val_loss']\n",
    "\n",
    "epochs = range(1, len(acc) + 1)\n",
    "\n",
    "# \"bo\"는 \"파란색 점\"\n",
    "plt.plot(epochs, loss, 'bo', label='Training loss')\n",
    "# b는 \"파란 실선\"\n",
    "plt.plot(epochs, val_loss, 'b', label='Validation loss')\n",
    "plt.title('Training and validation loss')\n",
    "plt.xlabel('Epochs')\n",
    "plt.ylabel('Loss')\n",
    "plt.legend()\n",
    "\n",
    "plt.show()"
   ]
  },
  {
   "cell_type": "code",
   "execution_count": 21,
   "id": "liked-lexington",
   "metadata": {},
   "outputs": [
    {
     "data": {
      "image/png": "[encoded data removed]",
      "text/plain": [
       "<Figure size 432x288 with 1 Axes>"
      ]
     },
     "metadata": {
      "needs_background": "light"
     },
     "output_type": "display_data"
    }
   ],
   "source": [
    "plt.clf()   # 그림을 초기화한다\n",
    "\n",
    "plt.plot(epochs, acc, 'bo', label='Training acc')\n",
    "plt.plot(epochs, val_acc, 'b', label='Validation acc')\n",
    "plt.title('Training and validation accuracy')\n",
    "plt.xlabel('Epochs')\n",
    "plt.ylabel('Accuracy')\n",
    "plt.legend()\n",
    "\n",
    "plt.show()"
   ]
  },
  {
   "cell_type": "markdown",
   "id": "ongoing-consortium",
   "metadata": {},
   "source": [
    "모델이 작문을 잘하는지 컴퓨터 알고리즘이 평가하는 것은 무리가 있다. 만약에 그게 가능했다면 우리가 지금껏 해온 독후감 숙제를 컴퓨터가 채점했을것이다. 따라서 작문 모델을 평가하는 가장 확실한 방법은 작문을 시켜보고 직접 평가하는 것이다. 아래 generate_text 함수는 모델에게 시작 문장을 전달하면 모델이 시작 문장을 바탕으로 작문을 진행하게 한다."
   ]
  },
  {
   "cell_type": "code",
   "execution_count": 22,
   "id": "simplified-cholesterol",
   "metadata": {},
   "outputs": [],
   "source": [
    "def generate_text(model, tokenizer, init_sentence=\"<start>\", max_len=20):\n",
    "    # 테스트를 위해서 입력받은 init_sentence도 일단 텐서로 변환한다.\n",
    "    test_input = tokenizer.texts_to_sequences([init_sentence])\n",
    "    test_tensor = tf.convert_to_tensor(test_input, dtype=tf.int64)\n",
    "    end_token = tokenizer.word_index[\"<end>\"]\n",
    "\n",
    "    # 텍스트를 실제로 생성할때는 루프를 돌면서 단어 하나씩 생성해야 됨\n",
    "    while True:\n",
    "        predict = model(test_tensor)  # 입력받은 문장의 텐서를 입력\n",
    "        predict_word = tf.argmax(tf.nn.softmax(predict, axis=-1), axis=-1)[:, -1]   # 모델이 예측한 마지막 단어가 새롭게 생성한 단어가 됨\n",
    "\n",
    "        # 모델이 새롭게 예측한 단어를 입력 문장의 뒤에 붙여 줌\n",
    "        test_tensor = tf.concat([test_tensor, \n",
    "                                                                 tf.expand_dims(predict_word, axis=0)], axis=-1)\n",
    "\n",
    "        # 우리 모델이 <end>를 예측했거나, max_len에 도달하지 않았다면  while 루프를 또 돌면서 다음 단어를 예측해야 됨\n",
    "        if predict_word.numpy()[0] == end_token: break\n",
    "        if test_tensor.shape[1] >= max_len: break\n",
    "\n",
    "    generated = \"\"\n",
    "    # 생성된 tensor 안에 있는 word index를 tokenizer.index_word 사전을 통해 실제 단어로 하나씩 변환\n",
    "    for word_index in test_tensor[0].numpy():\n",
    "        generated += tokenizer.index_word[word_index] + \" \"\n",
    "\n",
    "    return generated   # 최종적으로 모델이 생성한 자연어 문장"
   ]
  },
  {
   "cell_type": "code",
   "execution_count": 24,
   "id": "korean-sally",
   "metadata": {},
   "outputs": [
    {
     "data": {
      "text/plain": [
       "'<start> i love you baby <end> '"
      ]
     },
     "execution_count": 24,
     "metadata": {},
     "output_type": "execute_result"
    }
   ],
   "source": [
    "generate_text(model, tokenizer, init_sentence=\"<start> i love\", max_len=20)"
   ]
  },
  {
   "cell_type": "markdown",
   "id": "anticipated-contrast",
   "metadata": {},
   "source": [
    "## 회고\n",
    "한주가 정말로 빨리간다... 이번 프로젝트에서는 화요일과 진행한 프로젝트와 같은 카테고리에 있는 자연어처리를 진행했는데, 그때는 음성을, 지금은 글을 어떻게 딥러닝모델에 담고 학습을 시키는지를 대략적으로 알게 되었다. 화요일 노드와 달리 이번에는 개념이 어렵지 않았고 복습도 아주 많은 시간을 들이지는 않을 거 같다. 내가 미완성된 문장을 주면 모델이 완성된 문장을 다시 리턴해주는 것과 모델을 다시 만들고 다시 학습을 시키면 리턴된 문장이 매번 달라지는 것이 신기했다. 프로젝트를 진행하면서 딱히 어려운 점은 없었으나, 모델이 무거워서 학습시간이 오래걸렸다. 점심을 먹고 다시 모델을 돌리니 예상시간이 엄청나게 길게 잡혀서 학습을 중단하고 tf.test.is_gpu_available() 명령어로 gpu가 사용가능한 상태인지 확인했더니 flase가 떠서 노트북을 껐다가 켰다. 그랬더니 True가 뜨고 모델이 어느정도 이해가능한?? 수준의 학습속도로 돌아오더라...역시 에러를 해결하는 확실한 방법은 재부팅이 아닐까... 여튼, 루브릭에서 요구하는 모든 평가문항들을 잘 수행했으니 이번에도 3별을 받지 않을까. 아 그리고 노드에서 \"10 Epoch 안에 val_loss 값을 2.2 수준으로 줄일 수 있는 모델을 설계하세요!\"라고 되어 있는데 프로젝트에서 어딘가 꼬이지 않는 이상은 1 Epoch에 2.2 이하로 내려가는 것을 볼 수 있다."
   ]
  }
 ],
 "metadata": {
  "kernelspec": {
   "display_name": "aiffel",
   "language": "python",
   "name": "aiffel"
  },
  "language_info": {
   "codemirror_mode": {
    "name": "ipython",
    "version": 3
   },
   "file_extension": ".py",
   "mimetype": "text/x-python",
   "name": "python",
   "nbconvert_exporter": "python",
   "pygments_lexer": "ipython3",
   "version": "3.7.9"
  }
 },
 "nbformat": 4,
 "nbformat_minor": 5
}
