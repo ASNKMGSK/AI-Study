{
 "cells": [
  {
   "cell_type": "code",
   "execution_count": 1,
   "id": "medical-entrepreneur",
   "metadata": {},
   "outputs": [
    {
     "name": "stdout",
     "output_type": "stream",
     "text": [
      "데이터 크기: 187088\n",
      "Examples:\n",
      " ['', '\\t\\t\\t“There must be some way out of here,” said the joker to the thief', '“There’s too much confusion, I can’t get no relief']\n"
     ]
    }
   ],
   "source": [
    "import glob\n",
    "import os\n",
    "import re\n",
    "import tensorflow as tf\n",
    "import numpy as np\n",
    "\n",
    "txt_file_path = os.getenv('HOME')+'/aiffel/lyricist/data/lyrics/*'\n",
    "\n",
    "txt_list = glob.glob(txt_file_path)\n",
    "\n",
    "raw_corpus = []\n",
    "\n",
    "# 여러개의 txt 파일을 모두 읽어서 raw_corpus 에 담습니다.\n",
    "for txt_file in txt_list:\n",
    "    with open(txt_file, \"r\") as f:\n",
    "        raw = f.read().splitlines()\n",
    "        raw_corpus.extend(raw)\n",
    "\n",
    "print(\"데이터 크기:\", len(raw_corpus))\n",
    "print(\"Examples:\\n\", raw_corpus[:3])"
   ]
  },
  {
   "cell_type": "code",
   "execution_count": 2,
   "id": "champion-typing",
   "metadata": {},
   "outputs": [
    {
     "name": "stdout",
     "output_type": "stream",
     "text": [
      "\t\t\t“There must be some way out of here,” said the joker to the thief\n",
      "“There’s too much confusion, I can’t get no relief\n",
      "Businessmen, they drink my wine, plowmen dig my earth\n",
      "None of them along the line know what any of it is worth”\n",
      "“No reason to get excited,” the thief, he kindly spoke\n",
      "“There are many here among us who feel that life is but a joke\n",
      "But you and I, we’ve been through that, and this is not our fate\n",
      "So let us not talk falsely now, the hour is getting late”\n"
     ]
    }
   ],
   "source": [
    "for idx, sentence in enumerate(raw_corpus):\n",
    "    if len(sentence) == 0: continue   # 길이가 0인 문장은 건너뜁니다.\n",
    "    if sentence[-1] == \":\": continue  # 문장의 끝이 : 인 문장은 건너뜁니다.\n",
    "\n",
    "    if idx > 10: break   # 일단 문장 10개만 확인해 볼 겁니다.\n",
    "        \n",
    "    print(sentence)"
   ]
  },
  {
   "cell_type": "code",
   "execution_count": 3,
   "id": "framed-parliament",
   "metadata": {},
   "outputs": [
    {
     "name": "stdout",
     "output_type": "stream",
     "text": [
      "<start> this is sample sentence . <end>\n"
     ]
    }
   ],
   "source": [
    "def preprocess_sentence(sentence):\n",
    "    sentence = sentence.lower().strip()       # 소문자로 바꾸고 양쪽 공백을 삭제\n",
    "  \n",
    "    # 아래 3단계를 거쳐 sentence는 스페이스 1개를 delimeter로 하는 소문자 단어 시퀀스로 바뀝니다.\n",
    "    sentence = re.sub(r\"([?.!,¿])\", r\" \\1 \", sentence)        # 패턴의 특수문자를 만나면 특수문자 양쪽에 공백을 추가\n",
    "    sentence = re.sub(r'[\" \"]+', \" \", sentence)                  # 공백 패턴을 만나면 스페이스 1개로 치환\n",
    "    sentence = re.sub(r\"[^a-zA-Z?.!,¿]+\", \" \", sentence)  # a-zA-Z?.!,¿ 패턴을 제외한 모든 문자(공백문자까지도)를 스페이스 1개로 치환\n",
    "\n",
    "    sentence = sentence.strip()\n",
    "\n",
    "    sentence = '<start> ' + sentence + ' <end>'      # 이전 스텝에서 본 것처럼 문장 앞뒤로 <start>와 <end>를 단어처럼 붙여 줍니다\n",
    "    \n",
    "    return sentence\n",
    "\n",
    "print(preprocess_sentence(\"This @_is ;;;sample        sentence.\"))   # 이 문장이 어떻게 필터링되는지 확인해 보세요."
   ]
  },
  {
   "cell_type": "code",
   "execution_count": 4,
   "id": "acceptable-beaver",
   "metadata": {},
   "outputs": [
    {
     "data": {
      "text/plain": [
       "['<start> there s too much confusion , i can t get no relief <end>',\n",
       " '<start> businessmen , they drink my wine , plowmen dig my earth <end>',\n",
       " '<start> no reason to get excited , the thief , he kindly spoke <end>',\n",
       " '<start> all along the watchtower , princes kept the view <end>',\n",
       " '<start> while all the women came and went , barefoot servants , too <end>',\n",
       " '<start> outside in the distance a wildcat did growl <end>',\n",
       " '<start> two riders were approaching , the wind began to howl <end>',\n",
       " '<start> once upon a time you dressed so fine <end>',\n",
       " '<start> you threw the bums a dime in your prime , didn t you ? <end>',\n",
       " '<start> people d call , say , beware doll , you re bound to fall <end>']"
      ]
     },
     "execution_count": 4,
     "metadata": {},
     "output_type": "execute_result"
    }
   ],
   "source": [
    "corpus = []\n",
    "\n",
    "for sentence in raw_corpus:\n",
    "    if len(sentence) == 0: continue\n",
    "    if len(sentence.split()) >=12 : continue\n",
    "                \n",
    "    corpus.append(preprocess_sentence(sentence))\n",
    "        \n",
    "corpus[:10]"
   ]
  },
  {
   "cell_type": "code",
   "execution_count": 5,
   "id": "convenient-teens",
   "metadata": {},
   "outputs": [
    {
     "name": "stdout",
     "output_type": "stream",
     "text": [
      "[[   2   62   16 ...    0    0    0]\n",
      " [   2    1    4 ...    0    0    0]\n",
      " [   2   37  593 ...    0    0    0]\n",
      " ...\n",
      " [   2    9  156 ...    0    0    0]\n",
      " [   2    8    9 ...    0    0    0]\n",
      " [   2    6 3231 ...    0    0    0]] <keras_preprocessing.text.Tokenizer object at 0x7ff74052e650>\n"
     ]
    }
   ],
   "source": [
    "def tokenize(corpus):\n",
    "    # 텐서플로우에서 제공하는 Tokenizer 패키지를 생성\n",
    "    tokenizer = tf.keras.preprocessing.text.Tokenizer(\n",
    "        num_words=10000,  # 전체 단어의 개수 \n",
    "        filters=' ',    # 별도로 전처리 로직을 추가할 수 있습니다. 이번에는 사용하지 않겠습니다.\n",
    "        oov_token=\"<unk>\"  # out-of-vocabulary, 사전에 없었던 단어는 어떤 토큰으로 대체할지\n",
    "    )\n",
    "    tokenizer.fit_on_texts(corpus)   # 우리가 구축한 corpus로부터 Tokenizer가 사전을 자동구축하게 됩니다.\n",
    "\n",
    "    # 이후 tokenizer를 활용하여 모델에 입력할 데이터셋을 구축하게 됩니다.\n",
    "    tensor = tokenizer.texts_to_sequences(corpus)   # tokenizer는 구축한 사전으로부터 corpus를 해석해 Tensor로 변환합니다.\n",
    "\n",
    "    # 입력 데이터의 시퀀스 길이를 일정하게 맞추기 위한 padding  메소드를 제공합니다.\n",
    "    # maxlen의 디폴트값은 None입니다. 이 경우 corpus의 가장 긴 문장을 기준으로 시퀀스 길이가 맞춰집니다.\n",
    "    tensor = tf.keras.preprocessing.sequence.pad_sequences(tensor, padding='post')  \n",
    "\n",
    "    print(tensor,tokenizer)\n",
    "    return tensor, tokenizer\n",
    "\n",
    "tensor, tokenizer = tokenize(corpus)"
   ]
  },
  {
   "cell_type": "code",
   "execution_count": 6,
   "id": "broadband-growing",
   "metadata": {},
   "outputs": [
    {
     "name": "stdout",
     "output_type": "stream",
     "text": [
      "[[   2   62   16  101  186 2636    4    5   33   15]\n",
      " [   2    1    4   43  489   13  987    4    1 1037]\n",
      " [   2   37  593   10   45 2495    4    6 2240    4]]\n"
     ]
    }
   ],
   "source": [
    "print(tensor[:3, :10])"
   ]
  },
  {
   "cell_type": "code",
   "execution_count": 7,
   "id": "further-acrobat",
   "metadata": {},
   "outputs": [
    {
     "name": "stdout",
     "output_type": "stream",
     "text": [
      "1 : <unk>\n",
      "2 : <start>\n",
      "3 : <end>\n",
      "4 : ,\n",
      "5 : i\n",
      "6 : the\n",
      "7 : you\n",
      "8 : and\n",
      "9 : a\n",
      "10 : to\n"
     ]
    }
   ],
   "source": [
    "for idx in tokenizer.index_word:\n",
    "    print(idx, \":\", tokenizer.index_word[idx])\n",
    "\n",
    "    if idx >= 10: break"
   ]
  },
  {
   "cell_type": "code",
   "execution_count": 8,
   "id": "annoying-capture",
   "metadata": {},
   "outputs": [
    {
     "name": "stdout",
     "output_type": "stream",
     "text": [
      "[   2   62   16  101  186 2636    4    5   33   15   45   37 5631    3\n",
      "    0    0    0    0    0    0    0    0    0    0    0    0    0    0\n",
      "    0]\n",
      "[  62   16  101  186 2636    4    5   33   15   45   37 5631    3    0\n",
      "    0    0    0    0    0    0    0    0    0    0    0    0    0    0\n",
      "    0]\n"
     ]
    }
   ],
   "source": [
    "src_input = tensor[:, :-1]  # tensor에서 마지막 토큰을 잘라내서 소스 문장을 생성합니다. 마지막 토큰은 <end>가 아니라 <pad>일 가능성이 높습니다.\n",
    "tgt_input = tensor[:, 1:]    # tensor에서 <start>를 잘라내서 타겟 문장을 생성합니다.\n",
    "\n",
    "print(src_input[0])\n",
    "print(tgt_input[0])"
   ]
  },
  {
   "cell_type": "code",
   "execution_count": 9,
   "id": "electronic-scheme",
   "metadata": {},
   "outputs": [
    {
     "data": {
      "text/plain": [
       "<BatchDataset shapes: ((400, 29), (400, 29)), types: (tf.int32, tf.int32)>"
      ]
     },
     "execution_count": 9,
     "metadata": {},
     "output_type": "execute_result"
    }
   ],
   "source": [
    "BUFFER_SIZE = len(src_input)\n",
    "BATCH_SIZE = 400\n",
    "steps_per_epoch = len(src_input) // BATCH_SIZE\n",
    "\n",
    "VOCAB_SIZE = tokenizer.num_words + 1    # tokenizer가 구축한 단어사전 내 7000개와, 여기 포함되지 않은 0:<pad>를 포함하여 7001개\n",
    "\n",
    "dataset = tf.data.Dataset.from_tensor_slices((src_input, tgt_input)).shuffle(BUFFER_SIZE)\n",
    "dataset = dataset.batch(BATCH_SIZE, drop_remainder=True)\n",
    "dataset"
   ]
  },
  {
   "cell_type": "code",
   "execution_count": 10,
   "id": "phantom-heater",
   "metadata": {},
   "outputs": [],
   "source": [
    "from sklearn.model_selection import train_test_split\n",
    "enc_train, enc_val, dec_train, dec_val = train_test_split(src_input, \n",
    "                                                          tgt_input,\n",
    "                                                          test_size=0.2,\n",
    "                                                          shuffle=True, \n",
    "                                                          random_state=16)"
   ]
  },
  {
   "cell_type": "code",
   "execution_count": 11,
   "id": "higher-organ",
   "metadata": {},
   "outputs": [
    {
     "name": "stdout",
     "output_type": "stream",
     "text": [
      "Source Train: (121848, 29)\n",
      "Target Train: (121848, 29)\n"
     ]
    }
   ],
   "source": [
    "print(\"Source Train:\", enc_train.shape)\n",
    "print(\"Target Train:\", dec_train.shape)"
   ]
  },
  {
   "cell_type": "code",
   "execution_count": 12,
   "id": "geographic-bosnia",
   "metadata": {},
   "outputs": [],
   "source": [
    "class TextGenerator(tf.keras.Model):\n",
    "    def __init__(self, vocab_size, embedding_size, hidden_size):\n",
    "        super(TextGenerator, self).__init__()\n",
    "        \n",
    "        self.embedding = tf.keras.layers.Embedding(vocab_size, embedding_size)\n",
    "        self.rnn_1 = tf.keras.layers.LSTM(hidden_size, return_sequences=True)\n",
    "        self.rnn_2 = tf.keras.layers.LSTM(hidden_size, return_sequences=True)\n",
    "        self.linear = tf.keras.layers.Dense(vocab_size)\n",
    "        \n",
    "    def call(self, x):\n",
    "        out = self.embedding(x)\n",
    "        out = self.rnn_1(out)\n",
    "        out = self.rnn_2(out)\n",
    "        out = self.linear(out)\n",
    "        \n",
    "        return out\n",
    "    \n",
    "embedding_size = 256\n",
    "hidden_size = 1024\n",
    "model = TextGenerator(tokenizer.num_words + 1, embedding_size , hidden_size)"
   ]
  },
  {
   "cell_type": "code",
   "execution_count": 13,
   "id": "facial-tennis",
   "metadata": {
    "scrolled": true
   },
   "outputs": [
    {
     "data": {
      "text/plain": [
       "<tf.Tensor: shape=(400, 29, 10001), dtype=float32, numpy=\n",
       "array([[[-7.96146996e-05,  2.00651921e-05,  1.70701111e-04, ...,\n",
       "         -2.51502293e-04,  1.23648701e-04, -1.51112385e-04],\n",
       "        [-2.10195081e-04, -2.97296665e-05,  2.97125225e-04, ...,\n",
       "         -1.97419868e-04, -2.06254568e-04, -1.77606889e-05],\n",
       "        [-4.20880504e-04,  4.57589158e-05,  6.35473843e-05, ...,\n",
       "          1.64761776e-04, -5.24735486e-04, -8.92002427e-05],\n",
       "        ...,\n",
       "        [ 3.43861524e-03, -4.17868700e-03, -6.39388803e-03, ...,\n",
       "          3.85112339e-03,  4.52968664e-03,  2.64681014e-03],\n",
       "        [ 3.41598899e-03, -4.17157495e-03, -6.50213473e-03, ...,\n",
       "          3.82945570e-03,  4.65208758e-03,  2.69865571e-03],\n",
       "        [ 3.38810496e-03, -4.15686052e-03, -6.59125904e-03, ...,\n",
       "          3.80435400e-03,  4.75549279e-03,  2.74244091e-03]],\n",
       "\n",
       "       [[-7.96146996e-05,  2.00651921e-05,  1.70701111e-04, ...,\n",
       "         -2.51502293e-04,  1.23648701e-04, -1.51112385e-04],\n",
       "        [-2.56596036e-06,  1.19770353e-04,  9.13912518e-05, ...,\n",
       "         -4.13594098e-04,  2.58753018e-04, -3.52847826e-04],\n",
       "        [-4.68959857e-04,  5.73807163e-04,  1.29939817e-05, ...,\n",
       "         -3.94787930e-04,  2.11639650e-04, -5.57459833e-04],\n",
       "        ...,\n",
       "        [ 3.64270853e-03, -4.17887140e-03, -6.12865156e-03, ...,\n",
       "          3.84803256e-03,  4.41277958e-03,  2.48184497e-03],\n",
       "        [ 3.62543296e-03, -4.18122020e-03, -6.28545554e-03, ...,\n",
       "          3.85395647e-03,  4.52079112e-03,  2.55753752e-03],\n",
       "        [ 3.59724299e-03, -4.17233584e-03, -6.41546445e-03, ...,\n",
       "          3.84816714e-03,  4.61681979e-03,  2.62144837e-03]],\n",
       "\n",
       "       [[-7.96146996e-05,  2.00651921e-05,  1.70701111e-04, ...,\n",
       "         -2.51502293e-04,  1.23648701e-04, -1.51112385e-04],\n",
       "        [-6.34674288e-05,  1.73890337e-04,  1.41242854e-04, ...,\n",
       "         -5.98853396e-04,  4.19574717e-05, -2.01663119e-04],\n",
       "        [ 1.65438367e-04, -1.94661970e-05, -8.51095829e-05, ...,\n",
       "         -6.35367702e-04,  3.28653492e-04, -3.14812118e-04],\n",
       "        ...,\n",
       "        [ 3.41219897e-03, -4.27161483e-03, -6.24446338e-03, ...,\n",
       "          3.70670785e-03,  4.46164329e-03,  2.79103476e-03],\n",
       "        [ 3.40303313e-03, -4.25792905e-03, -6.38014125e-03, ...,\n",
       "          3.71510885e-03,  4.59400471e-03,  2.81853625e-03],\n",
       "        [ 3.38652101e-03, -4.23665717e-03, -6.49206666e-03, ...,\n",
       "          3.71362246e-03,  4.70695784e-03,  2.84189335e-03]],\n",
       "\n",
       "       ...,\n",
       "\n",
       "       [[-7.96146996e-05,  2.00651921e-05,  1.70701111e-04, ...,\n",
       "         -2.51502293e-04,  1.23648701e-04, -1.51112385e-04],\n",
       "        [-1.92536696e-04, -2.03367235e-04, -1.72944288e-04, ...,\n",
       "         -4.89450118e-04,  4.54137626e-05, -4.32175701e-04],\n",
       "        [-1.92384614e-04, -3.42643238e-04, -4.74414323e-04, ...,\n",
       "         -7.74163636e-04, -1.11532550e-04, -4.54959460e-04],\n",
       "        ...,\n",
       "        [ 3.33260838e-03, -4.06255014e-03, -6.79930020e-03, ...,\n",
       "          3.71756637e-03,  4.89261653e-03,  2.83520273e-03],\n",
       "        [ 3.29816970e-03, -4.04265989e-03, -6.83671935e-03, ...,\n",
       "          3.69588146e-03,  4.94592777e-03,  2.85528181e-03],\n",
       "        [ 3.26442090e-03, -4.02359758e-03, -6.86626928e-03, ...,\n",
       "          3.67471925e-03,  4.99137864e-03,  2.87177786e-03]],\n",
       "\n",
       "       [[-7.96146996e-05,  2.00651921e-05,  1.70701111e-04, ...,\n",
       "         -2.51502293e-04,  1.23648701e-04, -1.51112385e-04],\n",
       "        [-1.04929575e-04,  3.75294272e-04,  3.56168108e-04, ...,\n",
       "         -6.31732168e-04,  1.98060836e-04, -7.48439488e-05],\n",
       "        [ 5.73913712e-05,  7.24229263e-04,  3.44576372e-04, ...,\n",
       "         -9.94795584e-04,  1.56261405e-04,  1.27894658e-04],\n",
       "        ...,\n",
       "        [ 3.47685721e-03, -4.12234152e-03, -6.66318601e-03, ...,\n",
       "          3.77304526e-03,  4.78955451e-03,  2.69756629e-03],\n",
       "        [ 3.44073307e-03, -4.10595862e-03, -6.72652945e-03, ...,\n",
       "          3.75582953e-03,  4.86181118e-03,  2.73954379e-03],\n",
       "        [ 3.40230181e-03, -4.08750679e-03, -6.77771401e-03, ...,\n",
       "          3.73597327e-03,  4.92345775e-03,  2.77442182e-03]],\n",
       "\n",
       "       [[-7.96146996e-05,  2.00651921e-05,  1.70701111e-04, ...,\n",
       "         -2.51502293e-04,  1.23648701e-04, -1.51112385e-04],\n",
       "        [-2.64650211e-04,  1.53490619e-04, -4.04938546e-05, ...,\n",
       "         -6.63175742e-05,  3.34828765e-05, -3.41548177e-04],\n",
       "        [-5.64889458e-04,  1.16475989e-04,  1.58314579e-04, ...,\n",
       "         -9.92164205e-05,  9.21429892e-05, -4.39796539e-04],\n",
       "        ...,\n",
       "        [ 3.46680498e-03, -4.16462030e-03, -6.58210926e-03, ...,\n",
       "          3.80900106e-03,  4.80619166e-03,  2.74460809e-03],\n",
       "        [ 3.42131406e-03, -4.13305312e-03, -6.65587094e-03, ...,\n",
       "          3.77718266e-03,  4.86749550e-03,  2.77595618e-03],\n",
       "        [ 3.37626878e-03, -4.10271995e-03, -6.71587186e-03, ...,\n",
       "          3.74614797e-03,  4.92016366e-03,  2.80250330e-03]]],\n",
       "      dtype=float32)>"
      ]
     },
     "execution_count": 13,
     "metadata": {},
     "output_type": "execute_result"
    }
   ],
   "source": [
    "for src_sample, tgt_sample in dataset.take(1): break\n",
    "model(src_sample)"
   ]
  },
  {
   "cell_type": "code",
   "execution_count": null,
   "id": "radio-plenty",
   "metadata": {},
   "outputs": [],
   "source": [
    "model.summary()"
   ]
  },
  {
   "cell_type": "code",
   "execution_count": 14,
   "id": "undefined-lodge",
   "metadata": {},
   "outputs": [
    {
     "name": "stdout",
     "output_type": "stream",
     "text": [
      "Epoch 1/10\n",
      "305/305 [==============================] - 124s 406ms/step - loss: 1.8339 - accuracy: 0.7445 - val_loss: 1.5507 - val_accuracy: 0.7621\n",
      "Epoch 2/10\n",
      "305/305 [==============================] - 126s 413ms/step - loss: 1.4841 - accuracy: 0.7678 - val_loss: 1.4447 - val_accuracy: 0.7713\n",
      "Epoch 3/10\n",
      "305/305 [==============================] - 127s 415ms/step - loss: 1.4025 - accuracy: 0.7738 - val_loss: 1.3870 - val_accuracy: 0.7753\n",
      "Epoch 4/10\n",
      "305/305 [==============================] - 136s 446ms/step - loss: 1.3458 - accuracy: 0.7775 - val_loss: 1.3471 - val_accuracy: 0.7782\n",
      "Epoch 5/10\n",
      "305/305 [==============================] - 128s 418ms/step - loss: 1.2990 - accuracy: 0.7806 - val_loss: 1.3145 - val_accuracy: 0.7810\n",
      "Epoch 6/10\n",
      "305/305 [==============================] - 132s 432ms/step - loss: 1.2561 - accuracy: 0.7838 - val_loss: 1.2879 - val_accuracy: 0.7832\n",
      "Epoch 7/10\n",
      "305/305 [==============================] - 132s 433ms/step - loss: 1.2157 - accuracy: 0.7869 - val_loss: 1.2629 - val_accuracy: 0.7860\n",
      "Epoch 8/10\n",
      "305/305 [==============================] - 133s 436ms/step - loss: 1.1775 - accuracy: 0.7902 - val_loss: 1.2423 - val_accuracy: 0.7884\n",
      "Epoch 9/10\n",
      "305/305 [==============================] - 134s 438ms/step - loss: 1.1412 - accuracy: 0.7936 - val_loss: 1.2238 - val_accuracy: 0.7909\n",
      "Epoch 10/10\n",
      "305/305 [==============================] - 137s 450ms/step - loss: 1.1067 - accuracy: 0.7970 - val_loss: 1.2094 - val_accuracy: 0.7930\n"
     ]
    }
   ],
   "source": [
    "optimizer = tf.keras.optimizers.Adam()\n",
    "loss = tf.keras.losses.SparseCategoricalCrossentropy(\n",
    "    from_logits=True,\n",
    "    reduction='none'\n",
    ")\n",
    "\n",
    "model.compile(loss=loss, optimizer=optimizer, metrics=['accuracy'])\n",
    "\n",
    "history = model.fit(enc_train, \n",
    "          dec_train, \n",
    "          epochs=10,\n",
    "          batch_size=400,\n",
    "          validation_data=(enc_val, dec_val),\n",
    "          verbose=1)"
   ]
  },
  {
   "cell_type": "code",
   "execution_count": 15,
   "id": "little-evidence",
   "metadata": {},
   "outputs": [
    {
     "name": "stdout",
     "output_type": "stream",
     "text": [
      "dict_keys(['loss', 'accuracy', 'val_loss', 'val_accuracy'])\n"
     ]
    }
   ],
   "source": [
    "history_dict = history.history\n",
    "print(history_dict.keys()) # epoch에 따른 그래프를 그려볼 수 있는 항목들"
   ]
  },
  {
   "cell_type": "code",
   "execution_count": 16,
   "id": "impressive-inspector",
   "metadata": {},
   "outputs": [
    {
     "data": {
      "image/png": "[encoded data removed]",
      "text/plain": [
       "<Figure size 432x288 with 1 Axes>"
      ]
     },
     "metadata": {
      "needs_background": "light"
     },
     "output_type": "display_data"
    }
   ],
   "source": [
    "import matplotlib.pyplot as plt\n",
    "\n",
    "acc = history_dict['accuracy']\n",
    "val_acc = history_dict['val_accuracy']\n",
    "loss = history_dict['loss']\n",
    "val_loss = history_dict['val_loss']\n",
    "\n",
    "epochs = range(1, len(acc) + 1)\n",
    "\n",
    "# \"bo\"는 \"파란색 점\"\n",
    "plt.plot(epochs, loss, 'bo', label='Training loss')\n",
    "# b는 \"파란 실선\"\n",
    "plt.plot(epochs, val_loss, 'b', label='Validation loss')\n",
    "plt.title('Training and validation loss')\n",
    "plt.xlabel('Epochs')\n",
    "plt.ylabel('Loss')\n",
    "plt.legend()\n",
    "\n",
    "plt.show()"
   ]
  },
  {
   "cell_type": "code",
   "execution_count": 17,
   "id": "spectacular-default",
   "metadata": {},
   "outputs": [
    {
     "data": {
      "image/png": "[encoded data removed]",
      "text/plain": [
       "<Figure size 432x288 with 1 Axes>"
      ]
     },
     "metadata": {
      "needs_background": "light"
     },
     "output_type": "display_data"
    }
   ],
   "source": [
    "plt.clf()   # 그림을 초기화한다\n",
    "\n",
    "plt.plot(epochs, acc, 'bo', label='Training acc')\n",
    "plt.plot(epochs, val_acc, 'b', label='Validation acc')\n",
    "plt.title('Training and validation accuracy')\n",
    "plt.xlabel('Epochs')\n",
    "plt.ylabel('Accuracy')\n",
    "plt.legend()\n",
    "\n",
    "plt.show()"
   ]
  },
  {
   "cell_type": "code",
   "execution_count": 18,
   "id": "sacred-housing",
   "metadata": {},
   "outputs": [],
   "source": [
    "def generate_text(model, tokenizer, init_sentence=\"<start>\", max_len=20):\n",
    "    # 테스트를 위해서 입력받은 init_sentence도 일단 텐서로 변환합니다.\n",
    "    test_input = tokenizer.texts_to_sequences([init_sentence])\n",
    "    test_tensor = tf.convert_to_tensor(test_input, dtype=tf.int64)\n",
    "    end_token = tokenizer.word_index[\"<end>\"]\n",
    "\n",
    "    # 텍스트를 실제로 생성할때는 루프를 돌면서 단어 하나씩 생성해야 합니다. \n",
    "    while True:\n",
    "        predict = model(test_tensor)  # 입력받은 문장의 텐서를 입력합니다. \n",
    "        predict_word = tf.argmax(tf.nn.softmax(predict, axis=-1), axis=-1)[:, -1]   # 우리 모델이 예측한 마지막 단어가 바로 새롭게 생성한 단어가 됩니다. \n",
    "\n",
    "        # 우리 모델이 새롭게 예측한 단어를 입력 문장의 뒤에 붙여 줍니다. \n",
    "        test_tensor = tf.concat([test_tensor, \n",
    "                                                                 tf.expand_dims(predict_word, axis=0)], axis=-1)\n",
    "\n",
    "        # 우리 모델이 <end>를 예측했거나, max_len에 도달하지 않았다면  while 루프를 또 돌면서 다음 단어를 예측해야 합니다.\n",
    "        if predict_word.numpy()[0] == end_token: break\n",
    "        if test_tensor.shape[1] >= max_len: break\n",
    "\n",
    "    generated = \"\"\n",
    "    # 생성된 tensor 안에 있는 word index를 tokenizer.index_word 사전을 통해 실제 단어로 하나씩 변환합니다. \n",
    "    for word_index in test_tensor[0].numpy():\n",
    "        generated += tokenizer.index_word[word_index] + \" \"\n",
    "\n",
    "    return generated   # 이것이 최종적으로 모델이 생성한 자연어 문장입니다."
   ]
  },
  {
   "cell_type": "code",
   "execution_count": 22,
   "id": "separated-parish",
   "metadata": {},
   "outputs": [
    {
     "data": {
      "text/plain": [
       "'<start> i love you , i m gonna be <end> '"
      ]
     },
     "execution_count": 22,
     "metadata": {},
     "output_type": "execute_result"
    }
   ],
   "source": [
    "generate_text(model, tokenizer, init_sentence=\"<start> i love\", max_len=20)"
   ]
  },
  {
   "cell_type": "code",
   "execution_count": null,
   "id": "interesting-fellowship",
   "metadata": {},
   "outputs": [],
   "source": []
  }
 ],
 "metadata": {
  "kernelspec": {
   "display_name": "aiffel",
   "language": "python",
   "name": "aiffel"
  },
  "language_info": {
   "codemirror_mode": {
    "name": "ipython",
    "version": 3
   },
   "file_extension": ".py",
   "mimetype": "text/x-python",
   "name": "python",
   "nbconvert_exporter": "python",
   "pygments_lexer": "ipython3",
   "version": "3.7.9"
  }
 },
 "nbformat": 4,
 "nbformat_minor": 5
}
