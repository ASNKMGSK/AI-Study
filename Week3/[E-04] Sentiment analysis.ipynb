{
 "cells": [
  {
   "cell_type": "markdown",
   "metadata": {},
   "source": [
    "# 네이버 영화리뷰 감성분석"
   ]
  },
  {
   "cell_type": "markdown",
   "metadata": {},
   "source": [
    "먼저 프로젝트를 진행하기 전에 몇가지 작업이 필요하다. wget으로 데이터를 받아오고 작업할 폴더에 저장해준다.\n",
    "$ wget https://raw.githubusercontent.com/e9t/nsmc/master/ratings_train.txt\n",
    "$ wget https://raw.githubusercontent.com/e9t/nsmc/master/ratings_test.txt\n",
    "$ mv ratings_*.txt ~/aiffel/sentiment_classification"
   ]
  },
  {
   "cell_type": "markdown",
   "metadata": {},
   "source": [
    "## 1. 데이터 준비와 확인"
   ]
  },
  {
   "cell_type": "code",
   "execution_count": null,
   "metadata": {},
   "outputs": [],
   "source": [
    "# 필요한 모듈을 import한다\n",
    "import os\n",
    "os.environ[\"CUDA_VISIBLE_DEVICES\"] = \"-1\"\n",
    "import tensorflow as tf\n",
    "import pandas as pd\n",
    "import urllib.request\n",
    "%matplotlib inline\n",
    "import matplotlib.pyplot as plt\n",
    "import re\n",
    "from konlpy.tag import Okt\n",
    "from tensorflow import keras\n",
    "from tensorflow.keras.preprocessing.text import Tokenizer\n",
    "import numpy as np\n",
    "from tensorflow.keras.preprocessing.sequence import pad_sequences\n",
    "from collections import Counter\n",
    "\n",
    "# 데이터를 읽어온다\n",
    "train_data = pd.read_table('~/aiffel/sentiment_classification/ratings_train.txt')\n",
    "test_data = pd.read_table('~/aiffel/sentiment_classification/ratings_test.txt')"
   ]
  },
  {
   "cell_type": "markdown",
   "metadata": {},
   "source": [
    "## 2. 데이터로더 구성"
   ]
  },
  {
   "cell_type": "code",
   "execution_count": 2,
   "metadata": {},
   "outputs": [],
   "source": [
    "#실습 때 다루었던 IMDB 데이터셋은 이미 가공되어 있었고 imdb.data_loader()함수를 호출하여 여러가지 작업을 할 수 있었다.\n",
    "#그러나 이번 데이터셋은 가공되어 있지 않으므로 imdb.data.loader()와 동일하게 동작하는 data_loader 함수를 하나 만들어줘야 한다.\n",
    "\n",
    "from konlpy.tag import Mecab\n",
    "tokenizer = Mecab()\n",
    "stopwords = ['의','가','이','은','들','는','좀','잘','걍','과','도','를','으로','자','에','와','한','하다']\n",
    "\n",
    "def load_data(train_data, test_data, num_words=10000):\n",
    "    train_data.drop_duplicates(subset=['document'], inplace=True)\n",
    "    train_data = train_data.dropna(how = 'any') \n",
    "    test_data.drop_duplicates(subset=['document'], inplace=True)\n",
    "    test_data = test_data.dropna(how = 'any') \n",
    "\n",
    "    X_train = []\n",
    "    for sentence in train_data['document']:\n",
    "        temp_X = tokenizer.morphs(sentence) # 토큰화\n",
    "        temp_X = [word for word in temp_X if not word in stopwords] # 불용어 제거\n",
    "        X_train.append(temp_X)\n",
    "\n",
    "    X_test = []\n",
    "    for sentence in test_data['document']:\n",
    "        temp_X = tokenizer.morphs(sentence) # 토큰화\n",
    "        temp_X = [word for word in temp_X if not word in stopwords] # 불용어 제거\n",
    "        X_test.append(temp_X)\n",
    "\n",
    "    words = np.concatenate(X_train).tolist()\n",
    "    counter = Counter(words)\n",
    "    counter = counter.most_common(10000-4)\n",
    "    vocab = ['<PAD>', '<BOS>', '<UNK>', '<UNUSED>'] + [key for key, _ in counter]\n",
    "    word_to_index = {word:index for index, word in enumerate(vocab)}\n",
    "\n",
    "    def wordlist_to_indexlist(wordlist):\n",
    "        return [word_to_index[word] if word in word_to_index else word_to_index['<UNK>'] for word in wordlist]\n",
    "\n",
    "    X_train = list(map(wordlist_to_indexlist, X_train))\n",
    "    X_test = list(map(wordlist_to_indexlist, X_test))\n",
    "\n",
    "    return X_train, np.array(list(train_data['label'])), X_test, np.array(list(test_data['label'])), word_to_index\n",
    "\n",
    "X_train, y_train, X_test, y_test, word_to_index = load_data(train_data, test_data) "
   ]
  },
  {
   "cell_type": "code",
   "execution_count": 3,
   "metadata": {},
   "outputs": [],
   "source": [
    "index_to_word = {index:word for word, index in word_to_index.items()}"
   ]
  },
  {
   "cell_type": "code",
   "execution_count": 4,
   "metadata": {},
   "outputs": [],
   "source": [
    "# 문장 1개를 활용할 딕셔너리와 함께 주면, 단어 인덱스 리스트 벡터로 변환해 주는 함수\n",
    "# 단, 모든 문장은 <BOS>로 시작하는 것으로 한다\n",
    "def get_encoded_sentence(sentence, word_to_index):\n",
    "    return [word_to_index['<BOS>']]+[word_to_index[word] if word in word_to_index else word_to_index['<UNK>'] for word in sentence.split()]\n",
    "\n",
    "# 여러 개의 문장 리스트를 한꺼번에 단어 인덱스 리스트 벡터로 encode해 주는 함수 \n",
    "def get_encoded_sentences(sentences, word_to_index):\n",
    "    return [get_encoded_sentence(sentence, word_to_index) for sentence in sentences]\n",
    "\n",
    "# 숫자 벡터로 encode된 문장을 원래대로 decode하는 함수입니다. \n",
    "def get_decoded_sentence(encoded_sentence, index_to_word):\n",
    "    return ' '.join(index_to_word[index] if index in index_to_word else '<UNK>' for index in encoded_sentence[1:])  #[1:]를 통해 <BOS>를 제외\n",
    "\n",
    "# 여러개의 숫자 벡터로 encode된 문장을 한꺼번에 원래대로 decode하는 함수입니다. \n",
    "def get_decoded_sentences(encoded_sentences, index_to_word):\n",
    "    return [get_decoded_sentence(encoded_sentence, index_to_word) for encoded_sentence in encoded_sentences]"
   ]
  },
  {
   "cell_type": "markdown",
   "metadata": {},
   "source": [
    "## 3. 모델구성을 위한 데이터 분석 및 가공"
   ]
  },
  {
   "cell_type": "code",
   "execution_count": 5,
   "metadata": {},
   "outputs": [
    {
     "name": "stdout",
     "output_type": "stream",
     "text": [
      "문장길이 평균 :  15.96938143432699\n",
      "문장길이 최대 :  116\n",
      "문장길이 표준편차 :  12.843571939469296\n",
      "pad_sequences maxlen :  41\n",
      "전체 문장의 0.9342988343341575%가 maxlen 설정값 이내에 포함됩니다. \n"
     ]
    }
   ],
   "source": [
    "total_data_text = list(X_train) + list(X_test)\n",
    "# 텍스트데이터 문장길이의 리스트를 생성한 후\n",
    "num_tokens = [len(tokens) for tokens in total_data_text]\n",
    "num_tokens = np.array(num_tokens)\n",
    "# 문장길이의 평균값, 최대값, 표준편차를 계산해 본다. \n",
    "print('문장길이 평균 : ', np.mean(num_tokens))\n",
    "print('문장길이 최대 : ', np.max(num_tokens))\n",
    "print('문장길이 표준편차 : ', np.std(num_tokens))\n",
    "\n",
    "# 예를들어, 최대 길이를 (평균 + 2*표준편차)로 한다면,  \n",
    "max_tokens = np.mean(num_tokens) + 2 * np.std(num_tokens)\n",
    "maxlen = int(max_tokens)\n",
    "print('pad_sequences maxlen : ', maxlen)\n",
    "print('전체 문장의 {}%가 maxlen 설정값 이내에 포함됩니다. '.format(np.sum(num_tokens < max_tokens) / len(num_tokens)))"
   ]
  },
  {
   "cell_type": "markdown",
   "metadata": {},
   "source": [
    "## 4. 모델구성 및 validation set 구성"
   ]
  },
  {
   "cell_type": "code",
   "execution_count": 6,
   "metadata": {},
   "outputs": [
    {
     "name": "stdout",
     "output_type": "stream",
     "text": [
      "(146182, 41)\n"
     ]
    }
   ],
   "source": [
    "X_train = keras.preprocessing.sequence.pad_sequences(X_train,\n",
    "                                                        value=word_to_index[\"<PAD>\"],\n",
    "                                                        padding='post', # 혹은 'pre'\n",
    "                                                        maxlen=maxlen)\n",
    "\n",
    "X_test = keras.preprocessing.sequence.pad_sequences(X_test,\n",
    "                                                       value=word_to_index[\"<PAD>\"],\n",
    "                                                       padding='post', # 혹은 'pre'\n",
    "                                                       maxlen=maxlen)\n",
    "print(X_train.shape)"
   ]
  },
  {
   "cell_type": "code",
   "execution_count": 7,
   "metadata": {},
   "outputs": [
    {
     "name": "stdout",
     "output_type": "stream",
     "text": [
      "(146182, 41)\n",
      "(96182, 41)\n",
      "(96182,)\n"
     ]
    }
   ],
   "source": [
    "# validation set 50000건 분리\n",
    "X_val = X_train[:50000]   \n",
    "y_val = y_train[:50000]\n",
    "\n",
    "partial_X_train = X_train[50000:]  \n",
    "partial_y_train = y_train[50000:]\n",
    "\n",
    "print(X_train.shape)\n",
    "print(partial_X_train.shape)\n",
    "print(partial_y_train.shape)"
   ]
  },
  {
   "cell_type": "code",
   "execution_count": 8,
   "metadata": {},
   "outputs": [],
   "source": [
    "vocab_size = 10000    # 어휘 사전의 크기입니다(10,000개의 단어)\n",
    "word_vector_dim = 200  # 워드 벡터의 차원수 (변경가능한 하이퍼파라미터)"
   ]
  },
  {
   "cell_type": "markdown",
   "metadata": {},
   "source": [
    "# 1-D CNN"
   ]
  },
  {
   "cell_type": "code",
   "execution_count": 9,
   "metadata": {},
   "outputs": [
    {
     "name": "stdout",
     "output_type": "stream",
     "text": [
      "Model: \"sequential\"\n",
      "_________________________________________________________________\n",
      "Layer (type)                 Output Shape              Param #   \n",
      "=================================================================\n",
      "embedding (Embedding)        (None, None, 200)         2000000   \n",
      "_________________________________________________________________\n",
      "conv1d (Conv1D)              (None, None, 16)          22416     \n",
      "_________________________________________________________________\n",
      "max_pooling1d (MaxPooling1D) (None, None, 16)          0         \n",
      "_________________________________________________________________\n",
      "conv1d_1 (Conv1D)            (None, None, 16)          1808      \n",
      "_________________________________________________________________\n",
      "global_max_pooling1d (Global (None, 16)                0         \n",
      "_________________________________________________________________\n",
      "dense (Dense)                (None, 8)                 136       \n",
      "_________________________________________________________________\n",
      "dense_1 (Dense)              (None, 1)                 9         \n",
      "=================================================================\n",
      "Total params: 2,024,369\n",
      "Trainable params: 2,024,369\n",
      "Non-trainable params: 0\n",
      "_________________________________________________________________\n"
     ]
    }
   ],
   "source": [
    "# model 설계\n",
    "model = keras.Sequential()\n",
    "model.add(keras.layers.Embedding(vocab_size, word_vector_dim, input_shape=(None,)))\n",
    "model.add(keras.layers.Conv1D(16, 7, activation='relu'))\n",
    "model.add(keras.layers.MaxPooling1D(5))\n",
    "model.add(keras.layers.Conv1D(16, 7, activation='relu'))\n",
    "model.add(keras.layers.GlobalMaxPooling1D())\n",
    "model.add(keras.layers.Dense(8, activation='relu'))\n",
    "model.add(keras.layers.Dense(1, activation='sigmoid'))  # 최종 출력은 긍정/부정을 나타내는 2개의 값\n",
    "\n",
    "model.summary()"
   ]
  },
  {
   "cell_type": "markdown",
   "metadata": {},
   "source": [
    "## 모델 훈련 개시"
   ]
  },
  {
   "cell_type": "code",
   "execution_count": 10,
   "metadata": {},
   "outputs": [
    {
     "name": "stdout",
     "output_type": "stream",
     "text": [
      "Epoch 1/15\n",
      "188/188 [==============================] - 12s 62ms/step - loss: 0.4735 - accuracy: 0.7698 - val_loss: 0.3516 - val_accuracy: 0.8459\n",
      "Epoch 2/15\n",
      "188/188 [==============================] - 11s 59ms/step - loss: 0.3148 - accuracy: 0.8678 - val_loss: 0.3382 - val_accuracy: 0.8529\n",
      "Epoch 3/15\n",
      "188/188 [==============================] - 11s 57ms/step - loss: 0.2621 - accuracy: 0.8953 - val_loss: 0.3459 - val_accuracy: 0.8529\n",
      "Epoch 4/15\n",
      "188/188 [==============================] - 11s 56ms/step - loss: 0.2018 - accuracy: 0.9236 - val_loss: 0.3772 - val_accuracy: 0.8474\n",
      "Epoch 5/15\n",
      "188/188 [==============================] - 11s 59ms/step - loss: 0.1390 - accuracy: 0.9515 - val_loss: 0.4233 - val_accuracy: 0.8413\n",
      "Epoch 6/15\n",
      "188/188 [==============================] - 10s 55ms/step - loss: 0.0923 - accuracy: 0.9698 - val_loss: 0.5042 - val_accuracy: 0.8357\n",
      "Epoch 7/15\n",
      "188/188 [==============================] - 10s 55ms/step - loss: 0.0618 - accuracy: 0.9802 - val_loss: 0.5773 - val_accuracy: 0.8354\n",
      "Epoch 8/15\n",
      "188/188 [==============================] - 10s 54ms/step - loss: 0.0433 - accuracy: 0.9863 - val_loss: 0.6635 - val_accuracy: 0.8334\n",
      "Epoch 9/15\n",
      "188/188 [==============================] - 11s 56ms/step - loss: 0.0317 - accuracy: 0.9898 - val_loss: 0.7448 - val_accuracy: 0.8318\n",
      "Epoch 10/15\n",
      "188/188 [==============================] - 11s 60ms/step - loss: 0.0245 - accuracy: 0.9918 - val_loss: 0.8362 - val_accuracy: 0.8290\n",
      "Epoch 11/15\n",
      "188/188 [==============================] - 11s 60ms/step - loss: 0.0191 - accuracy: 0.9935 - val_loss: 0.9115 - val_accuracy: 0.8264\n",
      "Epoch 12/15\n",
      "188/188 [==============================] - 12s 63ms/step - loss: 0.0161 - accuracy: 0.9945 - val_loss: 0.9500 - val_accuracy: 0.8282\n",
      "Epoch 13/15\n",
      "188/188 [==============================] - 13s 68ms/step - loss: 0.0156 - accuracy: 0.9945 - val_loss: 1.0268 - val_accuracy: 0.8245\n",
      "Epoch 14/15\n",
      "188/188 [==============================] - 12s 66ms/step - loss: 0.0192 - accuracy: 0.9928 - val_loss: 1.0961 - val_accuracy: 0.8273\n",
      "Epoch 15/15\n",
      "188/188 [==============================] - 11s 59ms/step - loss: 0.0325 - accuracy: 0.9876 - val_loss: 1.0075 - val_accuracy: 0.8234\n"
     ]
    }
   ],
   "source": [
    "model.compile(optimizer='adam',\n",
    "              loss='binary_crossentropy',\n",
    "              metrics=['accuracy'])\n",
    "              \n",
    "epochs=15  # 몇 epoch를 훈련하면 좋을지 결과를 보면서 바꾸어 봅시다. \n",
    "\n",
    "history = model.fit(partial_X_train,\n",
    "                    partial_y_train,\n",
    "                    epochs=epochs,\n",
    "                    batch_size=512,\n",
    "                    validation_data=(X_val, y_val),\n",
    "                    verbose=1)"
   ]
  },
  {
   "cell_type": "code",
   "execution_count": 11,
   "metadata": {},
   "outputs": [
    {
     "name": "stdout",
     "output_type": "stream",
     "text": [
      "1537/1537 - 1s - loss: 1.0275 - accuracy: 0.8197\n",
      "[1.0275135040283203, 0.8197205066680908]\n"
     ]
    }
   ],
   "source": [
    "results = model.evaluate(X_test,  y_test, verbose=2)\n",
    "\n",
    "print(results)"
   ]
  },
  {
   "cell_type": "markdown",
   "metadata": {},
   "source": [
    "## 6. Loss, Accuracy 그래프 시각화"
   ]
  },
  {
   "cell_type": "code",
   "execution_count": 12,
   "metadata": {},
   "outputs": [
    {
     "name": "stdout",
     "output_type": "stream",
     "text": [
      "dict_keys(['loss', 'accuracy', 'val_loss', 'val_accuracy'])\n"
     ]
    }
   ],
   "source": [
    "history_dict = history.history\n",
    "print(history_dict.keys()) # epoch에 따른 그래프를 그려볼 수 있는 항목들"
   ]
  },
  {
   "cell_type": "code",
   "execution_count": 13,
   "metadata": {},
   "outputs": [
    {
     "data": {
      "image/png": "[encoded data removed]",
      "text/plain": [
       "<Figure size 432x288 with 1 Axes>"
      ]
     },
     "metadata": {
      "needs_background": "light"
     },
     "output_type": "display_data"
    }
   ],
   "source": [
    "import matplotlib.pyplot as plt\n",
    "\n",
    "acc = history_dict['accuracy']\n",
    "val_acc = history_dict['val_accuracy']\n",
    "loss = history_dict['loss']\n",
    "val_loss = history_dict['val_loss']\n",
    "\n",
    "epochs = range(1, len(acc) + 1)\n",
    "\n",
    "# \"bo\"는 \"파란색 점\"입니다\n",
    "plt.plot(epochs, loss, 'bo', label='Training loss')\n",
    "# b는 \"파란 실선\"입니다\n",
    "plt.plot(epochs, val_loss, 'b', label='Validation loss')\n",
    "plt.title('Training and validation loss')\n",
    "plt.xlabel('Epochs')\n",
    "plt.ylabel('Loss')\n",
    "plt.legend()\n",
    "\n",
    "plt.show()"
   ]
  },
  {
   "cell_type": "code",
   "execution_count": 14,
   "metadata": {},
   "outputs": [
    {
     "data": {
      "image/png": "[encoded data removed]",
      "text/plain": [
       "<Figure size 432x288 with 1 Axes>"
      ]
     },
     "metadata": {
      "needs_background": "light"
     },
     "output_type": "display_data"
    }
   ],
   "source": [
    "plt.clf()   # 그림을 초기화합니다\n",
    "\n",
    "plt.plot(epochs, acc, 'bo', label='Training acc')\n",
    "plt.plot(epochs, val_acc, 'b', label='Validation acc')\n",
    "plt.title('Training and validation accuracy')\n",
    "plt.xlabel('Epochs')\n",
    "plt.ylabel('Accuracy')\n",
    "plt.legend()\n",
    "\n",
    "plt.show()"
   ]
  },
  {
   "cell_type": "markdown",
   "metadata": {},
   "source": [
    "## 7. 같은 방법으로 여러가지 모델을 만들고 결과를 시각화 해보자"
   ]
  },
  {
   "cell_type": "markdown",
   "metadata": {},
   "source": [
    "### 7.1 GlobalMaxPooling"
   ]
  },
  {
   "cell_type": "code",
   "execution_count": 15,
   "metadata": {},
   "outputs": [
    {
     "name": "stdout",
     "output_type": "stream",
     "text": [
      "Model: \"sequential_1\"\n",
      "_________________________________________________________________\n",
      "Layer (type)                 Output Shape              Param #   \n",
      "=================================================================\n",
      "embedding_1 (Embedding)      (None, None, 200)         2000000   \n",
      "_________________________________________________________________\n",
      "global_max_pooling1d_1 (Glob (None, 200)               0         \n",
      "_________________________________________________________________\n",
      "dense_2 (Dense)              (None, 8)                 1608      \n",
      "_________________________________________________________________\n",
      "dense_3 (Dense)              (None, 1)                 9         \n",
      "=================================================================\n",
      "Total params: 2,001,617\n",
      "Trainable params: 2,001,617\n",
      "Non-trainable params: 0\n",
      "_________________________________________________________________\n"
     ]
    }
   ],
   "source": [
    "model2 = keras.Sequential()\n",
    "model2.add(keras.layers.Embedding(vocab_size, word_vector_dim, input_shape=(None,)))\n",
    "model2.add(keras.layers.GlobalMaxPooling1D())\n",
    "model2.add(keras.layers.Dense(8, activation='relu'))\n",
    "model2.add(keras.layers.Dense(1, activation='sigmoid'))\n",
    "\n",
    "model2.summary()"
   ]
  },
  {
   "cell_type": "code",
   "execution_count": 16,
   "metadata": {},
   "outputs": [
    {
     "name": "stdout",
     "output_type": "stream",
     "text": [
      "Epoch 1/15\n",
      "188/188 [==============================] - 5s 27ms/step - loss: 0.5484 - accuracy: 0.7326 - val_loss: 0.3733 - val_accuracy: 0.8403\n",
      "Epoch 2/15\n",
      "188/188 [==============================] - 5s 27ms/step - loss: 0.3284 - accuracy: 0.8619 - val_loss: 0.3397 - val_accuracy: 0.8518\n",
      "Epoch 3/15\n",
      "188/188 [==============================] - 5s 27ms/step - loss: 0.2725 - accuracy: 0.8888 - val_loss: 0.3423 - val_accuracy: 0.8529\n",
      "Epoch 4/15\n",
      "188/188 [==============================] - 5s 28ms/step - loss: 0.2292 - accuracy: 0.9098 - val_loss: 0.3577 - val_accuracy: 0.8518\n",
      "Epoch 5/15\n",
      "188/188 [==============================] - 5s 28ms/step - loss: 0.1879 - accuracy: 0.9297 - val_loss: 0.3789 - val_accuracy: 0.8496\n",
      "Epoch 6/15\n",
      "188/188 [==============================] - 5s 28ms/step - loss: 0.1480 - accuracy: 0.9490 - val_loss: 0.4101 - val_accuracy: 0.8473\n",
      "Epoch 7/15\n",
      "188/188 [==============================] - 5s 27ms/step - loss: 0.1101 - accuracy: 0.9661 - val_loss: 0.4440 - val_accuracy: 0.8438\n",
      "Epoch 8/15\n",
      "188/188 [==============================] - 5s 27ms/step - loss: 0.0787 - accuracy: 0.9787 - val_loss: 0.4840 - val_accuracy: 0.8433\n",
      "Epoch 9/15\n",
      "188/188 [==============================] - 5s 27ms/step - loss: 0.0547 - accuracy: 0.9868 - val_loss: 0.5254 - val_accuracy: 0.8401\n",
      "Epoch 10/15\n",
      "188/188 [==============================] - 5s 28ms/step - loss: 0.0389 - accuracy: 0.9914 - val_loss: 0.5624 - val_accuracy: 0.8392\n",
      "Epoch 11/15\n",
      "188/188 [==============================] - 5s 27ms/step - loss: 0.0284 - accuracy: 0.9935 - val_loss: 0.5954 - val_accuracy: 0.8391\n",
      "Epoch 12/15\n",
      "188/188 [==============================] - 5s 27ms/step - loss: 0.0216 - accuracy: 0.9951 - val_loss: 0.6301 - val_accuracy: 0.8373\n",
      "Epoch 13/15\n",
      "188/188 [==============================] - 5s 29ms/step - loss: 0.0169 - accuracy: 0.9960 - val_loss: 0.6584 - val_accuracy: 0.8373\n",
      "Epoch 14/15\n",
      "188/188 [==============================] - 5s 28ms/step - loss: 0.0135 - accuracy: 0.9965 - val_loss: 0.6856 - val_accuracy: 0.8371\n",
      "Epoch 15/15\n",
      "188/188 [==============================] - 5s 28ms/step - loss: 0.0117 - accuracy: 0.9969 - val_loss: 0.7086 - val_accuracy: 0.8377\n"
     ]
    }
   ],
   "source": [
    "model2.compile(optimizer='adam',\n",
    "              loss='binary_crossentropy',\n",
    "              metrics=['accuracy'])\n",
    "              \n",
    "epochs=15  # 몇 epoch를 훈련하면 좋을지 결과를 보면서 바꾸어 봅시다. \n",
    "\n",
    "history = model2.fit(partial_X_train,\n",
    "                    partial_y_train,\n",
    "                    epochs=epochs,\n",
    "                    batch_size=512,\n",
    "                    validation_data=(X_val, y_val),\n",
    "                    verbose=1)"
   ]
  },
  {
   "cell_type": "code",
   "execution_count": 17,
   "metadata": {},
   "outputs": [
    {
     "name": "stdout",
     "output_type": "stream",
     "text": [
      "1537/1537 - 1s - loss: 0.7161 - accuracy: 0.8325\n",
      "[0.7160937190055847, 0.8325162529945374]\n"
     ]
    }
   ],
   "source": [
    "results = model2.evaluate(X_test,  y_test, verbose=2)\n",
    "\n",
    "print(results)"
   ]
  },
  {
   "cell_type": "code",
   "execution_count": 18,
   "metadata": {},
   "outputs": [
    {
     "name": "stdout",
     "output_type": "stream",
     "text": [
      "dict_keys(['loss', 'accuracy', 'val_loss', 'val_accuracy'])\n"
     ]
    }
   ],
   "source": [
    "history_dict = history.history\n",
    "print(history_dict.keys()) # epoch에 따른 그래프를 그려볼 수 있는 항목들"
   ]
  },
  {
   "cell_type": "code",
   "execution_count": 19,
   "metadata": {},
   "outputs": [
    {
     "data": {
      "image/png": "[encoded data removed]",
      "text/plain": [
       "<Figure size 432x288 with 1 Axes>"
      ]
     },
     "metadata": {
      "needs_background": "light"
     },
     "output_type": "display_data"
    }
   ],
   "source": [
    "acc = history_dict['accuracy']\n",
    "val_acc = history_dict['val_accuracy']\n",
    "loss = history_dict['loss']\n",
    "val_loss = history_dict['val_loss']\n",
    "\n",
    "epochs = range(1, len(acc) + 1)\n",
    "\n",
    "# \"bo\"는 \"파란색 점\"입니다\n",
    "plt.plot(epochs, loss, 'bo', label='Training loss')\n",
    "# b는 \"파란 실선\"입니다\n",
    "plt.plot(epochs, val_loss, 'b', label='Validation loss')\n",
    "plt.title('Training and validation loss')\n",
    "plt.xlabel('Epochs')\n",
    "plt.ylabel('Loss')\n",
    "plt.legend()\n",
    "\n",
    "plt.show()"
   ]
  },
  {
   "cell_type": "code",
   "execution_count": 20,
   "metadata": {},
   "outputs": [
    {
     "data": {
      "image/png": "[encoded data removed]",
      "text/plain": [
       "<Figure size 432x288 with 1 Axes>"
      ]
     },
     "metadata": {
      "needs_background": "light"
     },
     "output_type": "display_data"
    }
   ],
   "source": [
    "plt.clf()   # 그림을 초기화합니다\n",
    "\n",
    "plt.plot(epochs, acc, 'bo', label='Training acc')\n",
    "plt.plot(epochs, val_acc, 'b', label='Validation acc')\n",
    "plt.title('Training and validation accuracy')\n",
    "plt.xlabel('Epochs')\n",
    "plt.ylabel('Accuracy')\n",
    "plt.legend()\n",
    "\n",
    "plt.show()"
   ]
  },
  {
   "cell_type": "markdown",
   "metadata": {},
   "source": [
    "### 7.2 LSTM"
   ]
  },
  {
   "cell_type": "code",
   "execution_count": 21,
   "metadata": {},
   "outputs": [
    {
     "name": "stdout",
     "output_type": "stream",
     "text": [
      "Model: \"sequential_2\"\n",
      "_________________________________________________________________\n",
      "Layer (type)                 Output Shape              Param #   \n",
      "=================================================================\n",
      "embedding_2 (Embedding)      (None, None, 200)         2000000   \n",
      "_________________________________________________________________\n",
      "lstm (LSTM)                  (None, 8)                 6688      \n",
      "_________________________________________________________________\n",
      "dense_4 (Dense)              (None, 8)                 72        \n",
      "_________________________________________________________________\n",
      "dense_5 (Dense)              (None, 1)                 9         \n",
      "=================================================================\n",
      "Total params: 2,006,769\n",
      "Trainable params: 2,006,769\n",
      "Non-trainable params: 0\n",
      "_________________________________________________________________\n"
     ]
    }
   ],
   "source": [
    "model3 = keras.Sequential()\n",
    "model3.add(keras.layers.Embedding(vocab_size, word_vector_dim, input_shape=(None,)))\n",
    "model3.add(keras.layers.LSTM(8))   # 가장 널리 쓰이는 RNN인 LSTM 레이어를 사용하였습니다. 이때 LSTM state 벡터의 차원수는 8로 하였습니다. (변경가능)\n",
    "model3.add(keras.layers.Dense(8, activation='relu'))\n",
    "model3.add(keras.layers.Dense(1, activation='sigmoid'))  # 최종 출력은 긍정/부정을 나타내는 1dim 입니다.\n",
    "\n",
    "model3.summary()"
   ]
  },
  {
   "cell_type": "code",
   "execution_count": 22,
   "metadata": {},
   "outputs": [
    {
     "name": "stdout",
     "output_type": "stream",
     "text": [
      "Epoch 1/15\n",
      "188/188 [==============================] - 11s 57ms/step - loss: 0.5741 - accuracy: 0.6714 - val_loss: 0.3859 - val_accuracy: 0.8380\n",
      "Epoch 2/15\n",
      "188/188 [==============================] - 10s 55ms/step - loss: 0.3474 - accuracy: 0.8527 - val_loss: 0.3506 - val_accuracy: 0.8479\n",
      "Epoch 3/15\n",
      "188/188 [==============================] - 10s 55ms/step - loss: 0.3050 - accuracy: 0.8720 - val_loss: 0.3543 - val_accuracy: 0.8487\n",
      "Epoch 4/15\n",
      "188/188 [==============================] - 10s 54ms/step - loss: 0.2784 - accuracy: 0.8829 - val_loss: 0.3621 - val_accuracy: 0.8483\n",
      "Epoch 5/15\n",
      "188/188 [==============================] - 10s 55ms/step - loss: 0.2595 - accuracy: 0.8912 - val_loss: 0.3781 - val_accuracy: 0.8490\n",
      "Epoch 6/15\n",
      "188/188 [==============================] - 10s 55ms/step - loss: 0.2412 - accuracy: 0.8983 - val_loss: 0.3849 - val_accuracy: 0.8475\n",
      "Epoch 7/15\n",
      "188/188 [==============================] - 10s 54ms/step - loss: 0.2267 - accuracy: 0.9059 - val_loss: 0.4021 - val_accuracy: 0.8469\n",
      "Epoch 8/15\n",
      "188/188 [==============================] - 10s 54ms/step - loss: 0.2096 - accuracy: 0.9141 - val_loss: 0.4079 - val_accuracy: 0.8479\n",
      "Epoch 9/15\n",
      "188/188 [==============================] - 10s 55ms/step - loss: 0.1951 - accuracy: 0.9211 - val_loss: 0.4183 - val_accuracy: 0.8472\n",
      "Epoch 10/15\n",
      "188/188 [==============================] - 11s 56ms/step - loss: 0.1819 - accuracy: 0.9278 - val_loss: 0.4170 - val_accuracy: 0.8455\n",
      "Epoch 11/15\n",
      "188/188 [==============================] - 10s 54ms/step - loss: 0.1697 - accuracy: 0.9331 - val_loss: 0.4544 - val_accuracy: 0.8465\n",
      "Epoch 12/15\n",
      "188/188 [==============================] - 10s 55ms/step - loss: 0.1573 - accuracy: 0.9391 - val_loss: 0.4675 - val_accuracy: 0.8465\n",
      "Epoch 13/15\n",
      "188/188 [==============================] - 10s 53ms/step - loss: 0.1465 - accuracy: 0.9440 - val_loss: 0.4798 - val_accuracy: 0.8445\n",
      "Epoch 14/15\n",
      "188/188 [==============================] - 10s 53ms/step - loss: 0.1371 - accuracy: 0.9493 - val_loss: 0.4958 - val_accuracy: 0.8404\n",
      "Epoch 15/15\n",
      "188/188 [==============================] - 10s 53ms/step - loss: 0.1283 - accuracy: 0.9531 - val_loss: 0.5122 - val_accuracy: 0.8366\n"
     ]
    }
   ],
   "source": [
    "model3.compile(optimizer='adam',\n",
    "              loss='binary_crossentropy',\n",
    "              metrics=['accuracy'])\n",
    "              \n",
    "epochs=15  # 몇 epoch를 훈련하면 좋을지 결과를 보면서 바꾸어 봅시다. \n",
    "\n",
    "history = model3.fit(partial_X_train,\n",
    "                    partial_y_train,\n",
    "                    epochs=epochs,\n",
    "                    batch_size=512,\n",
    "                    validation_data=(X_val, y_val),\n",
    "                    verbose=1)"
   ]
  },
  {
   "cell_type": "code",
   "execution_count": 23,
   "metadata": {},
   "outputs": [
    {
     "name": "stdout",
     "output_type": "stream",
     "text": [
      "1537/1537 - 4s - loss: 0.5223 - accuracy: 0.8329\n",
      "[0.5222887992858887, 0.8329434394836426]\n"
     ]
    }
   ],
   "source": [
    "results = model3.evaluate(X_test,  y_test, verbose=2)\n",
    "\n",
    "print(results)"
   ]
  },
  {
   "cell_type": "code",
   "execution_count": 24,
   "metadata": {},
   "outputs": [
    {
     "name": "stdout",
     "output_type": "stream",
     "text": [
      "dict_keys(['loss', 'accuracy', 'val_loss', 'val_accuracy'])\n"
     ]
    }
   ],
   "source": [
    "history_dict = history.history\n",
    "print(history_dict.keys()) # epoch에 따른 그래프를 그려볼 수 있는 항목들"
   ]
  },
  {
   "cell_type": "code",
   "execution_count": 25,
   "metadata": {},
   "outputs": [
    {
     "data": {
      "image/png": "[encoded data removed]",
      "text/plain": [
       "<Figure size 432x288 with 1 Axes>"
      ]
     },
     "metadata": {
      "needs_background": "light"
     },
     "output_type": "display_data"
    }
   ],
   "source": [
    "acc = history_dict['accuracy']\n",
    "val_acc = history_dict['val_accuracy']\n",
    "loss = history_dict['loss']\n",
    "val_loss = history_dict['val_loss']\n",
    "\n",
    "epochs = range(1, len(acc) + 1)\n",
    "\n",
    "# \"bo\"는 \"파란색 점\"입니다\n",
    "plt.plot(epochs, loss, 'bo', label='Training loss')\n",
    "# b는 \"파란 실선\"입니다\n",
    "plt.plot(epochs, val_loss, 'b', label='Validation loss')\n",
    "plt.title('Training and validation loss')\n",
    "plt.xlabel('Epochs')\n",
    "plt.ylabel('Loss')\n",
    "plt.legend()\n",
    "\n",
    "plt.show()"
   ]
  },
  {
   "cell_type": "code",
   "execution_count": 26,
   "metadata": {},
   "outputs": [
    {
     "data": {
      "image/png": "[encoded data removed]",
      "text/plain": [
       "<Figure size 432x288 with 1 Axes>"
      ]
     },
     "metadata": {
      "needs_background": "light"
     },
     "output_type": "display_data"
    }
   ],
   "source": [
    "plt.clf()   # 그림을 초기화합니다\n",
    "\n",
    "plt.plot(epochs, acc, 'bo', label='Training acc')\n",
    "plt.plot(epochs, val_acc, 'b', label='Validation acc')\n",
    "plt.title('Training and validation accuracy')\n",
    "plt.xlabel('Epochs')\n",
    "plt.ylabel('Accuracy')\n",
    "plt.legend()\n",
    "\n",
    "plt.show()"
   ]
  },
  {
   "cell_type": "code",
   "execution_count": 48,
   "metadata": {},
   "outputs": [
    {
     "name": "stdout",
     "output_type": "stream",
     "text": [
      "1537/1537 - 1s - loss: 1.0275 - accuracy: 0.8197\n",
      "[1.0275135040283203, 0.8197205066680908]\n",
      "1537/1537 - 1s - loss: 0.7161 - accuracy: 0.8325\n",
      "[0.7160937190055847, 0.8325162529945374]\n",
      "1537/1537 - 3s - loss: 0.5223 - accuracy: 0.8329\n",
      "[0.5222887992858887, 0.8329434394836426]\n"
     ]
    }
   ],
   "source": [
    "results = model.evaluate(X_test,  y_test, verbose=2)\n",
    "print(results)\n",
    "\n",
    "results = model2.evaluate(X_test,  y_test, verbose=2)\n",
    "print(results)\n",
    "\n",
    "results = model3.evaluate(X_test,  y_test, verbose=2)\n",
    "print(results)"
   ]
  },
  {
   "cell_type": "markdown",
   "metadata": {},
   "source": [
    "## 8. Embedding 레이어 분석"
   ]
  },
  {
   "cell_type": "code",
   "execution_count": 27,
   "metadata": {},
   "outputs": [
    {
     "name": "stdout",
     "output_type": "stream",
     "text": [
      "(10000, 200)\n"
     ]
    }
   ],
   "source": [
    "embedding_layer = model.layers[0]\n",
    "weights = embedding_layer.get_weights()[0]\n",
    "print(weights.shape)    # shape: (vocab_size, embedding_dim)"
   ]
  },
  {
   "cell_type": "code",
   "execution_count": 28,
   "metadata": {},
   "outputs": [],
   "source": [
    "import os\n",
    "\n",
    "# 학습한 Embedding 파라미터를 파일에 써서 저장\n",
    "word2vec_file_path = os.getenv('HOME')+'/aiffel/sentiment_classification/word2vec.txt'\n",
    "f = open(word2vec_file_path, 'w')\n",
    "f.write('{} {}\\n'.format(vocab_size-4, word_vector_dim)) # 몇개의 벡터를 얼마 사이즈로 기재할지 타이틀 작성\n",
    "\n",
    "# 단어 개수(에서 특수문자 4개는 제외하고)만큼의 워드 벡터를 파일에 기록\n",
    "vectors = model.get_weights()[0]\n",
    "for i in range(4,vocab_size):\n",
    "    f.write('{} {}\\n'.format(index_to_word[i], ' '.join(map(str, list(vectors[i, :])))))\n",
    "f.close()"
   ]
  },
  {
   "cell_type": "code",
   "execution_count": 1,
   "metadata": {},
   "outputs": [
    {
     "ename": "NameError",
     "evalue": "name 'word2vec_file_path' is not defined",
     "output_type": "error",
     "traceback": [
      "\u001b[0;31m---------------------------------------------------------------------------\u001b[0m",
      "\u001b[0;31mNameError\u001b[0m                                 Traceback (most recent call last)",
      "\u001b[0;32m<ipython-input-1-1c0df504558a>\u001b[0m in \u001b[0;36m<module>\u001b[0;34m\u001b[0m\n\u001b[1;32m      1\u001b[0m \u001b[0;32mfrom\u001b[0m \u001b[0mgensim\u001b[0m\u001b[0;34m.\u001b[0m\u001b[0mmodels\u001b[0m\u001b[0;34m.\u001b[0m\u001b[0mkeyedvectors\u001b[0m \u001b[0;32mimport\u001b[0m \u001b[0mWord2VecKeyedVectors\u001b[0m\u001b[0;34m\u001b[0m\u001b[0;34m\u001b[0m\u001b[0m\n\u001b[1;32m      2\u001b[0m \u001b[0;34m\u001b[0m\u001b[0m\n\u001b[0;32m----> 3\u001b[0;31m \u001b[0mword_vectors\u001b[0m \u001b[0;34m=\u001b[0m \u001b[0mWord2VecKeyedVectors\u001b[0m\u001b[0;34m.\u001b[0m\u001b[0mload_word2vec_format\u001b[0m\u001b[0;34m(\u001b[0m\u001b[0mword2vec_file_path\u001b[0m\u001b[0;34m,\u001b[0m \u001b[0mbinary\u001b[0m\u001b[0;34m=\u001b[0m\u001b[0;32mFalse\u001b[0m\u001b[0;34m)\u001b[0m\u001b[0;34m\u001b[0m\u001b[0;34m\u001b[0m\u001b[0m\n\u001b[0m\u001b[1;32m      4\u001b[0m \u001b[0mvector\u001b[0m \u001b[0;34m=\u001b[0m \u001b[0mword_vectors\u001b[0m\u001b[0;34m[\u001b[0m\u001b[0;34m'컴퓨터'\u001b[0m\u001b[0;34m]\u001b[0m\u001b[0;34m\u001b[0m\u001b[0;34m\u001b[0m\u001b[0m\n\u001b[1;32m      5\u001b[0m \u001b[0mvector\u001b[0m\u001b[0;34m\u001b[0m\u001b[0;34m\u001b[0m\u001b[0m\n",
      "\u001b[0;31mNameError\u001b[0m: name 'word2vec_file_path' is not defined"
     ]
    }
   ],
   "source": [
    "from gensim.models.keyedvectors import Word2VecKeyedVectors\n",
    "\n",
    "word_vectors = Word2VecKeyedVectors.load_word2vec_format(word2vec_file_path, binary=False)\n",
    "vector = word_vectors['컴퓨터']\n",
    "vector"
   ]
  },
  {
   "cell_type": "code",
   "execution_count": 30,
   "metadata": {},
   "outputs": [
    {
     "data": {
      "text/plain": [
       "[('잠시', 0.4216437339782715),\n",
       " ('돌아온', 0.404328316450119),\n",
       " ('오리지널', 0.3929360806941986),\n",
       " ('종북', 0.39073920249938965),\n",
       " ('됀', 0.38364332914352417),\n",
       " ('MC', 0.3790009617805481),\n",
       " ('귀여운데', 0.37824374437332153),\n",
       " ('자연스레', 0.3630687892436981),\n",
       " ('궁', 0.3623844385147095),\n",
       " ('종교', 0.3616849184036255)]"
      ]
     },
     "execution_count": 30,
     "metadata": {},
     "output_type": "execute_result"
    }
   ],
   "source": [
    "word_vectors.similar_by_word(\"컴퓨터\")"
   ]
  },
  {
   "cell_type": "markdown",
   "metadata": {},
   "source": [
    "## 9. Word2Vec을 사용한 분석"
   ]
  },
  {
   "cell_type": "code",
   "execution_count": 3,
   "metadata": {},
   "outputs": [],
   "source": [
    "# https://github.com/Kyubyong/wordvectors 에서 한국어 Word2Vec 파일을 받아온다\n",
    "# 작업폴더를 만들고 풀어준다\n",
    "# 데이터를 불러온다\n",
    "import os\n",
    "os.getenv('HOME')+'/aiffel/sentiment_classification/ko/ko.tsv'\n",
    "word2vec_file_path = os.getenv('HOME')+'/aiffel/sentiment_classification/ko/ko.bin'"
   ]
  },
  {
   "cell_type": "code",
   "execution_count": 32,
   "metadata": {},
   "outputs": [],
   "source": [
    "import gensim\n",
    "from gensim.models import KeyedVectors\n",
    "from gensim.models import Word2Vec\n",
    "word2vec = Word2Vec.load(word2vec_file_path)"
   ]
  },
  {
   "cell_type": "code",
   "execution_count": 4,
   "metadata": {},
   "outputs": [
    {
     "ename": "NameError",
     "evalue": "name 'word2vec' is not defined",
     "output_type": "error",
     "traceback": [
      "\u001b[0;31m---------------------------------------------------------------------------\u001b[0m",
      "\u001b[0;31mNameError\u001b[0m                                 Traceback (most recent call last)",
      "\u001b[0;32m<ipython-input-4-3a220a37e516>\u001b[0m in \u001b[0;36m<module>\u001b[0;34m\u001b[0m\n\u001b[1;32m      1\u001b[0m \u001b[0;31m# \"컴퓨터\"라는 단어와 가장 가까운 단어를 알아보자(메모리를 다소 많이 소비하는 작업이니 유의해야 됨)\u001b[0m\u001b[0;34m\u001b[0m\u001b[0;34m\u001b[0m\u001b[0;34m\u001b[0m\u001b[0m\n\u001b[0;32m----> 2\u001b[0;31m \u001b[0mword2vec\u001b[0m\u001b[0;34m.\u001b[0m\u001b[0msimilar_by_word\u001b[0m\u001b[0;34m(\u001b[0m\u001b[0;34m\"컴퓨터\"\u001b[0m\u001b[0;34m)\u001b[0m\u001b[0;34m\u001b[0m\u001b[0;34m\u001b[0m\u001b[0m\n\u001b[0m",
      "\u001b[0;31mNameError\u001b[0m: name 'word2vec' is not defined"
     ]
    }
   ],
   "source": [
    "# \"컴퓨터\"라는 단어와 가장 가까운 단어를 알아보자(메모리를 다소 많이 소비하는 작업이니 유의해야 됨)\n",
    "word2vec.similar_by_word(\"컴퓨터\")"
   ]
  },
  {
   "cell_type": "code",
   "execution_count": 34,
   "metadata": {},
   "outputs": [
    {
     "name": "stderr",
     "output_type": "stream",
     "text": [
      "/home/ssac3/anaconda3/envs/aiffel/lib/python3.7/site-packages/ipykernel_launcher.py:8: DeprecationWarning: Call to deprecated `__contains__` (Method will be removed in 4.0.0, use self.wv.__contains__() instead).\n",
      "  \n",
      "/home/ssac3/anaconda3/envs/aiffel/lib/python3.7/site-packages/ipykernel_launcher.py:9: DeprecationWarning: Call to deprecated `__getitem__` (Method will be removed in 4.0.0, use self.wv.__getitem__() instead).\n",
      "  if __name__ == '__main__':\n"
     ]
    }
   ],
   "source": [
    "# 학습했던 모델의 임베딩 레이어를 지금 받은 W2V로 교체하기 위한 작업\n",
    "\n",
    "vocab_size = 10000    # 어휘 사전의 크기입니다(10,000개의 단어)\n",
    "word_vector_dim = 200  # 워드 벡터의 차원수 (변경가능한 하이퍼파라미터)\n",
    "\n",
    "embedding_matrix = np.random.rand(vocab_size, word_vector_dim)\n",
    "\n",
    "# embedding_matrix에 Word2Vec 워드벡터를 단어 하나씩마다 차례차례 카피한다.\n",
    "for i in range(4,vocab_size):\n",
    "    if index_to_word[i] in word2vec:\n",
    "        embedding_matrix[i] = word2vec[index_to_word[i]]"
   ]
  },
  {
   "cell_type": "markdown",
   "metadata": {},
   "source": [
    "## 9.1 W2V를 적용한 모델을 만들어 보고 학습 시킨다"
   ]
  },
  {
   "cell_type": "markdown",
   "metadata": {},
   "source": [
    "### 9.1.1 1D-CNN"
   ]
  },
  {
   "cell_type": "code",
   "execution_count": 5,
   "metadata": {},
   "outputs": [
    {
     "ename": "NameError",
     "evalue": "name 'keras' is not defined",
     "output_type": "error",
     "traceback": [
      "\u001b[0;31m---------------------------------------------------------------------------\u001b[0m",
      "\u001b[0;31mNameError\u001b[0m                                 Traceback (most recent call last)",
      "\u001b[0;32m<ipython-input-5-9b47f387c965>\u001b[0m in \u001b[0;36m<module>\u001b[0;34m\u001b[0m\n\u001b[1;32m      2\u001b[0m \u001b[0;34m\u001b[0m\u001b[0m\n\u001b[1;32m      3\u001b[0m \u001b[0;31m# 모델 구성\u001b[0m\u001b[0;34m\u001b[0m\u001b[0;34m\u001b[0m\u001b[0;34m\u001b[0m\u001b[0m\n\u001b[0;32m----> 4\u001b[0;31m \u001b[0mmodel4\u001b[0m \u001b[0;34m=\u001b[0m \u001b[0mkeras\u001b[0m\u001b[0;34m.\u001b[0m\u001b[0mSequential\u001b[0m\u001b[0;34m(\u001b[0m\u001b[0;34m)\u001b[0m\u001b[0;34m\u001b[0m\u001b[0;34m\u001b[0m\u001b[0m\n\u001b[0m\u001b[1;32m      5\u001b[0m model4.add(keras.layers.Embedding(vocab_size, \n\u001b[1;32m      6\u001b[0m                                  \u001b[0mword_vector_dim\u001b[0m\u001b[0;34m,\u001b[0m\u001b[0;34m\u001b[0m\u001b[0;34m\u001b[0m\u001b[0m\n",
      "\u001b[0;31mNameError\u001b[0m: name 'keras' is not defined"
     ]
    }
   ],
   "source": [
    "from tensorflow.keras.initializers import Constant\n",
    "\n",
    "# 모델 구성\n",
    "model4 = keras.Sequential()\n",
    "model4.add(keras.layers.Embedding(vocab_size, \n",
    "                                 word_vector_dim, \n",
    "                                 embeddings_initializer=Constant(embedding_matrix),  # 카피한 임베딩을 여기서 활용\n",
    "                                 input_length=maxlen, \n",
    "                                 trainable=True))\n",
    "model4.add(keras.layers.Conv1D(16, 7, activation='relu'))\n",
    "model4.add(keras.layers.MaxPooling1D(5))\n",
    "model4.add(keras.layers.Conv1D(16, 7, activation='relu'))\n",
    "model4.add(keras.layers.GlobalMaxPooling1D())\n",
    "model4.add(keras.layers.Dense(8, activation='relu'))\n",
    "model4.add(keras.layers.Dense(1, activation='sigmoid')) \n",
    "\n",
    "model4.summary()"
   ]
  },
  {
   "cell_type": "code",
   "execution_count": 36,
   "metadata": {},
   "outputs": [
    {
     "name": "stdout",
     "output_type": "stream",
     "text": [
      "Epoch 1/15\n",
      "188/188 [==============================] - 12s 62ms/step - loss: 0.6477 - accuracy: 0.6036 - val_loss: 0.5235 - val_accuracy: 0.7428\n",
      "Epoch 2/15\n",
      "188/188 [==============================] - 11s 58ms/step - loss: 0.4516 - accuracy: 0.7912 - val_loss: 0.4078 - val_accuracy: 0.8160\n",
      "Epoch 3/15\n",
      "188/188 [==============================] - 11s 58ms/step - loss: 0.3674 - accuracy: 0.8391 - val_loss: 0.3737 - val_accuracy: 0.8346\n",
      "Epoch 4/15\n",
      "188/188 [==============================] - 11s 59ms/step - loss: 0.3218 - accuracy: 0.8649 - val_loss: 0.3645 - val_accuracy: 0.8411\n",
      "Epoch 5/15\n",
      "188/188 [==============================] - 11s 61ms/step - loss: 0.2893 - accuracy: 0.8818 - val_loss: 0.3652 - val_accuracy: 0.8411\n",
      "Epoch 6/15\n",
      "188/188 [==============================] - 11s 59ms/step - loss: 0.2616 - accuracy: 0.8958 - val_loss: 0.3730 - val_accuracy: 0.8443\n",
      "Epoch 7/15\n",
      "188/188 [==============================] - 11s 60ms/step - loss: 0.2365 - accuracy: 0.9080 - val_loss: 0.3887 - val_accuracy: 0.8395\n",
      "Epoch 8/15\n",
      "188/188 [==============================] - 11s 60ms/step - loss: 0.2135 - accuracy: 0.9194 - val_loss: 0.4062 - val_accuracy: 0.8379\n",
      "Epoch 9/15\n",
      "188/188 [==============================] - 11s 59ms/step - loss: 0.1920 - accuracy: 0.9280 - val_loss: 0.4348 - val_accuracy: 0.8364\n",
      "Epoch 10/15\n",
      "188/188 [==============================] - 11s 58ms/step - loss: 0.1679 - accuracy: 0.9400 - val_loss: 0.4543 - val_accuracy: 0.8337\n",
      "Epoch 11/15\n",
      "188/188 [==============================] - 11s 58ms/step - loss: 0.1498 - accuracy: 0.9480 - val_loss: 0.4961 - val_accuracy: 0.8317\n",
      "Epoch 12/15\n",
      "188/188 [==============================] - 11s 59ms/step - loss: 0.1340 - accuracy: 0.9543 - val_loss: 0.5193 - val_accuracy: 0.8299\n",
      "Epoch 13/15\n",
      "188/188 [==============================] - 11s 59ms/step - loss: 0.1185 - accuracy: 0.9605 - val_loss: 0.5575 - val_accuracy: 0.8301\n",
      "Epoch 14/15\n",
      "188/188 [==============================] - 11s 59ms/step - loss: 0.1042 - accuracy: 0.9658 - val_loss: 0.5911 - val_accuracy: 0.8278\n",
      "Epoch 15/15\n",
      "188/188 [==============================] - 11s 59ms/step - loss: 0.0920 - accuracy: 0.9710 - val_loss: 0.6263 - val_accuracy: 0.8247\n"
     ]
    }
   ],
   "source": [
    "# 학습\n",
    "model4.compile(optimizer='adam',\n",
    "              loss='binary_crossentropy',\n",
    "              metrics=['accuracy'])\n",
    "              \n",
    "epochs=15\n",
    "\n",
    "history = model4.fit(partial_X_train,\n",
    "                    partial_y_train,\n",
    "                    epochs=epochs,\n",
    "                    batch_size=512,\n",
    "                    validation_data=(X_val, y_val),\n",
    "                    verbose=1)"
   ]
  },
  {
   "cell_type": "code",
   "execution_count": 37,
   "metadata": {},
   "outputs": [
    {
     "name": "stdout",
     "output_type": "stream",
     "text": [
      "1537/1537 - 1s - loss: 0.6386 - accuracy: 0.8239\n",
      "[0.6385570168495178, 0.8238500952720642]\n"
     ]
    }
   ],
   "source": [
    "# 테스트셋을 통한 모델 평가\n",
    "results = model4.evaluate(X_test,  y_test, verbose=2)\n",
    "\n",
    "print(results)"
   ]
  },
  {
   "cell_type": "markdown",
   "metadata": {},
   "source": [
    "### 9.1.2 LSTM"
   ]
  },
  {
   "cell_type": "code",
   "execution_count": 42,
   "metadata": {},
   "outputs": [
    {
     "name": "stdout",
     "output_type": "stream",
     "text": [
      "Model: \"sequential_4\"\n",
      "_________________________________________________________________\n",
      "Layer (type)                 Output Shape              Param #   \n",
      "=================================================================\n",
      "embedding_4 (Embedding)      (None, 41, 200)           2000000   \n",
      "_________________________________________________________________\n",
      "lstm_1 (LSTM)                (None, 8)                 6688      \n",
      "_________________________________________________________________\n",
      "dense_8 (Dense)              (None, 8)                 72        \n",
      "_________________________________________________________________\n",
      "dense_9 (Dense)              (None, 1)                 9         \n",
      "=================================================================\n",
      "Total params: 2,006,769\n",
      "Trainable params: 2,006,769\n",
      "Non-trainable params: 0\n",
      "_________________________________________________________________\n"
     ]
    }
   ],
   "source": [
    "from tensorflow.keras.initializers import Constant\n",
    "\n",
    "# 모델 구성\n",
    "model5 = keras.Sequential()\n",
    "model5.add(keras.layers.Embedding(vocab_size, \n",
    "                                 word_vector_dim, \n",
    "                                 embeddings_initializer=Constant(embedding_matrix),\n",
    "                                 input_length=maxlen, \n",
    "                                 trainable=True))\n",
    "model5.add(keras.layers.LSTM(8))\n",
    "model5.add(keras.layers.Dense(8, activation='relu'))\n",
    "model5.add(keras.layers.Dense(1, activation='sigmoid'))\n",
    "\n",
    "model5.summary()"
   ]
  },
  {
   "cell_type": "code",
   "execution_count": 43,
   "metadata": {},
   "outputs": [
    {
     "name": "stdout",
     "output_type": "stream",
     "text": [
      "Epoch 1/15\n",
      "188/188 [==============================] - 10s 54ms/step - loss: 0.6563 - accuracy: 0.5757 - val_loss: 0.5178 - val_accuracy: 0.7598\n",
      "Epoch 2/15\n",
      "188/188 [==============================] - 10s 52ms/step - loss: 0.4374 - accuracy: 0.8051 - val_loss: 0.3867 - val_accuracy: 0.8330\n",
      "Epoch 3/15\n",
      "188/188 [==============================] - 10s 52ms/step - loss: 0.3537 - accuracy: 0.8509 - val_loss: 0.3659 - val_accuracy: 0.8426\n",
      "Epoch 4/15\n",
      "188/188 [==============================] - 10s 52ms/step - loss: 0.3183 - accuracy: 0.8677 - val_loss: 0.3601 - val_accuracy: 0.8483\n",
      "Epoch 5/15\n",
      "188/188 [==============================] - 10s 52ms/step - loss: 0.2947 - accuracy: 0.8804 - val_loss: 0.3636 - val_accuracy: 0.8484\n",
      "Epoch 6/15\n",
      "188/188 [==============================] - 10s 52ms/step - loss: 0.2794 - accuracy: 0.8871 - val_loss: 0.3583 - val_accuracy: 0.8490\n",
      "Epoch 7/15\n",
      "188/188 [==============================] - 10s 52ms/step - loss: 0.2635 - accuracy: 0.8954 - val_loss: 0.3653 - val_accuracy: 0.8480\n",
      "Epoch 8/15\n",
      "188/188 [==============================] - 10s 52ms/step - loss: 0.2512 - accuracy: 0.9016 - val_loss: 0.3765 - val_accuracy: 0.8488\n",
      "Epoch 9/15\n",
      "188/188 [==============================] - 10s 54ms/step - loss: 0.2390 - accuracy: 0.9067 - val_loss: 0.3825 - val_accuracy: 0.8471\n",
      "Epoch 10/15\n",
      "188/188 [==============================] - 11s 57ms/step - loss: 0.2273 - accuracy: 0.9127 - val_loss: 0.3935 - val_accuracy: 0.8469\n",
      "Epoch 11/15\n",
      "188/188 [==============================] - 10s 55ms/step - loss: 0.2188 - accuracy: 0.9170 - val_loss: 0.4020 - val_accuracy: 0.8463\n",
      "Epoch 12/15\n",
      "188/188 [==============================] - 10s 54ms/step - loss: 0.2061 - accuracy: 0.9232 - val_loss: 0.4099 - val_accuracy: 0.8421\n",
      "Epoch 13/15\n",
      "188/188 [==============================] - 10s 53ms/step - loss: 0.1952 - accuracy: 0.9286 - val_loss: 0.4162 - val_accuracy: 0.8441\n",
      "Epoch 14/15\n",
      "188/188 [==============================] - 10s 55ms/step - loss: 0.1867 - accuracy: 0.9324 - val_loss: 0.4352 - val_accuracy: 0.8417\n",
      "Epoch 15/15\n",
      "188/188 [==============================] - 10s 55ms/step - loss: 0.1781 - accuracy: 0.9358 - val_loss: 0.4451 - val_accuracy: 0.8417\n"
     ]
    }
   ],
   "source": [
    "# 학습\n",
    "model5.compile(optimizer='adam',\n",
    "              loss='binary_crossentropy',\n",
    "              metrics=['accuracy'])\n",
    "              \n",
    "epochs=15\n",
    "\n",
    "history = model5.fit(partial_X_train,\n",
    "                    partial_y_train,\n",
    "                    epochs=epochs,\n",
    "                    batch_size=512,\n",
    "                    validation_data=(X_val, y_val),\n",
    "                    verbose=1)"
   ]
  },
  {
   "cell_type": "markdown",
   "metadata": {},
   "source": [
    "### 9.1.3 W2V GMP"
   ]
  },
  {
   "cell_type": "code",
   "execution_count": 6,
   "metadata": {},
   "outputs": [
    {
     "ename": "NameError",
     "evalue": "name 'keras' is not defined",
     "output_type": "error",
     "traceback": [
      "\u001b[0;31m---------------------------------------------------------------------------\u001b[0m",
      "\u001b[0;31mNameError\u001b[0m                                 Traceback (most recent call last)",
      "\u001b[0;32m<ipython-input-6-979d78c7b9a6>\u001b[0m in \u001b[0;36m<module>\u001b[0;34m\u001b[0m\n\u001b[0;32m----> 1\u001b[0;31m \u001b[0mmodel6\u001b[0m \u001b[0;34m=\u001b[0m \u001b[0mkeras\u001b[0m\u001b[0;34m.\u001b[0m\u001b[0mSequential\u001b[0m\u001b[0;34m(\u001b[0m\u001b[0;34m)\u001b[0m\u001b[0;34m\u001b[0m\u001b[0;34m\u001b[0m\u001b[0m\n\u001b[0m\u001b[1;32m      2\u001b[0m model6.add(keras.layers.Embedding(vocab_size, \n\u001b[1;32m      3\u001b[0m                                  \u001b[0mword_vector_dim\u001b[0m\u001b[0;34m,\u001b[0m\u001b[0;34m\u001b[0m\u001b[0;34m\u001b[0m\u001b[0m\n\u001b[1;32m      4\u001b[0m                                  \u001b[0membeddings_initializer\u001b[0m\u001b[0;34m=\u001b[0m\u001b[0mConstant\u001b[0m\u001b[0;34m(\u001b[0m\u001b[0membedding_matrix\u001b[0m\u001b[0;34m)\u001b[0m\u001b[0;34m,\u001b[0m\u001b[0;34m\u001b[0m\u001b[0;34m\u001b[0m\u001b[0m\n\u001b[1;32m      5\u001b[0m                                  \u001b[0minput_length\u001b[0m\u001b[0;34m=\u001b[0m\u001b[0mmaxlen\u001b[0m\u001b[0;34m,\u001b[0m\u001b[0;34m\u001b[0m\u001b[0;34m\u001b[0m\u001b[0m\n",
      "\u001b[0;31mNameError\u001b[0m: name 'keras' is not defined"
     ]
    }
   ],
   "source": [
    "# 모델 구성\n",
    "model6 = keras.Sequential()\n",
    "model6.add(keras.layers.Embedding(vocab_size, \n",
    "                                 word_vector_dim, \n",
    "                                 embeddings_initializer=Constant(embedding_matrix),\n",
    "                                 input_length=maxlen, \n",
    "                                 trainable=True))\n",
    "model6.add(keras.layers.GlobalMaxPooling1D())\n",
    "model6.add(keras.layers.Dense(8, activation='relu'))\n",
    "model6.add(keras.layers.Dense(1, activation='sigmoid'))\n",
    "\n",
    "model6.summary()"
   ]
  },
  {
   "cell_type": "code",
   "execution_count": 50,
   "metadata": {},
   "outputs": [
    {
     "name": "stdout",
     "output_type": "stream",
     "text": [
      "Epoch 1/15\n",
      "188/188 [==============================] - 5s 27ms/step - loss: 0.7652 - accuracy: 0.5165 - val_loss: 0.6904 - val_accuracy: 0.5255\n",
      "Epoch 2/15\n",
      "188/188 [==============================] - 5s 26ms/step - loss: 0.6736 - accuracy: 0.5717 - val_loss: 0.6436 - val_accuracy: 0.6287\n",
      "Epoch 3/15\n",
      "188/188 [==============================] - 5s 28ms/step - loss: 0.5864 - accuracy: 0.6872 - val_loss: 0.5524 - val_accuracy: 0.7204\n",
      "Epoch 4/15\n",
      "188/188 [==============================] - 5s 26ms/step - loss: 0.5176 - accuracy: 0.7460 - val_loss: 0.5056 - val_accuracy: 0.7541\n",
      "Epoch 5/15\n",
      "188/188 [==============================] - 5s 26ms/step - loss: 0.4744 - accuracy: 0.7746 - val_loss: 0.4742 - val_accuracy: 0.7732\n",
      "Epoch 6/15\n",
      "188/188 [==============================] - 5s 27ms/step - loss: 0.4422 - accuracy: 0.7943 - val_loss: 0.4523 - val_accuracy: 0.7873\n",
      "Epoch 7/15\n",
      "188/188 [==============================] - 5s 25ms/step - loss: 0.4156 - accuracy: 0.8109 - val_loss: 0.4413 - val_accuracy: 0.7936\n",
      "Epoch 8/15\n",
      "188/188 [==============================] - 6s 30ms/step - loss: 0.3950 - accuracy: 0.8223 - val_loss: 0.4258 - val_accuracy: 0.8026\n",
      "Epoch 9/15\n",
      "188/188 [==============================] - 5s 29ms/step - loss: 0.3777 - accuracy: 0.8327 - val_loss: 0.4227 - val_accuracy: 0.8050\n",
      "Epoch 10/15\n",
      "188/188 [==============================] - 5s 28ms/step - loss: 0.3610 - accuracy: 0.8414 - val_loss: 0.4130 - val_accuracy: 0.8107\n",
      "Epoch 11/15\n",
      "188/188 [==============================] - 6s 31ms/step - loss: 0.3464 - accuracy: 0.8488 - val_loss: 0.4069 - val_accuracy: 0.8146\n",
      "Epoch 12/15\n",
      "188/188 [==============================] - 6s 30ms/step - loss: 0.3323 - accuracy: 0.8568 - val_loss: 0.4036 - val_accuracy: 0.8184\n",
      "Epoch 13/15\n",
      "188/188 [==============================] - 6s 30ms/step - loss: 0.3212 - accuracy: 0.8631 - val_loss: 0.4016 - val_accuracy: 0.8206\n",
      "Epoch 14/15\n",
      "188/188 [==============================] - 5s 28ms/step - loss: 0.3091 - accuracy: 0.8688 - val_loss: 0.4016 - val_accuracy: 0.8219\n",
      "Epoch 15/15\n",
      "188/188 [==============================] - 5s 28ms/step - loss: 0.2987 - accuracy: 0.8746 - val_loss: 0.4000 - val_accuracy: 0.8238\n"
     ]
    }
   ],
   "source": [
    "# 학습\n",
    "model6.compile(optimizer='adam',\n",
    "              loss='binary_crossentropy',\n",
    "              metrics=['accuracy'])\n",
    "              \n",
    "epochs=15\n",
    "\n",
    "history = model6.fit(partial_X_train,\n",
    "                    partial_y_train,\n",
    "                    epochs=epochs,\n",
    "                    batch_size=512,\n",
    "                    validation_data=(X_val, y_val),\n",
    "                    verbose=1)"
   ]
  },
  {
   "cell_type": "code",
   "execution_count": 55,
   "metadata": {},
   "outputs": [
    {
     "name": "stdout",
     "output_type": "stream",
     "text": [
      "1537/1537 - 2s - loss: 1.0275 - accuracy: 0.8197\n",
      "[1.0275135040283203, 0.8197205066680908]\n",
      "1537/1537 - 1s - loss: 0.7161 - accuracy: 0.8325\n",
      "[0.7160937190055847, 0.8325162529945374]\n",
      "1537/1537 - 3s - loss: 0.5223 - accuracy: 0.8329\n",
      "[0.5222887992858887, 0.8329434394836426]\n",
      "1537/1537 - 1s - loss: 0.6386 - accuracy: 0.8239\n",
      "[0.6385570168495178, 0.8238500952720642]\n",
      "1537/1537 - 3s - loss: 0.4525 - accuracy: 0.8378\n",
      "[0.4525412619113922, 0.8378461003303528]\n",
      "1537/1537 - 1s - loss: 0.4105 - accuracy: 0.8185\n",
      "[0.41050079464912415, 0.8184795379638672]\n"
     ]
    }
   ],
   "source": [
    "# 1D-CNN\n",
    "results = model.evaluate(X_test,  y_test, verbose=2)\n",
    "print(results)\n",
    "# GMP\n",
    "results = model2.evaluate(X_test,  y_test, verbose=2)\n",
    "print(results)\n",
    "# LSTM\n",
    "results = model3.evaluate(X_test,  y_test, verbose=2)\n",
    "print(results)\n",
    "# W2V 1D CNN\n",
    "results = model4.evaluate(X_test,  y_test, verbose=2)\n",
    "print(results)\n",
    "# W2V LSTM\n",
    "results = model5.evaluate(X_test,  y_test, verbose=2)\n",
    "print(results)\n",
    "# W2V GMP\n",
    "results = model6.evaluate(X_test,  y_test, verbose=2)\n",
    "print(results)"
   ]
  }
 ],
 "metadata": {
  "kernelspec": {
   "display_name": "aiffel",
   "language": "python",
   "name": "aiffel"
  },
  "language_info": {
   "codemirror_mode": {
    "name": "ipython",
    "version": 3
   },
   "file_extension": ".py",
   "mimetype": "text/x-python",
   "name": "python",
   "nbconvert_exporter": "python",
   "pygments_lexer": "ipython3",
   "version": "3.7.9"
  }
 },
 "nbformat": 4,
 "nbformat_minor": 4
}
