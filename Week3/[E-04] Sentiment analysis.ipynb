{
 "cells": [
  {
   "cell_type": "markdown",
   "metadata": {},
   "source": [
    "# 네이버 영화리뷰 감성분석"
   ]
  },
  {
   "cell_type": "code",
   "execution_count": 1,
   "metadata": {},
   "outputs": [],
   "source": [
    "# 먼저 프로젝트를 진행하기 전에 몇가지 작업이 필요하다. wget으로 데이터를 받아오고 작업할 폴더에 저장해준다.\n",
    "# $ wget https://raw.githubusercontent.com/e9t/nsmc/master/ratings_train.txt\n",
    "# $ wget https://raw.githubusercontent.com/e9t/nsmc/master/ratings_test.txt\n",
    "# $ mv ratings_*.txt ~/aiffel/sentiment_classification"
   ]
  },
  {
   "cell_type": "markdown",
   "metadata": {},
   "source": [
    "## 1. 데이터 준비와 확인"
   ]
  },
  {
   "cell_type": "code",
   "execution_count": 1,
   "metadata": {},
   "outputs": [],
   "source": [
    "# 필요한 모듈을 import한다\n",
    "import os\n",
    "os.environ[\"CUDA_VISIBLE_DEVICES\"] = \"-1\"\n",
    "import tensorflow as tf\n",
    "import pandas as pd\n",
    "import urllib.request\n",
    "%matplotlib inline\n",
    "import matplotlib.pyplot as plt\n",
    "import re\n",
    "from konlpy.tag import Okt\n",
    "from tensorflow import keras\n",
    "from tensorflow.keras.preprocessing.text import Tokenizer\n",
    "import numpy as np\n",
    "from tensorflow.keras.preprocessing.sequence import pad_sequences\n",
    "from collections import Counter\n",
    "\n",
    "# 데이터를 읽어온다\n",
    "train_data = pd.read_table('~/aiffel/sentiment_classification/ratings_train.txt')\n",
    "test_data = pd.read_table('~/aiffel/sentiment_classification/ratings_test.txt')"
   ]
  },
  {
   "cell_type": "markdown",
   "metadata": {},
   "source": [
    "## 2. 데이터로더 구성"
   ]
  },
  {
   "cell_type": "code",
   "execution_count": 2,
   "metadata": {},
   "outputs": [],
   "source": [
    "# 실습 때 다루었던 IMDB 데이터셋은 이미 가공되어 있었고 imdb.data_loader()함수를 호출하여 여러가지 작업을 할 수 있었다.\n",
    "# 그러나 이번 데이터셋은 가공되어 있지 않으므로 imdb.data.loader()와 동일하게 동작하는 data_loader 함수를 하나 만들어줘야 한다.\n",
    "\n",
    "from konlpy.tag import Mecab\n",
    "tokenizer = Mecab()\n",
    "stopwords = ['의','가','이','은','들','는','좀','잘','걍','과','도','를','으로','자','에','와','한','하다']\n",
    "\n",
    "def load_data(train_data, test_data, num_words=10000):\n",
    "    train_data.drop_duplicates(subset=['document'], inplace=True)\n",
    "    train_data = train_data.dropna(how = 'any') \n",
    "    test_data.drop_duplicates(subset=['document'], inplace=True)\n",
    "    test_data = test_data.dropna(how = 'any') \n",
    "\n",
    "    X_train = []\n",
    "    for sentence in train_data['document']:\n",
    "        temp_X = tokenizer.morphs(sentence) # 토큰화\n",
    "        temp_X = [word for word in temp_X if not word in stopwords] # 불용어 제거\n",
    "        X_train.append(temp_X)\n",
    "\n",
    "    X_test = []\n",
    "    for sentence in test_data['document']:\n",
    "        temp_X = tokenizer.morphs(sentence) # 토큰화\n",
    "        temp_X = [word for word in temp_X if not word in stopwords] # 불용어 제거\n",
    "        X_test.append(temp_X)\n",
    "\n",
    "    words = np.concatenate(X_train).tolist()\n",
    "    counter = Counter(words)\n",
    "    counter = counter.most_common(10000-4)\n",
    "    vocab = ['<PAD>', '<BOS>', '<UNK>', '<UNUSED>'] + [key for key, _ in counter]\n",
    "    word_to_index = {word:index for index, word in enumerate(vocab)}\n",
    "\n",
    "    def wordlist_to_indexlist(wordlist):\n",
    "        return [word_to_index[word] if word in word_to_index else word_to_index['<UNK>'] for word in wordlist]\n",
    "\n",
    "    X_train = list(map(wordlist_to_indexlist, X_train))\n",
    "    X_test = list(map(wordlist_to_indexlist, X_test))\n",
    "\n",
    "    return X_train, np.array(list(train_data['label'])), X_test, np.array(list(test_data['label'])), word_to_index\n",
    "\n",
    "X_train, y_train, X_test, y_test, word_to_index = load_data(train_data, test_data) "
   ]
  },
  {
   "cell_type": "code",
   "execution_count": 3,
   "metadata": {},
   "outputs": [],
   "source": [
    "index_to_word = {index:word for word, index in word_to_index.items()}"
   ]
  },
  {
   "cell_type": "code",
   "execution_count": 4,
   "metadata": {},
   "outputs": [],
   "source": [
    "# 문장 1개를 활용할 딕셔너리와 함께 주면, 단어 인덱스 리스트 벡터로 변환해 주는 함수\n",
    "# 단, 모든 문장은 <BOS>로 시작하는 것으로 한다\n",
    "def get_encoded_sentence(sentence, word_to_index):\n",
    "    return [word_to_index['<BOS>']]+[word_to_index[word] if word in word_to_index else word_to_index['<UNK>'] for word in sentence.split()]\n",
    "\n",
    "# 여러 개의 문장 리스트를 한꺼번에 단어 인덱스 리스트 벡터로 encode해 주는 함수 \n",
    "def get_encoded_sentences(sentences, word_to_index):\n",
    "    return [get_encoded_sentence(sentence, word_to_index) for sentence in sentences]\n",
    "\n",
    "# 숫자 벡터로 encode된 문장을 원래대로 decode하는 함수\n",
    "def get_decoded_sentence(encoded_sentence, index_to_word):\n",
    "    return ' '.join(index_to_word[index] if index in index_to_word else '<UNK>' for index in encoded_sentence[1:])  #[1:]를 통해 <BOS>를 제외\n",
    "\n",
    "# 여러개의 숫자 벡터로 encode된 문장을 한꺼번에 원래대로 decode하는 함수\n",
    "def get_decoded_sentences(encoded_sentences, index_to_word):\n",
    "    return [get_decoded_sentence(encoded_sentence, index_to_word) for encoded_sentence in encoded_sentences]"
   ]
  },
  {
   "cell_type": "markdown",
   "metadata": {},
   "source": [
    "## 3. 모델구성을 위한 데이터 분석 및 가공"
   ]
  },
  {
   "cell_type": "code",
   "execution_count": 5,
   "metadata": {},
   "outputs": [
    {
     "name": "stdout",
     "output_type": "stream",
     "text": [
      "문장길이 평균 :  15.96938143432699\n",
      "문장길이 최대 :  116\n",
      "문장길이 표준편차 :  12.843571939469296\n",
      "pad_sequences maxlen :  41\n",
      "전체 문장의 0.9342988343341575%가 maxlen 설정값 이내에 포함됩니다. \n"
     ]
    }
   ],
   "source": [
    "total_data_text = list(X_train) + list(X_test)\n",
    "# 텍스트데이터 문장길이의 리스트를 생성한 후\n",
    "num_tokens = [len(tokens) for tokens in total_data_text]\n",
    "num_tokens = np.array(num_tokens)\n",
    "# 문장길이의 평균값, 최대값, 표준편차를 계산해 본다. \n",
    "print('문장길이 평균 : ', np.mean(num_tokens))\n",
    "print('문장길이 최대 : ', np.max(num_tokens))\n",
    "print('문장길이 표준편차 : ', np.std(num_tokens))\n",
    "\n",
    "# 예를들어, 최대 길이를 (평균 + 2*표준편차)로 한다면,  \n",
    "max_tokens = np.mean(num_tokens) + 2 * np.std(num_tokens)\n",
    "maxlen = int(max_tokens)\n",
    "print('pad_sequences maxlen : ', maxlen)\n",
    "print('전체 문장의 {}%가 maxlen 설정값 이내에 포함됩니다. '.format(np.sum(num_tokens < max_tokens) / len(num_tokens)))"
   ]
  },
  {
   "cell_type": "markdown",
   "metadata": {},
   "source": [
    "## 4. 모델구성 및 validation set 구성"
   ]
  },
  {
   "cell_type": "code",
   "execution_count": 6,
   "metadata": {},
   "outputs": [
    {
     "name": "stdout",
     "output_type": "stream",
     "text": [
      "(146182, 41)\n"
     ]
    }
   ],
   "source": [
    "X_train = keras.preprocessing.sequence.pad_sequences(X_train,\n",
    "                                                        value=word_to_index[\"<PAD>\"],\n",
    "                                                        padding='post', # 혹은 'pre'\n",
    "                                                        maxlen=maxlen)\n",
    "\n",
    "X_test = keras.preprocessing.sequence.pad_sequences(X_test,\n",
    "                                                       value=word_to_index[\"<PAD>\"],\n",
    "                                                       padding='post', # 혹은 'pre'\n",
    "                                                       maxlen=maxlen)\n",
    "print(X_train.shape)"
   ]
  },
  {
   "cell_type": "code",
   "execution_count": 7,
   "metadata": {},
   "outputs": [
    {
     "name": "stdout",
     "output_type": "stream",
     "text": [
      "(146182, 41)\n",
      "(96182, 41)\n",
      "(96182,)\n"
     ]
    }
   ],
   "source": [
    "# validation set 50000개 분리\n",
    "X_val = X_train[:50000]   \n",
    "y_val = y_train[:50000]\n",
    "\n",
    "partial_X_train = X_train[50000:]  \n",
    "partial_y_train = y_train[50000:]\n",
    "\n",
    "print(X_train.shape)\n",
    "print(partial_X_train.shape)\n",
    "print(partial_y_train.shape)"
   ]
  },
  {
   "cell_type": "code",
   "execution_count": 8,
   "metadata": {},
   "outputs": [],
   "source": [
    "vocab_size = 10000    # 어휘 사전의 크기 (10,000개의 단어)\n",
    "word_vector_dim = 200  # 워드 벡터의 차원수 (변경가능한 하이퍼파라미터)"
   ]
  },
  {
   "cell_type": "markdown",
   "metadata": {},
   "source": [
    "# 1-D CNN"
   ]
  },
  {
   "cell_type": "code",
   "execution_count": 9,
   "metadata": {},
   "outputs": [
    {
     "name": "stdout",
     "output_type": "stream",
     "text": [
      "Model: \"sequential\"\n",
      "_________________________________________________________________\n",
      "Layer (type)                 Output Shape              Param #   \n",
      "=================================================================\n",
      "embedding (Embedding)        (None, None, 200)         2000000   \n",
      "_________________________________________________________________\n",
      "conv1d (Conv1D)              (None, None, 16)          22416     \n",
      "_________________________________________________________________\n",
      "max_pooling1d (MaxPooling1D) (None, None, 16)          0         \n",
      "_________________________________________________________________\n",
      "conv1d_1 (Conv1D)            (None, None, 16)          1808      \n",
      "_________________________________________________________________\n",
      "global_max_pooling1d (Global (None, 16)                0         \n",
      "_________________________________________________________________\n",
      "dense (Dense)                (None, 8)                 136       \n",
      "_________________________________________________________________\n",
      "dense_1 (Dense)              (None, 1)                 9         \n",
      "=================================================================\n",
      "Total params: 2,024,369\n",
      "Trainable params: 2,024,369\n",
      "Non-trainable params: 0\n",
      "_________________________________________________________________\n"
     ]
    }
   ],
   "source": [
    "# model 설계\n",
    "model = keras.Sequential()\n",
    "model.add(keras.layers.Embedding(vocab_size, word_vector_dim, input_shape=(None,)))\n",
    "model.add(keras.layers.Conv1D(16, 7, activation='relu'))\n",
    "model.add(keras.layers.MaxPooling1D(5))\n",
    "model.add(keras.layers.Conv1D(16, 7, activation='relu'))\n",
    "model.add(keras.layers.GlobalMaxPooling1D())\n",
    "model.add(keras.layers.Dense(8, activation='relu'))\n",
    "model.add(keras.layers.Dense(1, activation='sigmoid'))  # 최종 출력은 긍정/부정을 나타내는 2개의 값\n",
    "\n",
    "model.summary()"
   ]
  },
  {
   "cell_type": "markdown",
   "metadata": {},
   "source": [
    "## 모델 훈련 개시"
   ]
  },
  {
   "cell_type": "code",
   "execution_count": 10,
   "metadata": {},
   "outputs": [
    {
     "name": "stdout",
     "output_type": "stream",
     "text": [
      "Epoch 1/15\n",
      "188/188 [==============================] - 9s 50ms/step - loss: 0.4743 - accuracy: 0.7597 - val_loss: 0.3548 - val_accuracy: 0.8462\n",
      "Epoch 2/15\n",
      "188/188 [==============================] - 9s 50ms/step - loss: 0.3174 - accuracy: 0.8669 - val_loss: 0.3378 - val_accuracy: 0.8531\n",
      "Epoch 3/15\n",
      "188/188 [==============================] - 9s 49ms/step - loss: 0.2649 - accuracy: 0.8929 - val_loss: 0.3440 - val_accuracy: 0.8531\n",
      "Epoch 4/15\n",
      "188/188 [==============================] - 9s 49ms/step - loss: 0.2069 - accuracy: 0.9214 - val_loss: 0.3753 - val_accuracy: 0.8454\n",
      "Epoch 5/15\n",
      "188/188 [==============================] - 9s 49ms/step - loss: 0.1483 - accuracy: 0.9476 - val_loss: 0.4232 - val_accuracy: 0.8383\n",
      "Epoch 6/15\n",
      "188/188 [==============================] - 9s 49ms/step - loss: 0.1012 - accuracy: 0.9666 - val_loss: 0.4873 - val_accuracy: 0.8397\n",
      "Epoch 7/15\n",
      "188/188 [==============================] - 9s 49ms/step - loss: 0.0707 - accuracy: 0.9776 - val_loss: 0.5760 - val_accuracy: 0.8364\n",
      "Epoch 8/15\n",
      "188/188 [==============================] - 9s 49ms/step - loss: 0.0511 - accuracy: 0.9845 - val_loss: 0.6395 - val_accuracy: 0.8344\n",
      "Epoch 9/15\n",
      "188/188 [==============================] - 10s 51ms/step - loss: 0.0394 - accuracy: 0.9885 - val_loss: 0.6896 - val_accuracy: 0.8328\n",
      "Epoch 10/15\n",
      "188/188 [==============================] - 10s 51ms/step - loss: 0.0315 - accuracy: 0.9907 - val_loss: 0.7595 - val_accuracy: 0.8301\n",
      "Epoch 11/15\n",
      "188/188 [==============================] - 9s 50ms/step - loss: 0.0256 - accuracy: 0.9925 - val_loss: 0.8291 - val_accuracy: 0.8297\n",
      "Epoch 12/15\n",
      "188/188 [==============================] - 10s 51ms/step - loss: 0.0219 - accuracy: 0.9936 - val_loss: 0.8741 - val_accuracy: 0.8287\n",
      "Epoch 13/15\n",
      "188/188 [==============================] - 9s 50ms/step - loss: 0.0191 - accuracy: 0.9944 - val_loss: 0.9266 - val_accuracy: 0.8268\n",
      "Epoch 14/15\n",
      "188/188 [==============================] - 10s 51ms/step - loss: 0.0172 - accuracy: 0.9949 - val_loss: 0.9600 - val_accuracy: 0.8269\n",
      "Epoch 15/15\n",
      "188/188 [==============================] - 10s 52ms/step - loss: 0.0183 - accuracy: 0.9943 - val_loss: 1.0110 - val_accuracy: 0.8245\n"
     ]
    }
   ],
   "source": [
    "model.compile(optimizer='adam',\n",
    "              loss='binary_crossentropy',\n",
    "              metrics=['accuracy'])\n",
    "              \n",
    "epochs=15\n",
    "\n",
    "history = model.fit(partial_X_train,\n",
    "                    partial_y_train,\n",
    "                    epochs=epochs,\n",
    "                    batch_size=512,\n",
    "                    validation_data=(X_val, y_val),\n",
    "                    verbose=1)"
   ]
  },
  {
   "cell_type": "code",
   "execution_count": 11,
   "metadata": {},
   "outputs": [
    {
     "name": "stdout",
     "output_type": "stream",
     "text": [
      "1537/1537 - 1s - loss: 1.0454 - accuracy: 0.8200\n",
      "[1.0453839302062988, 0.8199849724769592]\n"
     ]
    }
   ],
   "source": [
    "results = model.evaluate(X_test,  y_test, verbose=2)\n",
    "\n",
    "print(results)"
   ]
  },
  {
   "cell_type": "markdown",
   "metadata": {},
   "source": [
    "## 6. Loss, Accuracy 그래프 시각화"
   ]
  },
  {
   "cell_type": "code",
   "execution_count": 12,
   "metadata": {},
   "outputs": [
    {
     "name": "stdout",
     "output_type": "stream",
     "text": [
      "dict_keys(['loss', 'accuracy', 'val_loss', 'val_accuracy'])\n"
     ]
    }
   ],
   "source": [
    "history_dict = history.history\n",
    "print(history_dict.keys()) # epoch에 따른 그래프를 그려볼 수 있는 항목들"
   ]
  },
  {
   "cell_type": "code",
   "execution_count": 13,
   "metadata": {},
   "outputs": [
    {
     "data": {
      "image/png": "[encoded data removed]",
      "text/plain": [
       "<Figure size 432x288 with 1 Axes>"
      ]
     },
     "metadata": {
      "needs_background": "light"
     },
     "output_type": "display_data"
    }
   ],
   "source": [
    "import matplotlib.pyplot as plt\n",
    "\n",
    "acc = history_dict['accuracy']\n",
    "val_acc = history_dict['val_accuracy']\n",
    "loss = history_dict['loss']\n",
    "val_loss = history_dict['val_loss']\n",
    "\n",
    "epochs = range(1, len(acc) + 1)\n",
    "\n",
    "# \"bo\"는 \"파란색 점\"\n",
    "plt.plot(epochs, loss, 'bo', label='Training loss')\n",
    "# b는 \"파란 실선\"\n",
    "plt.plot(epochs, val_loss, 'b', label='Validation loss')\n",
    "plt.title('Training and validation loss')\n",
    "plt.xlabel('Epochs')\n",
    "plt.ylabel('Loss')\n",
    "plt.legend()\n",
    "\n",
    "plt.show()"
   ]
  },
  {
   "cell_type": "code",
   "execution_count": 14,
   "metadata": {},
   "outputs": [
    {
     "data": {
      "image/png": "[encoded data removed]",
      "text/plain": [
       "<Figure size 432x288 with 1 Axes>"
      ]
     },
     "metadata": {
      "needs_background": "light"
     },
     "output_type": "display_data"
    }
   ],
   "source": [
    "plt.clf()   # 그림을 초기화한다\n",
    "\n",
    "plt.plot(epochs, acc, 'bo', label='Training acc')\n",
    "plt.plot(epochs, val_acc, 'b', label='Validation acc')\n",
    "plt.title('Training and validation accuracy')\n",
    "plt.xlabel('Epochs')\n",
    "plt.ylabel('Accuracy')\n",
    "plt.legend()\n",
    "\n",
    "plt.show()"
   ]
  },
  {
   "cell_type": "markdown",
   "metadata": {},
   "source": [
    "## 7. 같은 방법으로 여러가지 모델을 만들고 결과를 시각화 해보자"
   ]
  },
  {
   "cell_type": "markdown",
   "metadata": {},
   "source": [
    "### 7.1 GlobalMaxPooling"
   ]
  },
  {
   "cell_type": "code",
   "execution_count": 15,
   "metadata": {},
   "outputs": [
    {
     "name": "stdout",
     "output_type": "stream",
     "text": [
      "Model: \"sequential_1\"\n",
      "_________________________________________________________________\n",
      "Layer (type)                 Output Shape              Param #   \n",
      "=================================================================\n",
      "embedding_1 (Embedding)      (None, None, 200)         2000000   \n",
      "_________________________________________________________________\n",
      "global_max_pooling1d_1 (Glob (None, 200)               0         \n",
      "_________________________________________________________________\n",
      "dense_2 (Dense)              (None, 8)                 1608      \n",
      "_________________________________________________________________\n",
      "dense_3 (Dense)              (None, 1)                 9         \n",
      "=================================================================\n",
      "Total params: 2,001,617\n",
      "Trainable params: 2,001,617\n",
      "Non-trainable params: 0\n",
      "_________________________________________________________________\n"
     ]
    }
   ],
   "source": [
    "model2 = keras.Sequential()\n",
    "model2.add(keras.layers.Embedding(vocab_size, word_vector_dim, input_shape=(None,)))\n",
    "model2.add(keras.layers.GlobalMaxPooling1D())\n",
    "model2.add(keras.layers.Dense(8, activation='relu'))\n",
    "model2.add(keras.layers.Dense(1, activation='sigmoid'))\n",
    "\n",
    "model2.summary()"
   ]
  },
  {
   "cell_type": "code",
   "execution_count": 16,
   "metadata": {},
   "outputs": [
    {
     "name": "stdout",
     "output_type": "stream",
     "text": [
      "Epoch 1/15\n",
      "188/188 [==============================] - 5s 24ms/step - loss: 0.5030 - accuracy: 0.7994 - val_loss: 0.3610 - val_accuracy: 0.8431\n",
      "Epoch 2/15\n",
      "188/188 [==============================] - 4s 24ms/step - loss: 0.3234 - accuracy: 0.8627 - val_loss: 0.3383 - val_accuracy: 0.8519\n",
      "Epoch 3/15\n",
      "188/188 [==============================] - 4s 23ms/step - loss: 0.2720 - accuracy: 0.8883 - val_loss: 0.3419 - val_accuracy: 0.8523\n",
      "Epoch 4/15\n",
      "188/188 [==============================] - 5s 24ms/step - loss: 0.2309 - accuracy: 0.9095 - val_loss: 0.3540 - val_accuracy: 0.8508\n",
      "Epoch 5/15\n",
      "188/188 [==============================] - 5s 25ms/step - loss: 0.1920 - accuracy: 0.9280 - val_loss: 0.3717 - val_accuracy: 0.8502\n",
      "Epoch 6/15\n",
      "188/188 [==============================] - 5s 25ms/step - loss: 0.1530 - accuracy: 0.9473 - val_loss: 0.4011 - val_accuracy: 0.8468\n",
      "Epoch 7/15\n",
      "188/188 [==============================] - 5s 25ms/step - loss: 0.1170 - accuracy: 0.9634 - val_loss: 0.4390 - val_accuracy: 0.8448\n",
      "Epoch 8/15\n",
      "188/188 [==============================] - 5s 24ms/step - loss: 0.0847 - accuracy: 0.9762 - val_loss: 0.4792 - val_accuracy: 0.8425\n",
      "Epoch 9/15\n",
      "188/188 [==============================] - 5s 24ms/step - loss: 0.0600 - accuracy: 0.9853 - val_loss: 0.5218 - val_accuracy: 0.8413\n",
      "Epoch 10/15\n",
      "188/188 [==============================] - 5s 25ms/step - loss: 0.0416 - accuracy: 0.9906 - val_loss: 0.5591 - val_accuracy: 0.8407\n",
      "Epoch 11/15\n",
      "188/188 [==============================] - 5s 25ms/step - loss: 0.0302 - accuracy: 0.9932 - val_loss: 0.5933 - val_accuracy: 0.8394\n",
      "Epoch 12/15\n",
      "188/188 [==============================] - 5s 25ms/step - loss: 0.0226 - accuracy: 0.9949 - val_loss: 0.6315 - val_accuracy: 0.8388\n",
      "Epoch 13/15\n",
      "188/188 [==============================] - 5s 24ms/step - loss: 0.0177 - accuracy: 0.9959 - val_loss: 0.6595 - val_accuracy: 0.8365\n",
      "Epoch 14/15\n",
      "188/188 [==============================] - 4s 24ms/step - loss: 0.0140 - accuracy: 0.9963 - val_loss: 0.6881 - val_accuracy: 0.8382\n",
      "Epoch 15/15\n",
      "188/188 [==============================] - 5s 24ms/step - loss: 0.0120 - accuracy: 0.9967 - val_loss: 0.7140 - val_accuracy: 0.8368\n"
     ]
    }
   ],
   "source": [
    "model2.compile(optimizer='adam',\n",
    "              loss='binary_crossentropy',\n",
    "              metrics=['accuracy'])\n",
    "              \n",
    "epochs=15\n",
    "\n",
    "history = model2.fit(partial_X_train,\n",
    "                    partial_y_train,\n",
    "                    epochs=epochs,\n",
    "                    batch_size=512,\n",
    "                    validation_data=(X_val, y_val),\n",
    "                    verbose=1)"
   ]
  },
  {
   "cell_type": "code",
   "execution_count": 17,
   "metadata": {},
   "outputs": [
    {
     "name": "stdout",
     "output_type": "stream",
     "text": [
      "1537/1537 - 1s - loss: 0.7327 - accuracy: 0.8329\n",
      "[0.7327057123184204, 0.832902729511261]\n"
     ]
    }
   ],
   "source": [
    "results = model2.evaluate(X_test,  y_test, verbose=2)\n",
    "\n",
    "print(results)"
   ]
  },
  {
   "cell_type": "code",
   "execution_count": 18,
   "metadata": {},
   "outputs": [
    {
     "name": "stdout",
     "output_type": "stream",
     "text": [
      "dict_keys(['loss', 'accuracy', 'val_loss', 'val_accuracy'])\n"
     ]
    }
   ],
   "source": [
    "history_dict = history.history\n",
    "print(history_dict.keys())"
   ]
  },
  {
   "cell_type": "code",
   "execution_count": 19,
   "metadata": {},
   "outputs": [
    {
     "data": {
      "image/png": "[encoded data removed]",
      "text/plain": [
       "<Figure size 432x288 with 1 Axes>"
      ]
     },
     "metadata": {
      "needs_background": "light"
     },
     "output_type": "display_data"
    }
   ],
   "source": [
    "acc = history_dict['accuracy']\n",
    "val_acc = history_dict['val_accuracy']\n",
    "loss = history_dict['loss']\n",
    "val_loss = history_dict['val_loss']\n",
    "\n",
    "epochs = range(1, len(acc) + 1)\n",
    "\n",
    "plt.plot(epochs, loss, 'bo', label='Training loss')\n",
    "plt.plot(epochs, val_loss, 'b', label='Validation loss')\n",
    "plt.title('Training and validation loss')\n",
    "plt.xlabel('Epochs')\n",
    "plt.ylabel('Loss')\n",
    "plt.legend()\n",
    "\n",
    "plt.show()"
   ]
  },
  {
   "cell_type": "code",
   "execution_count": 20,
   "metadata": {},
   "outputs": [
    {
     "data": {
      "image/png": "[encoded data removed]",
      "text/plain": [
       "<Figure size 432x288 with 1 Axes>"
      ]
     },
     "metadata": {
      "needs_background": "light"
     },
     "output_type": "display_data"
    }
   ],
   "source": [
    "plt.clf()\n",
    "\n",
    "plt.plot(epochs, acc, 'bo', label='Training acc')\n",
    "plt.plot(epochs, val_acc, 'b', label='Validation acc')\n",
    "plt.title('Training and validation accuracy')\n",
    "plt.xlabel('Epochs')\n",
    "plt.ylabel('Accuracy')\n",
    "plt.legend()\n",
    "\n",
    "plt.show()"
   ]
  },
  {
   "cell_type": "markdown",
   "metadata": {},
   "source": [
    "### 7.2 LSTM"
   ]
  },
  {
   "cell_type": "code",
   "execution_count": 21,
   "metadata": {},
   "outputs": [
    {
     "name": "stdout",
     "output_type": "stream",
     "text": [
      "Model: \"sequential_2\"\n",
      "_________________________________________________________________\n",
      "Layer (type)                 Output Shape              Param #   \n",
      "=================================================================\n",
      "embedding_2 (Embedding)      (None, None, 200)         2000000   \n",
      "_________________________________________________________________\n",
      "lstm (LSTM)                  (None, 8)                 6688      \n",
      "_________________________________________________________________\n",
      "dense_4 (Dense)              (None, 8)                 72        \n",
      "_________________________________________________________________\n",
      "dense_5 (Dense)              (None, 1)                 9         \n",
      "=================================================================\n",
      "Total params: 2,006,769\n",
      "Trainable params: 2,006,769\n",
      "Non-trainable params: 0\n",
      "_________________________________________________________________\n"
     ]
    }
   ],
   "source": [
    "model3 = keras.Sequential()\n",
    "model3.add(keras.layers.Embedding(vocab_size, word_vector_dim, input_shape=(None,)))\n",
    "model3.add(keras.layers.LSTM(8))   # 가장 널리 쓰이는 RNN인 LSTM 레이어를 사용했다. 이때 LSTM state 벡터의 차원수는 8로 설정해봤다,\n",
    "model3.add(keras.layers.Dense(8, activation='relu'))\n",
    "model3.add(keras.layers.Dense(1, activation='sigmoid')).\n",
    "\n",
    "model3.summary()"
   ]
  },
  {
   "cell_type": "code",
   "execution_count": 22,
   "metadata": {},
   "outputs": [
    {
     "name": "stdout",
     "output_type": "stream",
     "text": [
      "Epoch 1/15\n",
      "188/188 [==============================] - 9s 50ms/step - loss: 0.5463 - accuracy: 0.7201 - val_loss: 0.4137 - val_accuracy: 0.8291\n",
      "Epoch 2/15\n",
      "188/188 [==============================] - 9s 50ms/step - loss: 0.3620 - accuracy: 0.8500 - val_loss: 0.3586 - val_accuracy: 0.8406\n",
      "Epoch 3/15\n",
      "188/188 [==============================] - 9s 49ms/step - loss: 0.3127 - accuracy: 0.8713 - val_loss: 0.3552 - val_accuracy: 0.8418\n",
      "Epoch 4/15\n",
      "188/188 [==============================] - 9s 50ms/step - loss: 0.2864 - accuracy: 0.8816 - val_loss: 0.3568 - val_accuracy: 0.8505\n",
      "Epoch 5/15\n",
      "188/188 [==============================] - 9s 48ms/step - loss: 0.2627 - accuracy: 0.8910 - val_loss: 0.3567 - val_accuracy: 0.8509\n",
      "Epoch 6/15\n",
      "188/188 [==============================] - 9s 48ms/step - loss: 0.2425 - accuracy: 0.8992 - val_loss: 0.3925 - val_accuracy: 0.8508\n",
      "Epoch 7/15\n",
      "188/188 [==============================] - 9s 48ms/step - loss: 0.2214 - accuracy: 0.9076 - val_loss: 0.3893 - val_accuracy: 0.8505\n",
      "Epoch 8/15\n",
      "188/188 [==============================] - 9s 49ms/step - loss: 0.2057 - accuracy: 0.9137 - val_loss: 0.4122 - val_accuracy: 0.8423\n",
      "Epoch 9/15\n",
      "188/188 [==============================] - 9s 49ms/step - loss: 0.1902 - accuracy: 0.9208 - val_loss: 0.4379 - val_accuracy: 0.8484\n",
      "Epoch 10/15\n",
      "188/188 [==============================] - 9s 49ms/step - loss: 0.1765 - accuracy: 0.9265 - val_loss: 0.4498 - val_accuracy: 0.8461\n",
      "Epoch 11/15\n",
      "188/188 [==============================] - 9s 48ms/step - loss: 0.1653 - accuracy: 0.9313 - val_loss: 0.4718 - val_accuracy: 0.8462\n",
      "Epoch 12/15\n",
      "188/188 [==============================] - 9s 48ms/step - loss: 0.1572 - accuracy: 0.9345 - val_loss: 0.4783 - val_accuracy: 0.8442\n",
      "Epoch 13/15\n",
      "188/188 [==============================] - 9s 49ms/step - loss: 0.1483 - accuracy: 0.9382 - val_loss: 0.4953 - val_accuracy: 0.8450\n",
      "Epoch 14/15\n",
      "188/188 [==============================] - 9s 48ms/step - loss: 0.1396 - accuracy: 0.9422 - val_loss: 0.4965 - val_accuracy: 0.8443\n",
      "Epoch 15/15\n",
      "188/188 [==============================] - 9s 50ms/step - loss: 0.1332 - accuracy: 0.9446 - val_loss: 0.5385 - val_accuracy: 0.8414\n"
     ]
    }
   ],
   "source": [
    "model3.compile(optimizer='adam',\n",
    "              loss='binary_crossentropy',\n",
    "              metrics=['accuracy'])\n",
    "              \n",
    "epochs=15\n",
    "\n",
    "history = model3.fit(partial_X_train,\n",
    "                    partial_y_train,\n",
    "                    epochs=epochs,\n",
    "                    batch_size=512,\n",
    "                    validation_data=(X_val, y_val),\n",
    "                    verbose=1)"
   ]
  },
  {
   "cell_type": "code",
   "execution_count": 23,
   "metadata": {},
   "outputs": [
    {
     "name": "stdout",
     "output_type": "stream",
     "text": [
      "1537/1537 - 3s - loss: 0.5487 - accuracy: 0.8373\n",
      "[0.5487481355667114, 0.837256133556366]\n"
     ]
    }
   ],
   "source": [
    "results = model3.evaluate(X_test,  y_test, verbose=2)\n",
    "\n",
    "print(results)"
   ]
  },
  {
   "cell_type": "code",
   "execution_count": 24,
   "metadata": {},
   "outputs": [
    {
     "name": "stdout",
     "output_type": "stream",
     "text": [
      "dict_keys(['loss', 'accuracy', 'val_loss', 'val_accuracy'])\n"
     ]
    }
   ],
   "source": [
    "history_dict = history.history\n",
    "print(history_dict.keys())"
   ]
  },
  {
   "cell_type": "code",
   "execution_count": 25,
   "metadata": {},
   "outputs": [
    {
     "data": {
      "image/png": "[encoded data removed]",
      "text/plain": [
       "<Figure size 432x288 with 1 Axes>"
      ]
     },
     "metadata": {
      "needs_background": "light"
     },
     "output_type": "display_data"
    }
   ],
   "source": [
    "acc = history_dict['accuracy']\n",
    "val_acc = history_dict['val_accuracy']\n",
    "loss = history_dict['loss']\n",
    "val_loss = history_dict['val_loss']\n",
    "\n",
    "epochs = range(1, len(acc) + 1)\n",
    "\n",
    "plt.plot(epochs, loss, 'bo', label='Training loss')\n",
    "plt.plot(epochs, val_loss, 'b', label='Validation loss')\n",
    "plt.title('Training and validation loss')\n",
    "plt.xlabel('Epochs')\n",
    "plt.ylabel('Loss')\n",
    "plt.legend()\n",
    "\n",
    "plt.show()"
   ]
  },
  {
   "cell_type": "code",
   "execution_count": 26,
   "metadata": {},
   "outputs": [
    {
     "data": {
      "image/png": "[encoded data removed]",
      "text/plain": [
       "<Figure size 432x288 with 1 Axes>"
      ]
     },
     "metadata": {
      "needs_background": "light"
     },
     "output_type": "display_data"
    }
   ],
   "source": [
    "plt.clf()\n",
    "\n",
    "plt.plot(epochs, acc, 'bo', label='Training acc')\n",
    "plt.plot(epochs, val_acc, 'b', label='Validation acc')\n",
    "plt.title('Training and validation accuracy')\n",
    "plt.xlabel('Epochs')\n",
    "plt.ylabel('Accuracy')\n",
    "plt.legend()\n",
    "\n",
    "plt.show()"
   ]
  },
  {
   "cell_type": "code",
   "execution_count": 27,
   "metadata": {},
   "outputs": [
    {
     "name": "stdout",
     "output_type": "stream",
     "text": [
      "1537/1537 - 1s - loss: 1.0454 - accuracy: 0.8200\n",
      "[1.0453839302062988, 0.8199849724769592]\n",
      "1537/1537 - 1s - loss: 0.7327 - accuracy: 0.8329\n",
      "[0.7327057123184204, 0.832902729511261]\n",
      "1537/1537 - 3s - loss: 0.5487 - accuracy: 0.8373\n",
      "[0.5487481355667114, 0.837256133556366]\n"
     ]
    }
   ],
   "source": [
    "results = model.evaluate(X_test,  y_test, verbose=2)\n",
    "print(results)\n",
    "\n",
    "results = model2.evaluate(X_test,  y_test, verbose=2)\n",
    "print(results)\n",
    "\n",
    "results = model3.evaluate(X_test,  y_test, verbose=2)\n",
    "print(results)"
   ]
  },
  {
   "cell_type": "markdown",
   "metadata": {},
   "source": [
    "## 8. Embedding 레이어 분석"
   ]
  },
  {
   "cell_type": "code",
   "execution_count": 28,
   "metadata": {},
   "outputs": [
    {
     "name": "stdout",
     "output_type": "stream",
     "text": [
      "(10000, 200)\n"
     ]
    }
   ],
   "source": [
    "embedding_layer = model.layers[0]\n",
    "weights = embedding_layer.get_weights()[0]\n",
    "print(weights.shape)    # shape: (vocab_size, embedding_dim)"
   ]
  },
  {
   "cell_type": "code",
   "execution_count": 29,
   "metadata": {},
   "outputs": [],
   "source": [
    "import os\n",
    "\n",
    "# 학습한 Embedding 파라미터를 파일에 써서 저장\n",
    "word2vec_file_path = os.getenv('HOME')+'/aiffel/sentiment_classification/word2vec.txt'\n",
    "f = open(word2vec_file_path, 'w')\n",
    "f.write('{} {}\\n'.format(vocab_size-4, word_vector_dim)) # 몇개의 벡터를 얼마 사이즈로 기재할지 타이틀 작성\n",
    "\n",
    "# 단어 개수(에서 특수문자 4개는 제외하고)만큼의 워드 벡터를 파일에 기록\n",
    "vectors = model.get_weights()[0]\n",
    "for i in range(4,vocab_size):\n",
    "    f.write('{} {}\\n'.format(index_to_word[i], ' '.join(map(str, list(vectors[i, :])))))\n",
    "f.close()"
   ]
  },
  {
   "cell_type": "code",
   "execution_count": 30,
   "metadata": {},
   "outputs": [
    {
     "data": {
      "text/plain": [
       "array([ 0.06952369, -0.02578371,  0.06196725,  0.00986905,  0.01474463,\n",
       "       -0.02072764,  0.02303465, -0.01791039,  0.00188091,  0.05199382,\n",
       "       -0.06593703,  0.00288688, -0.02498547,  0.03044376, -0.03575508,\n",
       "        0.01378188,  0.03854604, -0.01515799,  0.03381435,  0.00262449,\n",
       "       -0.01518493, -0.05799035, -0.01557747,  0.03642656, -0.03755179,\n",
       "        0.01858604, -0.04681688,  0.05630844, -0.04654307, -0.03025717,\n",
       "       -0.07999539,  0.06067616,  0.00840516,  0.03764023, -0.07904806,\n",
       "        0.00639771, -0.01092664,  0.02532963,  0.00588944,  0.01915316,\n",
       "       -0.05140981,  0.03155543,  0.03355894,  0.02204916, -0.01892888,\n",
       "       -0.02551072, -0.00825428,  0.04440306,  0.00108901, -0.00788196,\n",
       "        0.04261127, -0.04105977,  0.0591436 , -0.05782986, -0.01199975,\n",
       "       -0.00065827,  0.01439163, -0.00387915, -0.01303597, -0.00405741,\n",
       "        0.00708544,  0.04516433,  0.00363574,  0.00782371,  0.02367463,\n",
       "        0.01937493, -0.03395503,  0.00397594, -0.02935283, -0.0269361 ,\n",
       "       -0.00630056, -0.01969045,  0.03722327, -0.00865683,  0.04274916,\n",
       "        0.00603897, -0.02326752,  0.01980761,  0.01543782, -0.04230579,\n",
       "        0.01883434,  0.0317843 , -0.04640057, -0.01358207, -0.04158567,\n",
       "       -0.0613466 ,  0.00584391, -0.07497257, -0.02782544,  0.05483953,\n",
       "       -0.07387939,  0.01830969, -0.04514972,  0.03853023,  0.01723202,\n",
       "        0.07168283, -0.01890783, -0.00227027,  0.02552921, -0.01060492,\n",
       "        0.01152138, -0.01084563,  0.02500197,  0.02217846, -0.01130338,\n",
       "       -0.00519065, -0.05714487, -0.00315741,  0.03698109,  0.0436327 ,\n",
       "       -0.00036114,  0.03616926,  0.00821178, -0.00452476,  0.01937747,\n",
       "        0.02748678, -0.10804021, -0.08767588, -0.04280028, -0.02462544,\n",
       "        0.05570593, -0.03289865,  0.03002436, -0.00560356, -0.00615955,\n",
       "        0.00184853, -0.06147523,  0.02196917, -0.00162407,  0.02721405,\n",
       "        0.00067362,  0.02780446,  0.04265275, -0.04031342,  0.04169983,\n",
       "        0.020777  ,  0.04638115,  0.02967197,  0.03958578,  0.03074958,\n",
       "       -0.01644514,  0.01370911, -0.00397951,  0.02460787, -0.08583129,\n",
       "        0.03587956, -0.04184476,  0.02522523,  0.01274176, -0.04848255,\n",
       "       -0.02271304, -0.0144764 , -0.01071427,  0.0128491 ,  0.0445577 ,\n",
       "        0.02157303, -0.0220759 , -0.01168637, -0.05706119,  0.03224519,\n",
       "       -0.02045756, -0.04083876, -0.03401858, -0.02896599, -0.04186449,\n",
       "       -0.02392659,  0.00652092,  0.00985609, -0.0299529 , -0.03662264,\n",
       "        0.05287164, -0.00400849, -0.02199726, -0.01327043, -0.03020145,\n",
       "       -0.01402958, -0.03224304, -0.03265774, -0.01802766, -0.06826865,\n",
       "       -0.07664758,  0.02460033, -0.01988563, -0.0168565 , -0.00102971,\n",
       "        0.01469722, -0.02380519,  0.03305762, -0.05848775, -0.02450133,\n",
       "       -0.0100404 , -0.01781982, -0.04290345, -0.02093693,  0.08102629,\n",
       "        0.02585169, -0.04481754, -0.05806169,  0.04646315, -0.05953027],\n",
       "      dtype=float32)"
      ]
     },
     "execution_count": 30,
     "metadata": {},
     "output_type": "execute_result"
    }
   ],
   "source": [
    "from gensim.models.keyedvectors import Word2VecKeyedVectors\n",
    "\n",
    "word_vectors = Word2VecKeyedVectors.load_word2vec_format(word2vec_file_path, binary=False)\n",
    "vector = word_vectors['컴퓨터']\n",
    "vector"
   ]
  },
  {
   "cell_type": "code",
   "execution_count": 31,
   "metadata": {},
   "outputs": [
    {
     "data": {
      "text/plain": [
       "[('재일', 0.3526926040649414),\n",
       " ('장진영', 0.3259234130382538),\n",
       " ('추적', 0.3246484398841858),\n",
       " ('부럽', 0.3089445233345032),\n",
       " ('으리', 0.3067253828048706),\n",
       " ('인상', 0.29819634556770325),\n",
       " ('경찰', 0.2963793873786926),\n",
       " ('차별', 0.2958981394767761),\n",
       " ('이라도', 0.28912079334259033),\n",
       " ('엑', 0.28670597076416016)]"
      ]
     },
     "execution_count": 31,
     "metadata": {},
     "output_type": "execute_result"
    }
   ],
   "source": [
    "word_vectors.similar_by_word(\"컴퓨터\")"
   ]
  },
  {
   "cell_type": "markdown",
   "metadata": {},
   "source": [
    "## 9. Word2Vec을 사용한 분석"
   ]
  },
  {
   "cell_type": "code",
   "execution_count": 32,
   "metadata": {},
   "outputs": [],
   "source": [
    "# https://github.com/Kyubyong/wordvectors 에서 한국어 Word2Vec 파일을 받아온다\n",
    "# 작업폴더를 만들고 풀어준다\n",
    "# 데이터를 불러온다\n",
    "import os\n",
    "word2vec_file_path = os.getenv('HOME')+'/aiffel/sentiment_classification/ko/ko.bin'"
   ]
  },
  {
   "cell_type": "code",
   "execution_count": 33,
   "metadata": {},
   "outputs": [],
   "source": [
    "import gensim\n",
    "from gensim.models import KeyedVectors\n",
    "from gensim.models import Word2Vec\n",
    "word2vec = Word2Vec.load(word2vec_file_path)"
   ]
  },
  {
   "cell_type": "code",
   "execution_count": 34,
   "metadata": {},
   "outputs": [
    {
     "name": "stderr",
     "output_type": "stream",
     "text": [
      "/home/ssac3/anaconda3/envs/aiffel/lib/python3.7/site-packages/ipykernel_launcher.py:2: DeprecationWarning: Call to deprecated `similar_by_word` (Method will be removed in 4.0.0, use self.wv.similar_by_word() instead).\n",
      "  \n"
     ]
    },
    {
     "data": {
      "text/plain": [
       "[('하드웨어', 0.7727355360984802),\n",
       " ('소프트웨어', 0.7308895587921143),\n",
       " ('마이크로프로세서', 0.7205492258071899),\n",
       " ('개인용', 0.7154535055160522),\n",
       " ('노트북', 0.7130324244499207),\n",
       " ('계산기', 0.7044994831085205),\n",
       " ('하드디스크', 0.6943572759628296),\n",
       " ('태블릿', 0.6915029287338257),\n",
       " ('그래픽스', 0.6882646679878235),\n",
       " ('프린터', 0.6876466274261475)]"
      ]
     },
     "execution_count": 34,
     "metadata": {},
     "output_type": "execute_result"
    }
   ],
   "source": [
    "# \"컴퓨터\"라는 단어와 가장 가까운 단어를 알아보자(메모리를 다소 많이 소비하는 작업이니 유의해야 됨)\n",
    "word2vec.similar_by_word(\"컴퓨터\")"
   ]
  },
  {
   "cell_type": "code",
   "execution_count": 35,
   "metadata": {},
   "outputs": [
    {
     "name": "stderr",
     "output_type": "stream",
     "text": [
      "/home/ssac3/anaconda3/envs/aiffel/lib/python3.7/site-packages/ipykernel_launcher.py:10: DeprecationWarning: Call to deprecated `__contains__` (Method will be removed in 4.0.0, use self.wv.__contains__() instead).\n",
      "  # Remove the CWD from sys.path while we load stuff.\n",
      "/home/ssac3/anaconda3/envs/aiffel/lib/python3.7/site-packages/ipykernel_launcher.py:11: DeprecationWarning: Call to deprecated `__getitem__` (Method will be removed in 4.0.0, use self.wv.__getitem__() instead).\n",
      "  # This is added back by InteractiveShellApp.init_path()\n"
     ]
    }
   ],
   "source": [
    "# 학습했던 모델의 임베딩 레이어를 지금 받은 W2V로 교체하기 위한 작업\n",
    "\n",
    "vocab_size = 10000    # 어휘 사전의 크기입니다(10,000개의 단어)\n",
    "word_vector_dim = 200  # 워드 벡터의 차원수 (변경가능한 하이퍼파라미터)\n",
    "\n",
    "embedding_matrix = np.random.rand(vocab_size, word_vector_dim)\n",
    "\n",
    "# embedding_matrix에 Word2Vec 워드벡터를 단어 하나씩마다 차례차례 카피한다.\n",
    "for i in range(4,vocab_size):\n",
    "    if index_to_word[i] in word2vec:\n",
    "        embedding_matrix[i] = word2vec[index_to_word[i]]"
   ]
  },
  {
   "cell_type": "markdown",
   "metadata": {},
   "source": [
    "## 9.1 W2V를 적용한 모델을 만들어 보고 학습 시킨다"
   ]
  },
  {
   "cell_type": "markdown",
   "metadata": {},
   "source": [
    "### 9.1.1 1D-CNN"
   ]
  },
  {
   "cell_type": "code",
   "execution_count": 37,
   "metadata": {},
   "outputs": [
    {
     "name": "stdout",
     "output_type": "stream",
     "text": [
      "Model: \"sequential_4\"\n",
      "_________________________________________________________________\n",
      "Layer (type)                 Output Shape              Param #   \n",
      "=================================================================\n",
      "embedding_4 (Embedding)      (None, 41, 200)           2000000   \n",
      "_________________________________________________________________\n",
      "conv1d_4 (Conv1D)            (None, 35, 16)            22416     \n",
      "_________________________________________________________________\n",
      "max_pooling1d_2 (MaxPooling1 (None, 7, 16)             0         \n",
      "_________________________________________________________________\n",
      "conv1d_5 (Conv1D)            (None, 1, 16)             1808      \n",
      "_________________________________________________________________\n",
      "global_max_pooling1d_3 (Glob (None, 16)                0         \n",
      "_________________________________________________________________\n",
      "dense_8 (Dense)              (None, 8)                 136       \n",
      "_________________________________________________________________\n",
      "dense_9 (Dense)              (None, 1)                 9         \n",
      "=================================================================\n",
      "Total params: 2,024,369\n",
      "Trainable params: 2,024,369\n",
      "Non-trainable params: 0\n",
      "_________________________________________________________________\n"
     ]
    }
   ],
   "source": [
    "from tensorflow.keras.initializers import Constant\n",
    "\n",
    "# 모델 구성\n",
    "model4 = keras.Sequential()\n",
    "model4.add(keras.layers.Embedding(vocab_size, \n",
    "                                 word_vector_dim, \n",
    "                                 embeddings_initializer=Constant(embedding_matrix),  # 카피한 임베딩을 여기서 활용\n",
    "                                 input_length=maxlen, \n",
    "                                 trainable=True))\n",
    "model4.add(keras.layers.Conv1D(16, 7, activation='relu'))\n",
    "model4.add(keras.layers.MaxPooling1D(5))\n",
    "model4.add(keras.layers.Conv1D(16, 7, activation='relu'))\n",
    "model4.add(keras.layers.GlobalMaxPooling1D())\n",
    "model4.add(keras.layers.Dense(8, activation='relu'))\n",
    "model4.add(keras.layers.Dense(1, activation='sigmoid')) \n",
    "\n",
    "model4.summary()"
   ]
  },
  {
   "cell_type": "code",
   "execution_count": 39,
   "metadata": {},
   "outputs": [
    {
     "name": "stdout",
     "output_type": "stream",
     "text": [
      "Epoch 1/5\n",
      "188/188 [==============================] - 10s 51ms/step - loss: 0.3004 - accuracy: 0.8743 - val_loss: 0.3653 - val_accuracy: 0.8409\n",
      "Epoch 2/5\n",
      "188/188 [==============================] - 9s 50ms/step - loss: 0.2714 - accuracy: 0.8893 - val_loss: 0.3694 - val_accuracy: 0.8419\n",
      "Epoch 3/5\n",
      "188/188 [==============================] - 9s 50ms/step - loss: 0.2490 - accuracy: 0.8999 - val_loss: 0.3742 - val_accuracy: 0.8428\n",
      "Epoch 4/5\n",
      "188/188 [==============================] - 9s 50ms/step - loss: 0.2268 - accuracy: 0.9119 - val_loss: 0.3932 - val_accuracy: 0.8372\n",
      "Epoch 5/5\n",
      "188/188 [==============================] - 9s 50ms/step - loss: 0.2043 - accuracy: 0.9212 - val_loss: 0.4195 - val_accuracy: 0.8366\n"
     ]
    }
   ],
   "source": [
    "# 학습\n",
    "model4.compile(optimizer='adam',\n",
    "              loss='binary_crossentropy',\n",
    "              metrics=['accuracy'])\n",
    "              \n",
    "epochs=5\n",
    "\n",
    "history = model4.fit(partial_X_train,\n",
    "                    partial_y_train,\n",
    "                    epochs=epochs,\n",
    "                    batch_size=512,\n",
    "                    validation_data=(X_val, y_val),\n",
    "                    verbose=1)"
   ]
  },
  {
   "cell_type": "code",
   "execution_count": 40,
   "metadata": {},
   "outputs": [
    {
     "name": "stdout",
     "output_type": "stream",
     "text": [
      "1537/1537 - 1s - loss: 0.4380 - accuracy: 0.8330\n",
      "[0.43799537420272827, 0.8329840898513794]\n"
     ]
    }
   ],
   "source": [
    "# 테스트셋을 통한 모델 평가\n",
    "results = model4.evaluate(X_test,  y_test, verbose=2)\n",
    "\n",
    "print(results)"
   ]
  },
  {
   "cell_type": "markdown",
   "metadata": {},
   "source": [
    "### 9.1.2 LSTM"
   ]
  },
  {
   "cell_type": "code",
   "execution_count": 41,
   "metadata": {},
   "outputs": [
    {
     "name": "stdout",
     "output_type": "stream",
     "text": [
      "Model: \"sequential_5\"\n",
      "_________________________________________________________________\n",
      "Layer (type)                 Output Shape              Param #   \n",
      "=================================================================\n",
      "embedding_5 (Embedding)      (None, 41, 200)           2000000   \n",
      "_________________________________________________________________\n",
      "lstm_1 (LSTM)                (None, 96)                114048    \n",
      "_________________________________________________________________\n",
      "dense_10 (Dense)             (None, 8)                 776       \n",
      "_________________________________________________________________\n",
      "dense_11 (Dense)             (None, 1)                 9         \n",
      "=================================================================\n",
      "Total params: 2,114,833\n",
      "Trainable params: 2,114,833\n",
      "Non-trainable params: 0\n",
      "_________________________________________________________________\n"
     ]
    }
   ],
   "source": [
    "from tensorflow.keras.initializers import Constant\n",
    "\n",
    "# 모델 구성\n",
    "model5 = keras.Sequential()\n",
    "model5.add(keras.layers.Embedding(vocab_size, \n",
    "                                 word_vector_dim, \n",
    "                                 embeddings_initializer=Constant(embedding_matrix),\n",
    "                                 input_length=maxlen, \n",
    "                                 trainable=True))\n",
    "model5.add(keras.layers.LSTM(96))\n",
    "model5.add(keras.layers.Dense(8, activation='relu'))\n",
    "model5.add(keras.layers.Dense(1, activation='sigmoid'))\n",
    "\n",
    "model5.summary()"
   ]
  },
  {
   "cell_type": "code",
   "execution_count": 42,
   "metadata": {},
   "outputs": [
    {
     "name": "stdout",
     "output_type": "stream",
     "text": [
      "Epoch 1/5\n",
      "188/188 [==============================] - 26s 139ms/step - loss: 0.5992 - accuracy: 0.6361 - val_loss: 0.4274 - val_accuracy: 0.8100\n",
      "Epoch 2/5\n",
      "188/188 [==============================] - 25s 134ms/step - loss: 0.3742 - accuracy: 0.8351 - val_loss: 0.3466 - val_accuracy: 0.8497\n",
      "Epoch 3/5\n",
      "188/188 [==============================] - 23s 120ms/step - loss: 0.3105 - accuracy: 0.8681 - val_loss: 0.3367 - val_accuracy: 0.8547\n",
      "Epoch 4/5\n",
      "188/188 [==============================] - 23s 124ms/step - loss: 0.2748 - accuracy: 0.8855 - val_loss: 0.3328 - val_accuracy: 0.8590\n",
      "Epoch 5/5\n",
      "188/188 [==============================] - 23s 121ms/step - loss: 0.2488 - accuracy: 0.8989 - val_loss: 0.3421 - val_accuracy: 0.8594\n"
     ]
    }
   ],
   "source": [
    "# 학습\n",
    "model5.compile(optimizer='adam',\n",
    "              loss='binary_crossentropy',\n",
    "              metrics=['accuracy'])\n",
    "              \n",
    "epochs=5\n",
    "\n",
    "history = model5.fit(partial_X_train,\n",
    "                    partial_y_train,\n",
    "                    epochs=epochs,\n",
    "                    batch_size=512,\n",
    "                    validation_data=(X_val, y_val),\n",
    "                    verbose=1)"
   ]
  },
  {
   "cell_type": "markdown",
   "metadata": {},
   "source": [
    "### 9.1.3 W2V GMP"
   ]
  },
  {
   "cell_type": "code",
   "execution_count": 43,
   "metadata": {},
   "outputs": [
    {
     "name": "stdout",
     "output_type": "stream",
     "text": [
      "Model: \"sequential_6\"\n",
      "_________________________________________________________________\n",
      "Layer (type)                 Output Shape              Param #   \n",
      "=================================================================\n",
      "embedding_6 (Embedding)      (None, 41, 200)           2000000   \n",
      "_________________________________________________________________\n",
      "global_max_pooling1d_4 (Glob (None, 200)               0         \n",
      "_________________________________________________________________\n",
      "dense_12 (Dense)             (None, 8)                 1608      \n",
      "_________________________________________________________________\n",
      "dense_13 (Dense)             (None, 1)                 9         \n",
      "=================================================================\n",
      "Total params: 2,001,617\n",
      "Trainable params: 2,001,617\n",
      "Non-trainable params: 0\n",
      "_________________________________________________________________\n"
     ]
    }
   ],
   "source": [
    "# 모델 구성\n",
    "model6 = keras.Sequential()\n",
    "model6.add(keras.layers.Embedding(vocab_size, \n",
    "                                 word_vector_dim, \n",
    "                                 embeddings_initializer=Constant(embedding_matrix),\n",
    "                                 input_length=maxlen, \n",
    "                                 trainable=True))\n",
    "model6.add(keras.layers.GlobalMaxPooling1D())\n",
    "model6.add(keras.layers.Dense(8, activation='relu'))\n",
    "model6.add(keras.layers.Dense(1, activation='sigmoid'))\n",
    "\n",
    "model6.summary()"
   ]
  },
  {
   "cell_type": "code",
   "execution_count": 44,
   "metadata": {},
   "outputs": [
    {
     "name": "stdout",
     "output_type": "stream",
     "text": [
      "Epoch 1/5\n",
      "188/188 [==============================] - 4s 23ms/step - loss: 0.6795 - accuracy: 0.5668 - val_loss: 0.6297 - val_accuracy: 0.6444\n",
      "Epoch 2/5\n",
      "188/188 [==============================] - 4s 23ms/step - loss: 0.5773 - accuracy: 0.6967 - val_loss: 0.5389 - val_accuracy: 0.7292\n",
      "Epoch 3/5\n",
      "188/188 [==============================] - 4s 24ms/step - loss: 0.5150 - accuracy: 0.7476 - val_loss: 0.4994 - val_accuracy: 0.7571\n",
      "Epoch 4/5\n",
      "188/188 [==============================] - 4s 24ms/step - loss: 0.4746 - accuracy: 0.7749 - val_loss: 0.4724 - val_accuracy: 0.7742\n",
      "Epoch 5/5\n",
      "188/188 [==============================] - 4s 24ms/step - loss: 0.4446 - accuracy: 0.7938 - val_loss: 0.4535 - val_accuracy: 0.7840\n"
     ]
    }
   ],
   "source": [
    "# 학습\n",
    "model6.compile(optimizer='adam',\n",
    "              loss='binary_crossentropy',\n",
    "              metrics=['accuracy'])\n",
    "              \n",
    "epochs=5\n",
    "\n",
    "history = model6.fit(partial_X_train,\n",
    "                    partial_y_train,\n",
    "                    epochs=epochs,\n",
    "                    batch_size=512,\n",
    "                    validation_data=(X_val, y_val),\n",
    "                    verbose=1)"
   ]
  },
  {
   "cell_type": "code",
   "execution_count": 45,
   "metadata": {},
   "outputs": [
    {
     "name": "stdout",
     "output_type": "stream",
     "text": [
      "1537/1537 - 1s - loss: 1.0454 - accuracy: 0.8200\n",
      "[1.0453839302062988, 0.8199849724769592]\n",
      "1537/1537 - 1s - loss: 0.7327 - accuracy: 0.8329\n",
      "[0.7327057123184204, 0.832902729511261]\n",
      "1537/1537 - 3s - loss: 0.5487 - accuracy: 0.8373\n",
      "[0.5487481355667114, 0.837256133556366]\n",
      "1537/1537 - 1s - loss: 0.4380 - accuracy: 0.8330\n",
      "[0.43799537420272827, 0.8329840898513794]\n",
      "1537/1537 - 8s - loss: 0.3504 - accuracy: 0.8548\n",
      "[0.3504128158092499, 0.8547714352607727]\n",
      "1537/1537 - 1s - loss: 0.4603 - accuracy: 0.7803\n",
      "[0.4602537453174591, 0.7803364992141724]\n"
     ]
    }
   ],
   "source": [
    "# 1D-CNN\n",
    "results = model.evaluate(X_test,  y_test, verbose=2)\n",
    "print(results)\n",
    "# GMP\n",
    "results = model2.evaluate(X_test,  y_test, verbose=2)\n",
    "print(results)\n",
    "# LSTM\n",
    "results = model3.evaluate(X_test,  y_test, verbose=2)\n",
    "print(results)\n",
    "# W2V 1D CNN\n",
    "results = model4.evaluate(X_test,  y_test, verbose=2)\n",
    "print(results)\n",
    "# W2V LSTM\n",
    "results = model5.evaluate(X_test,  y_test, verbose=2)\n",
    "print(results)\n",
    "# W2V GMP\n",
    "results = model6.evaluate(X_test,  y_test, verbose=2)\n",
    "print(results)"
   ]
  }
 ],
 "metadata": {
  "kernelspec": {
   "display_name": "aiffel",
   "language": "python",
   "name": "aiffel"
  },
  "language_info": {
   "codemirror_mode": {
    "name": "ipython",
    "version": 3
   },
   "file_extension": ".py",
   "mimetype": "text/x-python",
   "name": "python",
   "nbconvert_exporter": "python",
   "pygments_lexer": "ipython3",
   "version": "3.7.0"
  }
 },
 "nbformat": 4,
 "nbformat_minor": 4
}
