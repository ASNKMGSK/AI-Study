{
 "cells": [
  {
   "cell_type": "markdown",
   "id": "artistic-talent",
   "metadata": {},
   "source": [
    "# 8. 영화 추천시스템"
   ]
  },
  {
   "cell_type": "markdown",
   "id": "polyphonic-morrison",
   "metadata": {},
   "source": [
    "먼저 프로젝트를 진행하기 전에 몇 가지 작업이 필요하다\n",
    "\n",
    "1) wget으로 데이터 다운로드\n",
    "$ wget http://files.grouplens.org/datasets/movielens/ml-1m.zip\n",
    "\n",
    "2) 다운받은 데이터를 작업디렉토리로 옮김\n",
    "$ mv ml-1m.zip ~/aiffel/recommendata_iu/data\n",
    "\n",
    "3) 작업디렉토리로 이동\n",
    "$ cd ~/aiffel/recommendata_iu/data\n",
    "\n",
    "4) 압축 해제\n",
    "$ unzip ml-1m.zip"
   ]
  },
  {
   "cell_type": "markdown",
   "id": "adjustable-walker",
   "metadata": {},
   "source": [
    "## 8.1 데이터 준비와 전처리"
   ]
  },
  {
   "cell_type": "code",
   "execution_count": 1,
   "id": "speaking-phone",
   "metadata": {},
   "outputs": [
    {
     "data": {
      "text/html": [
       "<div>\n",
       "<style scoped>\n",
       "    .dataframe tbody tr th:only-of-type {\n",
       "        vertical-align: middle;\n",
       "    }\n",
       "\n",
       "    .dataframe tbody tr th {\n",
       "        vertical-align: top;\n",
       "    }\n",
       "\n",
       "    .dataframe thead th {\n",
       "        text-align: right;\n",
       "    }\n",
       "</style>\n",
       "<table border=\"1\" class=\"dataframe\">\n",
       "  <thead>\n",
       "    <tr style=\"text-align: right;\">\n",
       "      <th></th>\n",
       "      <th>user_id</th>\n",
       "      <th>movie_id</th>\n",
       "      <th>rating</th>\n",
       "      <th>timestamp</th>\n",
       "    </tr>\n",
       "  </thead>\n",
       "  <tbody>\n",
       "    <tr>\n",
       "      <th>0</th>\n",
       "      <td>1</td>\n",
       "      <td>1193</td>\n",
       "      <td>5</td>\n",
       "      <td>978300760</td>\n",
       "    </tr>\n",
       "    <tr>\n",
       "      <th>1</th>\n",
       "      <td>1</td>\n",
       "      <td>661</td>\n",
       "      <td>3</td>\n",
       "      <td>978302109</td>\n",
       "    </tr>\n",
       "    <tr>\n",
       "      <th>2</th>\n",
       "      <td>1</td>\n",
       "      <td>914</td>\n",
       "      <td>3</td>\n",
       "      <td>978301968</td>\n",
       "    </tr>\n",
       "    <tr>\n",
       "      <th>3</th>\n",
       "      <td>1</td>\n",
       "      <td>3408</td>\n",
       "      <td>4</td>\n",
       "      <td>978300275</td>\n",
       "    </tr>\n",
       "    <tr>\n",
       "      <th>4</th>\n",
       "      <td>1</td>\n",
       "      <td>2355</td>\n",
       "      <td>5</td>\n",
       "      <td>978824291</td>\n",
       "    </tr>\n",
       "  </tbody>\n",
       "</table>\n",
       "</div>"
      ],
      "text/plain": [
       "   user_id  movie_id  rating  timestamp\n",
       "0        1      1193       5  978300760\n",
       "1        1       661       3  978302109\n",
       "2        1       914       3  978301968\n",
       "3        1      3408       4  978300275\n",
       "4        1      2355       5  978824291"
      ]
     },
     "execution_count": 1,
     "metadata": {},
     "output_type": "execute_result"
    }
   ],
   "source": [
    "# Movielens 데이터는 rading.dat 안에 이미 인덱싱까지 완료된 사용자-영화-평점 데이터가 깔끔하게 정리 되어 있다\n",
    "import os\n",
    "import pandas as pd\n",
    "rating_file_path=os.getenv('HOME') + '/aiffel/recommendata_iu/data/ml-1m/ratings.dat'\n",
    "ratings_cols = ['user_id', 'movie_id', 'rating', 'timestamp']\n",
    "ratings = pd.read_csv(rating_file_path, sep='::', names=ratings_cols, engine='python')\n",
    "orginal_data_size = len(ratings)\n",
    "ratings.head()"
   ]
  },
  {
   "cell_type": "code",
   "execution_count": 2,
   "id": "republican-national",
   "metadata": {},
   "outputs": [
    {
     "data": {
      "text/html": [
       "<div>\n",
       "<style scoped>\n",
       "    .dataframe tbody tr th:only-of-type {\n",
       "        vertical-align: middle;\n",
       "    }\n",
       "\n",
       "    .dataframe tbody tr th {\n",
       "        vertical-align: top;\n",
       "    }\n",
       "\n",
       "    .dataframe thead th {\n",
       "        text-align: right;\n",
       "    }\n",
       "</style>\n",
       "<table border=\"1\" class=\"dataframe\">\n",
       "  <thead>\n",
       "    <tr style=\"text-align: right;\">\n",
       "      <th></th>\n",
       "      <th>user_id</th>\n",
       "      <th>movie_id</th>\n",
       "      <th>rating</th>\n",
       "    </tr>\n",
       "  </thead>\n",
       "  <tbody>\n",
       "    <tr>\n",
       "      <th>0</th>\n",
       "      <td>1</td>\n",
       "      <td>1193</td>\n",
       "      <td>5</td>\n",
       "    </tr>\n",
       "    <tr>\n",
       "      <th>1</th>\n",
       "      <td>1</td>\n",
       "      <td>661</td>\n",
       "      <td>3</td>\n",
       "    </tr>\n",
       "    <tr>\n",
       "      <th>2</th>\n",
       "      <td>1</td>\n",
       "      <td>914</td>\n",
       "      <td>3</td>\n",
       "    </tr>\n",
       "    <tr>\n",
       "      <th>3</th>\n",
       "      <td>1</td>\n",
       "      <td>3408</td>\n",
       "      <td>4</td>\n",
       "    </tr>\n",
       "    <tr>\n",
       "      <th>4</th>\n",
       "      <td>1</td>\n",
       "      <td>2355</td>\n",
       "      <td>5</td>\n",
       "    </tr>\n",
       "  </tbody>\n",
       "</table>\n",
       "</div>"
      ],
      "text/plain": [
       "   user_id  movie_id  rating\n",
       "0        1      1193       5\n",
       "1        1       661       3\n",
       "2        1       914       3\n",
       "3        1      3408       4\n",
       "4        1      2355       5"
      ]
     },
     "execution_count": 2,
     "metadata": {},
     "output_type": "execute_result"
    }
   ],
   "source": [
    "# 사용하는 colum만 남겨둔다\n",
    "scol = ['user_id', 'movie_id', 'rating']\n",
    "ratings = ratings[scol]\n",
    "ratings.head()"
   ]
  },
  {
   "cell_type": "code",
   "execution_count": 3,
   "id": "narrative-allowance",
   "metadata": {},
   "outputs": [
    {
     "name": "stdout",
     "output_type": "stream",
     "text": [
      "orginal_data_size: 1000209, filtered_data_size: 836478\n",
      "Ratio of Remaining Data is 83.63%\n"
     ]
    }
   ],
   "source": [
    "# 3점 이상의 평점의 영화만 남기도록 하자\n",
    "ratings = ratings[ratings['rating']>=3]\n",
    "filtered_data_size = len(ratings)\n",
    "\n",
    "print(f'orginal_data_size: {orginal_data_size}, filtered_data_size: {filtered_data_size}')\n",
    "print(f'Ratio of Remaining Data is {filtered_data_size / orginal_data_size:.2%}')"
   ]
  },
  {
   "cell_type": "code",
   "execution_count": 4,
   "id": "banner-sheriff",
   "metadata": {},
   "outputs": [
    {
     "data": {
      "text/html": [
       "<div>\n",
       "<style scoped>\n",
       "    .dataframe tbody tr th:only-of-type {\n",
       "        vertical-align: middle;\n",
       "    }\n",
       "\n",
       "    .dataframe tbody tr th {\n",
       "        vertical-align: top;\n",
       "    }\n",
       "\n",
       "    .dataframe thead th {\n",
       "        text-align: right;\n",
       "    }\n",
       "</style>\n",
       "<table border=\"1\" class=\"dataframe\">\n",
       "  <thead>\n",
       "    <tr style=\"text-align: right;\">\n",
       "      <th></th>\n",
       "      <th>user_id</th>\n",
       "      <th>movie_id</th>\n",
       "      <th>counts</th>\n",
       "    </tr>\n",
       "  </thead>\n",
       "  <tbody>\n",
       "    <tr>\n",
       "      <th>0</th>\n",
       "      <td>1</td>\n",
       "      <td>1193</td>\n",
       "      <td>5</td>\n",
       "    </tr>\n",
       "    <tr>\n",
       "      <th>1</th>\n",
       "      <td>1</td>\n",
       "      <td>661</td>\n",
       "      <td>3</td>\n",
       "    </tr>\n",
       "    <tr>\n",
       "      <th>2</th>\n",
       "      <td>1</td>\n",
       "      <td>914</td>\n",
       "      <td>3</td>\n",
       "    </tr>\n",
       "    <tr>\n",
       "      <th>3</th>\n",
       "      <td>1</td>\n",
       "      <td>3408</td>\n",
       "      <td>4</td>\n",
       "    </tr>\n",
       "    <tr>\n",
       "      <th>4</th>\n",
       "      <td>1</td>\n",
       "      <td>2355</td>\n",
       "      <td>5</td>\n",
       "    </tr>\n",
       "  </tbody>\n",
       "</table>\n",
       "</div>"
      ],
      "text/plain": [
       "   user_id  movie_id  counts\n",
       "0        1      1193       5\n",
       "1        1       661       3\n",
       "2        1       914       3\n",
       "3        1      3408       4\n",
       "4        1      2355       5"
      ]
     },
     "execution_count": 4,
     "metadata": {},
     "output_type": "execute_result"
    }
   ],
   "source": [
    "# rating 컬럼의 이름을 counts로 바꿔준다\n",
    "ratings.rename(columns={'rating':'counts'}, inplace=True)\n",
    "ratings.head()"
   ]
  },
  {
   "cell_type": "code",
   "execution_count": 5,
   "id": "medium-diameter",
   "metadata": {},
   "outputs": [
    {
     "data": {
      "text/html": [
       "<div>\n",
       "<style scoped>\n",
       "    .dataframe tbody tr th:only-of-type {\n",
       "        vertical-align: middle;\n",
       "    }\n",
       "\n",
       "    .dataframe tbody tr th {\n",
       "        vertical-align: top;\n",
       "    }\n",
       "\n",
       "    .dataframe thead th {\n",
       "        text-align: right;\n",
       "    }\n",
       "</style>\n",
       "<table border=\"1\" class=\"dataframe\">\n",
       "  <thead>\n",
       "    <tr style=\"text-align: right;\">\n",
       "      <th></th>\n",
       "      <th>movie_id</th>\n",
       "      <th>title</th>\n",
       "      <th>genre</th>\n",
       "    </tr>\n",
       "  </thead>\n",
       "  <tbody>\n",
       "    <tr>\n",
       "      <th>0</th>\n",
       "      <td>1</td>\n",
       "      <td>Toy Story (1995)</td>\n",
       "      <td>Animation|Children's|Comedy</td>\n",
       "    </tr>\n",
       "    <tr>\n",
       "      <th>1</th>\n",
       "      <td>2</td>\n",
       "      <td>Jumanji (1995)</td>\n",
       "      <td>Adventure|Children's|Fantasy</td>\n",
       "    </tr>\n",
       "    <tr>\n",
       "      <th>2</th>\n",
       "      <td>3</td>\n",
       "      <td>Grumpier Old Men (1995)</td>\n",
       "      <td>Comedy|Romance</td>\n",
       "    </tr>\n",
       "    <tr>\n",
       "      <th>3</th>\n",
       "      <td>4</td>\n",
       "      <td>Waiting to Exhale (1995)</td>\n",
       "      <td>Comedy|Drama</td>\n",
       "    </tr>\n",
       "    <tr>\n",
       "      <th>4</th>\n",
       "      <td>5</td>\n",
       "      <td>Father of the Bride Part II (1995)</td>\n",
       "      <td>Comedy</td>\n",
       "    </tr>\n",
       "  </tbody>\n",
       "</table>\n",
       "</div>"
      ],
      "text/plain": [
       "   movie_id                               title                         genre\n",
       "0         1                    Toy Story (1995)   Animation|Children's|Comedy\n",
       "1         2                      Jumanji (1995)  Adventure|Children's|Fantasy\n",
       "2         3             Grumpier Old Men (1995)                Comedy|Romance\n",
       "3         4            Waiting to Exhale (1995)                  Comedy|Drama\n",
       "4         5  Father of the Bride Part II (1995)                        Comedy"
      ]
     },
     "execution_count": 5,
     "metadata": {},
     "output_type": "execute_result"
    }
   ],
   "source": [
    "# 영화 제목을 보기 위해 메타 데이터를 읽어온다\n",
    "movie_file_path=os.getenv('HOME') + '/aiffel/recommendata_iu/data/ml-1m/movies.dat'\n",
    "cols = ['movie_id', 'title', 'genre'] \n",
    "movies = pd.read_csv(movie_file_path, sep='::', names=cols, engine='python', encoding = 'ISO-8859-1')\n",
    "movies.head()"
   ]
  },
  {
   "cell_type": "code",
   "execution_count": 6,
   "id": "furnished-newsletter",
   "metadata": {},
   "outputs": [
    {
     "data": {
      "text/html": [
       "<div>\n",
       "<style scoped>\n",
       "    .dataframe tbody tr th:only-of-type {\n",
       "        vertical-align: middle;\n",
       "    }\n",
       "\n",
       "    .dataframe tbody tr th {\n",
       "        vertical-align: top;\n",
       "    }\n",
       "\n",
       "    .dataframe thead th {\n",
       "        text-align: right;\n",
       "    }\n",
       "</style>\n",
       "<table border=\"1\" class=\"dataframe\">\n",
       "  <thead>\n",
       "    <tr style=\"text-align: right;\">\n",
       "      <th></th>\n",
       "      <th>user_id</th>\n",
       "      <th>movie_id</th>\n",
       "      <th>counts</th>\n",
       "      <th>title</th>\n",
       "      <th>genre</th>\n",
       "    </tr>\n",
       "  </thead>\n",
       "  <tbody>\n",
       "    <tr>\n",
       "      <th>0</th>\n",
       "      <td>1</td>\n",
       "      <td>1193</td>\n",
       "      <td>5</td>\n",
       "      <td>One Flew Over the Cuckoo's Nest (1975)</td>\n",
       "      <td>Drama</td>\n",
       "    </tr>\n",
       "    <tr>\n",
       "      <th>1</th>\n",
       "      <td>1</td>\n",
       "      <td>661</td>\n",
       "      <td>3</td>\n",
       "      <td>James and the Giant Peach (1996)</td>\n",
       "      <td>Animation|Children's|Musical</td>\n",
       "    </tr>\n",
       "    <tr>\n",
       "      <th>2</th>\n",
       "      <td>1</td>\n",
       "      <td>914</td>\n",
       "      <td>3</td>\n",
       "      <td>My Fair Lady (1964)</td>\n",
       "      <td>Musical|Romance</td>\n",
       "    </tr>\n",
       "    <tr>\n",
       "      <th>3</th>\n",
       "      <td>1</td>\n",
       "      <td>3408</td>\n",
       "      <td>4</td>\n",
       "      <td>Erin Brockovich (2000)</td>\n",
       "      <td>Drama</td>\n",
       "    </tr>\n",
       "    <tr>\n",
       "      <th>4</th>\n",
       "      <td>1</td>\n",
       "      <td>2355</td>\n",
       "      <td>5</td>\n",
       "      <td>Bug's Life, A (1998)</td>\n",
       "      <td>Animation|Children's|Comedy</td>\n",
       "    </tr>\n",
       "    <tr>\n",
       "      <th>...</th>\n",
       "      <td>...</td>\n",
       "      <td>...</td>\n",
       "      <td>...</td>\n",
       "      <td>...</td>\n",
       "      <td>...</td>\n",
       "    </tr>\n",
       "    <tr>\n",
       "      <th>1000203</th>\n",
       "      <td>6040</td>\n",
       "      <td>1090</td>\n",
       "      <td>3</td>\n",
       "      <td>Platoon (1986)</td>\n",
       "      <td>Drama|War</td>\n",
       "    </tr>\n",
       "    <tr>\n",
       "      <th>1000205</th>\n",
       "      <td>6040</td>\n",
       "      <td>1094</td>\n",
       "      <td>5</td>\n",
       "      <td>Crying Game, The (1992)</td>\n",
       "      <td>Drama|Romance|War</td>\n",
       "    </tr>\n",
       "    <tr>\n",
       "      <th>1000206</th>\n",
       "      <td>6040</td>\n",
       "      <td>562</td>\n",
       "      <td>5</td>\n",
       "      <td>Welcome to the Dollhouse (1995)</td>\n",
       "      <td>Comedy|Drama</td>\n",
       "    </tr>\n",
       "    <tr>\n",
       "      <th>1000207</th>\n",
       "      <td>6040</td>\n",
       "      <td>1096</td>\n",
       "      <td>4</td>\n",
       "      <td>Sophie's Choice (1982)</td>\n",
       "      <td>Drama</td>\n",
       "    </tr>\n",
       "    <tr>\n",
       "      <th>1000208</th>\n",
       "      <td>6040</td>\n",
       "      <td>1097</td>\n",
       "      <td>4</td>\n",
       "      <td>E.T. the Extra-Terrestrial (1982)</td>\n",
       "      <td>Children's|Drama|Fantasy|Sci-Fi</td>\n",
       "    </tr>\n",
       "  </tbody>\n",
       "</table>\n",
       "<p>836478 rows × 5 columns</p>\n",
       "</div>"
      ],
      "text/plain": [
       "         user_id  movie_id  counts                                   title  \\\n",
       "0              1      1193       5  One Flew Over the Cuckoo's Nest (1975)   \n",
       "1              1       661       3        James and the Giant Peach (1996)   \n",
       "2              1       914       3                     My Fair Lady (1964)   \n",
       "3              1      3408       4                  Erin Brockovich (2000)   \n",
       "4              1      2355       5                    Bug's Life, A (1998)   \n",
       "...          ...       ...     ...                                     ...   \n",
       "1000203     6040      1090       3                          Platoon (1986)   \n",
       "1000205     6040      1094       5                 Crying Game, The (1992)   \n",
       "1000206     6040       562       5         Welcome to the Dollhouse (1995)   \n",
       "1000207     6040      1096       4                  Sophie's Choice (1982)   \n",
       "1000208     6040      1097       4       E.T. the Extra-Terrestrial (1982)   \n",
       "\n",
       "                                   genre  \n",
       "0                                  Drama  \n",
       "1           Animation|Children's|Musical  \n",
       "2                        Musical|Romance  \n",
       "3                                  Drama  \n",
       "4            Animation|Children's|Comedy  \n",
       "...                                  ...  \n",
       "1000203                        Drama|War  \n",
       "1000205                Drama|Romance|War  \n",
       "1000206                     Comedy|Drama  \n",
       "1000207                            Drama  \n",
       "1000208  Children's|Drama|Fantasy|Sci-Fi  \n",
       "\n",
       "[836478 rows x 5 columns]"
      ]
     },
     "execution_count": 6,
     "metadata": {},
     "output_type": "execute_result"
    }
   ],
   "source": [
    "# 아까의 데이터와 합쳐준다\n",
    "df = movies.set_index(\"movie_id\")\n",
    "ratings = ratings.join(df, on = \"movie_id\")\n",
    "\n",
    "ratings"
   ]
  },
  {
   "cell_type": "markdown",
   "id": "norwegian-surgeon",
   "metadata": {},
   "source": [
    "## 8.2 데이터 분석"
   ]
  },
  {
   "cell_type": "code",
   "execution_count": 7,
   "id": "dangerous-trial",
   "metadata": {},
   "outputs": [
    {
     "data": {
      "text/plain": [
       "6039"
      ]
     },
     "execution_count": 7,
     "metadata": {},
     "output_type": "execute_result"
    }
   ],
   "source": [
    "# rating에 있는 유니크한 사용자 수\n",
    "ratings['user_id'].nunique()"
   ]
  },
  {
   "cell_type": "code",
   "execution_count": 8,
   "id": "featured-enclosure",
   "metadata": {},
   "outputs": [
    {
     "data": {
      "text/plain": [
       "3628"
      ]
     },
     "execution_count": 8,
     "metadata": {},
     "output_type": "execute_result"
    }
   ],
   "source": [
    "# rating에 있는 유니크한 영화 개수\n",
    "ratings['movie_id'].nunique()"
   ]
  },
  {
   "cell_type": "code",
   "execution_count": 9,
   "id": "leading-fifteen",
   "metadata": {},
   "outputs": [
    {
     "data": {
      "text/plain": [
       "title\n",
       "American Beauty (1999)                                   3211\n",
       "Star Wars: Episode IV - A New Hope (1977)                2910\n",
       "Star Wars: Episode V - The Empire Strikes Back (1980)    2885\n",
       "Star Wars: Episode VI - Return of the Jedi (1983)        2716\n",
       "Saving Private Ryan (1998)                               2561\n",
       "Terminator 2: Judgment Day (1991)                        2509\n",
       "Silence of the Lambs, The (1991)                         2498\n",
       "Raiders of the Lost Ark (1981)                           2473\n",
       "Back to the Future (1985)                                2460\n",
       "Matrix, The (1999)                                       2434\n",
       "Jurassic Park (1993)                                     2413\n",
       "Sixth Sense, The (1999)                                  2385\n",
       "Fargo (1996)                                             2371\n",
       "Braveheart (1995)                                        2314\n",
       "Men in Black (1997)                                      2297\n",
       "Schindler's List (1993)                                  2257\n",
       "Princess Bride, The (1987)                               2252\n",
       "Shakespeare in Love (1998)                               2213\n",
       "L.A. Confidential (1997)                                 2210\n",
       "Shawshank Redemption, The (1994)                         2194\n",
       "Godfather, The (1972)                                    2167\n",
       "Groundhog Day (1993)                                     2121\n",
       "E.T. the Extra-Terrestrial (1982)                        2102\n",
       "Being John Malkovich (1999)                              2066\n",
       "Ghostbusters (1984)                                      2051\n",
       "Pulp Fiction (1994)                                      2030\n",
       "Forrest Gump (1994)                                      2022\n",
       "Terminator, The (1984)                                   2019\n",
       "Toy Story (1995)                                         2000\n",
       "Fugitive, The (1993)                                     1941\n",
       "Name: title, dtype: int64"
      ]
     },
     "execution_count": 9,
     "metadata": {},
     "output_type": "execute_result"
    }
   ],
   "source": [
    "# 가장 인기 있는 영화 30개 출력(인기순)\n",
    "movie_count = ratings.groupby('title')['title'].count()\n",
    "movie_count.sort_values(ascending=False).head(30)"
   ]
  },
  {
   "cell_type": "markdown",
   "id": "desperate-siemens",
   "metadata": {},
   "source": [
    "## 8.3 내가 선호하는 영화를 5가지 골라서 rating에 추가해 보자"
   ]
  },
  {
   "cell_type": "code",
   "execution_count": 10,
   "id": "faced-binding",
   "metadata": {},
   "outputs": [],
   "source": [
    "idx_to_movie = {i:v for i,v in zip(movies['movie_id'], movies['title'])}\n",
    "movie_to_idx = {v:i for i,v in zip(movies['movie_id'], movies['title'])}"
   ]
  },
  {
   "cell_type": "code",
   "execution_count": 11,
   "id": "packed-match",
   "metadata": {},
   "outputs": [
    {
     "data": {
      "text/html": [
       "<div>\n",
       "<style scoped>\n",
       "    .dataframe tbody tr th:only-of-type {\n",
       "        vertical-align: middle;\n",
       "    }\n",
       "\n",
       "    .dataframe tbody tr th {\n",
       "        vertical-align: top;\n",
       "    }\n",
       "\n",
       "    .dataframe thead th {\n",
       "        text-align: right;\n",
       "    }\n",
       "</style>\n",
       "<table border=\"1\" class=\"dataframe\">\n",
       "  <thead>\n",
       "    <tr style=\"text-align: right;\">\n",
       "      <th></th>\n",
       "      <th>user_id</th>\n",
       "      <th>movie_id</th>\n",
       "      <th>counts</th>\n",
       "      <th>title</th>\n",
       "      <th>genre</th>\n",
       "    </tr>\n",
       "  </thead>\n",
       "  <tbody>\n",
       "    <tr>\n",
       "      <th>1000203</th>\n",
       "      <td>6040</td>\n",
       "      <td>1090</td>\n",
       "      <td>3</td>\n",
       "      <td>Platoon (1986)</td>\n",
       "      <td>Drama|War</td>\n",
       "    </tr>\n",
       "    <tr>\n",
       "      <th>1000205</th>\n",
       "      <td>6040</td>\n",
       "      <td>1094</td>\n",
       "      <td>5</td>\n",
       "      <td>Crying Game, The (1992)</td>\n",
       "      <td>Drama|Romance|War</td>\n",
       "    </tr>\n",
       "    <tr>\n",
       "      <th>1000206</th>\n",
       "      <td>6040</td>\n",
       "      <td>562</td>\n",
       "      <td>5</td>\n",
       "      <td>Welcome to the Dollhouse (1995)</td>\n",
       "      <td>Comedy|Drama</td>\n",
       "    </tr>\n",
       "    <tr>\n",
       "      <th>1000207</th>\n",
       "      <td>6040</td>\n",
       "      <td>1096</td>\n",
       "      <td>4</td>\n",
       "      <td>Sophie's Choice (1982)</td>\n",
       "      <td>Drama</td>\n",
       "    </tr>\n",
       "    <tr>\n",
       "      <th>1000208</th>\n",
       "      <td>6040</td>\n",
       "      <td>1097</td>\n",
       "      <td>4</td>\n",
       "      <td>E.T. the Extra-Terrestrial (1982)</td>\n",
       "      <td>Children's|Drama|Fantasy|Sci-Fi</td>\n",
       "    </tr>\n",
       "    <tr>\n",
       "      <th>0</th>\n",
       "      <td>MYJ</td>\n",
       "      <td>608</td>\n",
       "      <td>5</td>\n",
       "      <td>Fargo (1996)</td>\n",
       "      <td>NaN</td>\n",
       "    </tr>\n",
       "    <tr>\n",
       "      <th>1</th>\n",
       "      <td>MYJ</td>\n",
       "      <td>110</td>\n",
       "      <td>5</td>\n",
       "      <td>Braveheart (1995)</td>\n",
       "      <td>NaN</td>\n",
       "    </tr>\n",
       "    <tr>\n",
       "      <th>2</th>\n",
       "      <td>MYJ</td>\n",
       "      <td>1580</td>\n",
       "      <td>5</td>\n",
       "      <td>Men in Black (1997)</td>\n",
       "      <td>NaN</td>\n",
       "    </tr>\n",
       "    <tr>\n",
       "      <th>3</th>\n",
       "      <td>MYJ</td>\n",
       "      <td>1617</td>\n",
       "      <td>5</td>\n",
       "      <td>L.A. Confidential (1997)</td>\n",
       "      <td>NaN</td>\n",
       "    </tr>\n",
       "    <tr>\n",
       "      <th>4</th>\n",
       "      <td>MYJ</td>\n",
       "      <td>1197</td>\n",
       "      <td>5</td>\n",
       "      <td>Princess Bride, The (1987)</td>\n",
       "      <td>NaN</td>\n",
       "    </tr>\n",
       "  </tbody>\n",
       "</table>\n",
       "</div>"
      ],
      "text/plain": [
       "        user_id  movie_id  counts                              title  \\\n",
       "1000203    6040      1090       3                     Platoon (1986)   \n",
       "1000205    6040      1094       5            Crying Game, The (1992)   \n",
       "1000206    6040       562       5    Welcome to the Dollhouse (1995)   \n",
       "1000207    6040      1096       4             Sophie's Choice (1982)   \n",
       "1000208    6040      1097       4  E.T. the Extra-Terrestrial (1982)   \n",
       "0           MYJ       608       5                       Fargo (1996)   \n",
       "1           MYJ       110       5                  Braveheart (1995)   \n",
       "2           MYJ      1580       5                Men in Black (1997)   \n",
       "3           MYJ      1617       5           L.A. Confidential (1997)   \n",
       "4           MYJ      1197       5         Princess Bride, The (1987)   \n",
       "\n",
       "                                   genre  \n",
       "1000203                        Drama|War  \n",
       "1000205                Drama|Romance|War  \n",
       "1000206                     Comedy|Drama  \n",
       "1000207                            Drama  \n",
       "1000208  Children's|Drama|Fantasy|Sci-Fi  \n",
       "0                                    NaN  \n",
       "1                                    NaN  \n",
       "2                                    NaN  \n",
       "3                                    NaN  \n",
       "4                                    NaN  "
      ]
     },
     "execution_count": 11,
     "metadata": {},
     "output_type": "execute_result"
    }
   ],
   "source": [
    "# my favorite 리스트에 5개 골라서 집어넣어준다\n",
    "my_favorite = [\n",
    "'Fargo (1996)',                                       \n",
    "'Braveheart (1995)',                                       \n",
    "'Men in Black (1997)',\n",
    "'L.A. Confidential (1997)',  \n",
    "'Princess Bride, The (1987)'\n",
    "]\n",
    "my_idx = []\n",
    "for i in my_favorite:\n",
    "    my_idx.append(movie_to_idx[i])\n",
    "my_idx\n",
    "# MYJ라는 user_id가 위의 영화를 5회씩 봤다고 가정한다\n",
    "my_playlist = pd.DataFrame({'user_id' : ['MYJ'] * 5, 'movie_id' : my_idx, 'title' : my_favorite, 'counts' : [5] * 5})\n",
    "\n",
    "# user_id에 MYJ라는 데이터가 없다면 위에 임의로 만든 my_favorite 데이터를 추가해 준다\n",
    "if not ratings.isin({'user_id' : ['MYJ']})['user_id'].any():\n",
    "    ratings = ratings.append(my_playlist)\n",
    "ratings.tail(10) "
   ]
  },
  {
   "cell_type": "code",
   "execution_count": 12,
   "id": "outstanding-liabilities",
   "metadata": {
    "scrolled": true
   },
   "outputs": [],
   "source": [
    "# 유저, 영화를 찾아내는 코드\n",
    "user_unique = ratings['user_id'].unique()\n",
    "movie_unique = ratings['title'].unique()\n",
    "# 유저, 영화 indexing 하는 코드.\n",
    "user_to_idx = {v : k for k, v in enumerate(user_unique)}\n",
    "movie_to_idx = {v : k for k, v in enumerate(movie_unique)}"
   ]
  },
  {
   "cell_type": "code",
   "execution_count": 13,
   "id": "junior-organic",
   "metadata": {},
   "outputs": [
    {
     "name": "stdout",
     "output_type": "stream",
     "text": [
      "user_id column indexing OK!!\n",
      "movie column indexing OK!!\n"
     ]
    },
    {
     "data": {
      "text/html": [
       "<div>\n",
       "<style scoped>\n",
       "    .dataframe tbody tr th:only-of-type {\n",
       "        vertical-align: middle;\n",
       "    }\n",
       "\n",
       "    .dataframe tbody tr th {\n",
       "        vertical-align: top;\n",
       "    }\n",
       "\n",
       "    .dataframe thead th {\n",
       "        text-align: right;\n",
       "    }\n",
       "</style>\n",
       "<table border=\"1\" class=\"dataframe\">\n",
       "  <thead>\n",
       "    <tr style=\"text-align: right;\">\n",
       "      <th></th>\n",
       "      <th>user_id</th>\n",
       "      <th>movie_id</th>\n",
       "      <th>counts</th>\n",
       "      <th>title</th>\n",
       "      <th>genre</th>\n",
       "    </tr>\n",
       "  </thead>\n",
       "  <tbody>\n",
       "    <tr>\n",
       "      <th>1000203</th>\n",
       "      <td>6038</td>\n",
       "      <td>1030</td>\n",
       "      <td>3</td>\n",
       "      <td>Platoon (1986)</td>\n",
       "      <td>Drama|War</td>\n",
       "    </tr>\n",
       "    <tr>\n",
       "      <th>1000205</th>\n",
       "      <td>6038</td>\n",
       "      <td>986</td>\n",
       "      <td>5</td>\n",
       "      <td>Crying Game, The (1992)</td>\n",
       "      <td>Drama|Romance|War</td>\n",
       "    </tr>\n",
       "    <tr>\n",
       "      <th>1000206</th>\n",
       "      <td>6038</td>\n",
       "      <td>311</td>\n",
       "      <td>5</td>\n",
       "      <td>Welcome to the Dollhouse (1995)</td>\n",
       "      <td>Comedy|Drama</td>\n",
       "    </tr>\n",
       "    <tr>\n",
       "      <th>1000207</th>\n",
       "      <td>6038</td>\n",
       "      <td>142</td>\n",
       "      <td>4</td>\n",
       "      <td>Sophie's Choice (1982)</td>\n",
       "      <td>Drama</td>\n",
       "    </tr>\n",
       "    <tr>\n",
       "      <th>1000208</th>\n",
       "      <td>6038</td>\n",
       "      <td>26</td>\n",
       "      <td>4</td>\n",
       "      <td>E.T. the Extra-Terrestrial (1982)</td>\n",
       "      <td>Children's|Drama|Fantasy|Sci-Fi</td>\n",
       "    </tr>\n",
       "    <tr>\n",
       "      <th>0</th>\n",
       "      <td>6039</td>\n",
       "      <td>51</td>\n",
       "      <td>5</td>\n",
       "      <td>Fargo (1996)</td>\n",
       "      <td>NaN</td>\n",
       "    </tr>\n",
       "    <tr>\n",
       "      <th>1</th>\n",
       "      <td>6039</td>\n",
       "      <td>87</td>\n",
       "      <td>5</td>\n",
       "      <td>Braveheart (1995)</td>\n",
       "      <td>NaN</td>\n",
       "    </tr>\n",
       "    <tr>\n",
       "      <th>2</th>\n",
       "      <td>6039</td>\n",
       "      <td>175</td>\n",
       "      <td>5</td>\n",
       "      <td>Men in Black (1997)</td>\n",
       "      <td>NaN</td>\n",
       "    </tr>\n",
       "    <tr>\n",
       "      <th>3</th>\n",
       "      <td>6039</td>\n",
       "      <td>224</td>\n",
       "      <td>5</td>\n",
       "      <td>L.A. Confidential (1997)</td>\n",
       "      <td>NaN</td>\n",
       "    </tr>\n",
       "    <tr>\n",
       "      <th>4</th>\n",
       "      <td>6039</td>\n",
       "      <td>5</td>\n",
       "      <td>5</td>\n",
       "      <td>Princess Bride, The (1987)</td>\n",
       "      <td>NaN</td>\n",
       "    </tr>\n",
       "  </tbody>\n",
       "</table>\n",
       "</div>"
      ],
      "text/plain": [
       "         user_id  movie_id  counts                              title  \\\n",
       "1000203     6038      1030       3                     Platoon (1986)   \n",
       "1000205     6038       986       5            Crying Game, The (1992)   \n",
       "1000206     6038       311       5    Welcome to the Dollhouse (1995)   \n",
       "1000207     6038       142       4             Sophie's Choice (1982)   \n",
       "1000208     6038        26       4  E.T. the Extra-Terrestrial (1982)   \n",
       "0           6039        51       5                       Fargo (1996)   \n",
       "1           6039        87       5                  Braveheart (1995)   \n",
       "2           6039       175       5                Men in Black (1997)   \n",
       "3           6039       224       5           L.A. Confidential (1997)   \n",
       "4           6039         5       5         Princess Bride, The (1987)   \n",
       "\n",
       "                                   genre  \n",
       "1000203                        Drama|War  \n",
       "1000205                Drama|Romance|War  \n",
       "1000206                     Comedy|Drama  \n",
       "1000207                            Drama  \n",
       "1000208  Children's|Drama|Fantasy|Sci-Fi  \n",
       "0                                    NaN  \n",
       "1                                    NaN  \n",
       "2                                    NaN  \n",
       "3                                    NaN  \n",
       "4                                    NaN  "
      ]
     },
     "execution_count": 13,
     "metadata": {},
     "output_type": "execute_result"
    }
   ],
   "source": [
    "# indexing을 통해 데이터 컬럼 내 값을 바꾸는 코드\n",
    "# dictionary 자료형의 get 함수는 https://wikidocs.net/16 을 참고\n",
    "\n",
    "# user_to_idx.get을 통해 user_id 컬럼의 모든 값을 인덱싱한 Series를 구한다\n",
    "# 혹시 정상적으로 인덱싱되지 않은 row가 있다면 인덱스가 NaN이 될 테니 dropna()로 제거한다 \n",
    "temp_user_data = ratings['user_id'].map(user_to_idx.get).dropna()\n",
    "if len(temp_user_data) == len(ratings):   # 모든 row가 정상적으로 인덱싱되었다면\n",
    "    print('user_id column indexing OK!!')\n",
    "    ratings['user_id'] = temp_user_data   # data['user_id']을 인덱싱된 Series로 교체해 준다\n",
    "else:\n",
    "    print('user_id column indexing Fail!!')\n",
    "\n",
    "# artist_to_idx을 통해 artist 컬럼도 동일한 방식으로 인덱싱해 준다\n",
    "temp_movie_data = ratings['title'].map(movie_to_idx.get).dropna()\n",
    "if len(temp_movie_data) == len(ratings):\n",
    "    print('movie column indexing OK!!')\n",
    "    ratings['movie_id'] = temp_movie_data\n",
    "else:\n",
    "    print('movie column indexing Fail!!')\n",
    "ratings.tail(10)"
   ]
  },
  {
   "cell_type": "markdown",
   "id": "planned-definition",
   "metadata": {},
   "source": [
    "## 8.4  CSR matrix를 직접  만들어 보자"
   ]
  },
  {
   "cell_type": "code",
   "execution_count": 14,
   "id": "cultural-venue",
   "metadata": {},
   "outputs": [
    {
     "name": "stdout",
     "output_type": "stream",
     "text": [
      "6040\n",
      "3628\n"
     ]
    }
   ],
   "source": [
    "# CSR Matrix로 변환\n",
    "from scipy.sparse import csr_matrix\n",
    "\n",
    "num_user = ratings['user_id'].nunique()\n",
    "print(num_user)\n",
    "num_movie = ratings['movie_id'].nunique()\n",
    "print(num_movie)"
   ]
  },
  {
   "cell_type": "code",
   "execution_count": 15,
   "id": "signal-canon",
   "metadata": {},
   "outputs": [
    {
     "data": {
      "text/plain": [
       "<6040x3628 sparse matrix of type '<class 'numpy.int64'>'\n",
       "\twith 836483 stored elements in Compressed Sparse Row format>"
      ]
     },
     "execution_count": 15,
     "metadata": {},
     "output_type": "execute_result"
    }
   ],
   "source": [
    "csr_data = csr_matrix((ratings['counts'], (ratings.user_id, ratings.movie_id)), shape=(num_user, num_movie))\n",
    "csr_data"
   ]
  },
  {
   "cell_type": "markdown",
   "id": "crucial-scanning",
   "metadata": {},
   "source": [
    "## 8.5 als_model = AlternatingLeastSquares 모델을 직접 구성하여 훈련시켜 보자"
   ]
  },
  {
   "cell_type": "code",
   "execution_count": 16,
   "id": "liquid-absorption",
   "metadata": {},
   "outputs": [],
   "source": [
    "from implicit.als import AlternatingLeastSquares\n",
    "import os\n",
    "import numpy as np\n",
    "\n",
    "# implicit 라이브러리에서 권장하고 있는 부분이다\n",
    "os.environ['OPENBLAS_NUM_THREADS']='1'\n",
    "os.environ['KMP_DUPLICATE_LIB_OK']='True'\n",
    "os.environ['MKL_NUM_THREADS']='1'"
   ]
  },
  {
   "cell_type": "code",
   "execution_count": 17,
   "id": "threatened-replacement",
   "metadata": {},
   "outputs": [],
   "source": [
    "# Implicit AlternatingLeastSquares 모델의 선언\n",
    "als_model = AlternatingLeastSquares(factors=110, regularization=0.01, use_gpu=False, iterations=20, dtype=np.float32)"
   ]
  },
  {
   "cell_type": "code",
   "execution_count": 18,
   "id": "comparative-syracuse",
   "metadata": {},
   "outputs": [
    {
     "data": {
      "text/plain": [
       "<3628x6040 sparse matrix of type '<class 'numpy.int64'>'\n",
       "\twith 836483 stored elements in Compressed Sparse Column format>"
      ]
     },
     "execution_count": 18,
     "metadata": {},
     "output_type": "execute_result"
    }
   ],
   "source": [
    "# als 모델은 input으로 (item X user 꼴의 matrix를 받기 때문에 Transpose해준다)\n",
    "csr_data_transpose = csr_data.T\n",
    "csr_data_transpose"
   ]
  },
  {
   "cell_type": "code",
   "execution_count": 19,
   "id": "incident-cornell",
   "metadata": {},
   "outputs": [
    {
     "data": {
      "application/vnd.jupyter.widget-view+json": {
       "model_id": "bae97f0113064b78a0eea462c7a17980",
       "version_major": 2,
       "version_minor": 0
      },
      "text/plain": [
       "  0%|          | 0/20 [00:00<?, ?it/s]"
      ]
     },
     "metadata": {},
     "output_type": "display_data"
    }
   ],
   "source": [
    "# 모델 훈련\n",
    "als_model.fit(csr_data_transpose)"
   ]
  },
  {
   "cell_type": "markdown",
   "id": "boxed-material",
   "metadata": {},
   "source": [
    "## 8.6 내가 선호하는 5가지 영화 중 하나와 그 외의 영화 하나를 골라 훈련된 모델이 예측한 나의 선호도를 파악해 보자"
   ]
  },
  {
   "cell_type": "code",
   "execution_count": 20,
   "id": "substantial-specialist",
   "metadata": {},
   "outputs": [],
   "source": [
    "# 모델이 1)Braveheart (1995)의 벡터를 어떻게 만들고 있는지와 \n",
    "#       2)두 벡터를 곱하면 어떤 값이 나오는지 살펴보자\n",
    "\n",
    "MYJ, brave = user_to_idx['MYJ'], movie_to_idx['Braveheart (1995)']\n",
    "MYJ_vector, brave_vector = als_model.user_factors[MYJ], als_model.item_factors[brave]"
   ]
  },
  {
   "cell_type": "code",
   "execution_count": 21,
   "id": "smaller-affiliation",
   "metadata": {},
   "outputs": [
    {
     "data": {
      "text/plain": [
       "array([ 0.62696606, -0.7111476 ,  0.11759786, -0.3461903 , -0.12474988,\n",
       "       -0.30202746, -0.13105756,  0.82996076,  0.9088299 ,  0.30916315,\n",
       "        0.21823844, -0.76107496,  0.22229025,  0.6088932 , -0.6077447 ,\n",
       "       -0.47037885,  0.9769014 ,  0.47601417,  0.4799159 , -0.03537771,\n",
       "       -0.24263942,  0.6294912 , -0.16237576, -0.06041238, -0.21169396,\n",
       "        0.72675484, -0.33364615,  0.3658256 ,  0.50860494, -0.31313756,\n",
       "        0.90220064,  0.75408804, -0.05007785, -0.15157725,  0.04024984,\n",
       "        0.21861906, -0.4868819 ,  0.18586525,  0.3941096 , -0.3974963 ,\n",
       "       -0.02130215,  0.20667508, -0.1424971 , -0.20060809,  0.09980612,\n",
       "        0.4418907 ,  0.10082795, -1.031166  , -0.16052647, -0.4036669 ,\n",
       "        0.08507218,  0.22622278,  0.3994001 , -0.83618176, -0.34489888,\n",
       "        0.04687817, -0.40444148,  0.3973516 , -0.03865789, -0.8768555 ,\n",
       "       -0.56369567, -0.21324643, -0.15911403, -0.32044527, -0.52857786,\n",
       "       -0.60910356, -0.33530086,  0.09031103, -0.00984965,  0.04604396,\n",
       "        0.10000835,  0.35046148,  0.12741272,  0.2869544 ,  0.5705901 ,\n",
       "       -0.7291961 , -0.02852347,  0.01973779, -0.2960464 ,  0.32904297,\n",
       "       -1.0956329 ,  1.7191492 ,  0.07239462, -0.76644254,  0.61362123,\n",
       "       -0.095141  , -0.15361671, -0.47979704,  0.5877686 ,  0.4779478 ,\n",
       "       -0.9315932 , -0.33139634, -0.14711161, -0.24913934,  0.76703113,\n",
       "        0.9802147 ,  0.5101747 ,  0.388455  ,  0.18178439, -0.6859665 ,\n",
       "        0.03134365,  0.15126887,  0.16201052, -0.3756849 ,  0.48035526,\n",
       "        0.09157193, -0.06541468, -0.12088045,  0.21304007, -0.58682525],\n",
       "      dtype=float32)"
      ]
     },
     "execution_count": 21,
     "metadata": {},
     "output_type": "execute_result"
    }
   ],
   "source": [
    "MYJ_vector"
   ]
  },
  {
   "cell_type": "code",
   "execution_count": 22,
   "id": "juvenile-fifteen",
   "metadata": {},
   "outputs": [
    {
     "data": {
      "text/plain": [
       "array([ 0.05576075, -0.01981337,  0.00480203, -0.02298773,  0.00618316,\n",
       "        0.02705522, -0.0056464 ,  0.04718376, -0.00214878,  0.01986295,\n",
       "        0.0033997 , -0.007589  ,  0.00448925,  0.02155499, -0.03049257,\n",
       "        0.00499038,  0.04990353,  0.03098584,  0.01127887,  0.00395251,\n",
       "       -0.01847075,  0.0018512 , -0.01061727,  0.01103352, -0.02972314,\n",
       "        0.00996851,  0.0096025 ,  0.01812674,  0.03151422, -0.00504972,\n",
       "        0.04485822,  0.03109889,  0.00396623, -0.00650726,  0.01283871,\n",
       "        0.0243304 ,  0.00665589,  0.03821611,  0.02268446, -0.02316785,\n",
       "        0.00706408,  0.00687487,  0.03201428, -0.00127235,  0.03657791,\n",
       "        0.01430178, -0.00524503, -0.01463719, -0.00340791,  0.00891433,\n",
       "        0.05858524,  0.04025685,  0.00274612,  0.00448158, -0.03107355,\n",
       "       -0.02570123, -0.02185572, -0.01165329,  0.01115551, -0.04792999,\n",
       "       -0.01766757, -0.00649609,  0.01247535,  0.02484871, -0.01160716,\n",
       "        0.01775107, -0.02179603,  0.03303676, -0.03338204,  0.01437707,\n",
       "       -0.01965642,  0.01218639,  0.0412537 ,  0.00478965,  0.00592087,\n",
       "        0.00462104,  0.00751126,  0.02541608,  0.01076133, -0.03491933,\n",
       "       -0.01652172, -0.00236483, -0.00079085,  0.00523376,  0.03839392,\n",
       "       -0.03058336, -0.00232113, -0.00633006,  0.03092159,  0.01204885,\n",
       "       -0.04358349,  0.02094858, -0.01969795,  0.00674662,  0.00937395,\n",
       "        0.03505521,  0.01420894,  0.01918706,  0.02163408, -0.03315556,\n",
       "        0.03996289,  0.0140939 ,  0.00774125,  0.01273741, -0.0063982 ,\n",
       "        0.05514859,  0.00279628,  0.01509035, -0.01449399, -0.04416358],\n",
       "      dtype=float32)"
      ]
     },
     "execution_count": 22,
     "metadata": {},
     "output_type": "execute_result"
    }
   ],
   "source": [
    "brave_vector"
   ]
  },
  {
   "cell_type": "code",
   "execution_count": 23,
   "id": "animated-violin",
   "metadata": {},
   "outputs": [
    {
     "data": {
      "text/plain": [
       "0.6241399"
      ]
     },
     "execution_count": 23,
     "metadata": {},
     "output_type": "execute_result"
    }
   ],
   "source": [
    "# MYJ와 Braveheart (1995)를 내적하는 코드\n",
    "np.dot(MYJ_vector, brave_vector)"
   ]
  },
  {
   "cell_type": "code",
   "execution_count": 24,
   "id": "statutory-richards",
   "metadata": {},
   "outputs": [],
   "source": [
    "# 모델에서는 나의 선호도를 0.57 정도로 판단한 것을 볼 수 있다."
   ]
  },
  {
   "cell_type": "markdown",
   "id": "corresponding-lebanon",
   "metadata": {},
   "source": [
    "## 8.7 내가 좋아하는 영화와 비슷한 영화를 추천받아 보자"
   ]
  },
  {
   "cell_type": "code",
   "execution_count": 25,
   "id": "marine-shark",
   "metadata": {},
   "outputs": [
    {
     "data": {
      "text/plain": [
       "[(222, 0.9999999),\n",
       " (269, 0.8045528),\n",
       " (51, 0.77478623),\n",
       " (233, 0.72399724),\n",
       " (157, 0.6756318),\n",
       " (121, 0.66731465),\n",
       " (289, 0.64701736),\n",
       " (224, 0.4863881),\n",
       " (248, 0.4862717),\n",
       " (220, 0.48234528),\n",
       " (278, 0.42469975),\n",
       " (23, 0.40964293),\n",
       " (59, 0.36584976),\n",
       " (483, 0.36187065),\n",
       " (806, 0.3326712)]"
      ]
     },
     "execution_count": 25,
     "metadata": {},
     "output_type": "execute_result"
    }
   ],
   "source": [
    "# AlternatingLeastSquares 클래스에 구현되어 있는 similar_items 메서드를 통하여 비슷한 아티스트를 찾는다.\n",
    "# 처음으로는 Pulp Fiction에 대해서 찾아보겠다\n",
    "\n",
    "favorite_movie = 'Pulp Fiction (1994)'\n",
    "\n",
    "movie_id = movie_to_idx[favorite_movie]\n",
    "similar_movie = als_model.similar_items(movie_id, N=15)\n",
    "similar_movie"
   ]
  },
  {
   "cell_type": "code",
   "execution_count": 26,
   "id": "spiritual-canadian",
   "metadata": {},
   "outputs": [
    {
     "data": {
      "text/plain": [
       "['Pulp Fiction (1994)',\n",
       " 'GoodFellas (1990)',\n",
       " 'Fargo (1996)',\n",
       " 'Usual Suspects, The (1995)',\n",
       " 'Shawshank Redemption, The (1994)',\n",
       " 'Silence of the Lambs, The (1991)',\n",
       " 'Reservoir Dogs (1992)',\n",
       " 'L.A. Confidential (1997)',\n",
       " 'Good Will Hunting (1997)',\n",
       " 'Seven (Se7en) (1995)',\n",
       " 'Jackie Brown (1997)',\n",
       " \"Schindler's List (1993)\",\n",
       " 'Few Good Men, A (1992)',\n",
       " 'Trainspotting (1996)',\n",
       " 'Striptease (1996)']"
      ]
     },
     "execution_count": 26,
     "metadata": {},
     "output_type": "execute_result"
    }
   ],
   "source": [
    "# 아티스트의 id, 유사도를 Tuple로 반환하고 있다. 그렇기 때문에 아티스트의 id를 다시 아티스트의 이름으로 매핑 시켜 준다.\n",
    "# artist_to_idx 를 뒤집어, index로부터 artist 이름을 얻는 dict를 생성\n",
    "\n",
    "idx_to_movie = {v:k for k,v in movie_to_idx.items()}\n",
    "[idx_to_movie[i[0]] for i in similar_movie]"
   ]
  },
  {
   "cell_type": "code",
   "execution_count": 27,
   "id": "improving-championship",
   "metadata": {},
   "outputs": [],
   "source": [
    "# 몇 번 더 반복해서 확인하기 위해 위의 코드를 함수로 만들고 확인해보겠다\n",
    "def get_similar_movie(movie_name: str):\n",
    "    movie_id = movie_to_idx[movie_name]\n",
    "    similar_movie = als_model.similar_items(movie_id)\n",
    "    similar_movie = [idx_to_movie[i[0]] for i in similar_movie]\n",
    "    return similar_movie"
   ]
  },
  {
   "cell_type": "code",
   "execution_count": 28,
   "id": "sudden-jewel",
   "metadata": {},
   "outputs": [
    {
     "data": {
      "text/plain": [
       "['Silence of the Lambs, The (1991)',\n",
       " 'Shawshank Redemption, The (1994)',\n",
       " 'Fargo (1996)',\n",
       " 'Pulp Fiction (1994)',\n",
       " 'Usual Suspects, The (1995)',\n",
       " 'GoodFellas (1990)',\n",
       " \"Schindler's List (1993)\",\n",
       " 'Sixth Sense, The (1999)',\n",
       " 'Good Will Hunting (1997)',\n",
       " 'Sling Blade (1996)']"
      ]
     },
     "execution_count": 28,
     "metadata": {},
     "output_type": "execute_result"
    }
   ],
   "source": [
    "get_similar_movie('Silence of the Lambs, The (1991)')"
   ]
  },
  {
   "cell_type": "markdown",
   "id": "derived-justice",
   "metadata": {},
   "source": [
    "## 8.8 내가 가장 좋아할 만한 영화들을 추천받아 보자"
   ]
  },
  {
   "cell_type": "code",
   "execution_count": 29,
   "id": "literary-tennis",
   "metadata": {},
   "outputs": [
    {
     "data": {
      "text/plain": [
       "[(107, 0.5383196),\n",
       " (92, 0.4305806),\n",
       " (121, 0.41334558),\n",
       " (222, 0.37125534),\n",
       " (233, 0.36648944),\n",
       " (80, 0.3439396),\n",
       " (157, 0.34241444),\n",
       " (99, 0.33135116),\n",
       " (124, 0.3309847),\n",
       " (48, 0.29729056)]"
      ]
     },
     "execution_count": 29,
     "metadata": {},
     "output_type": "execute_result"
    }
   ],
   "source": [
    "# 유저에게 영화 추천하기\n",
    "# AlternatingLeastSquares 클래스에 구현되어 있는 recommend 메서드를 통하여 좋아할 만한 아티스트를 추천받는다.\n",
    "# filter_already_liked_items 는 유저가 이미 평가한 아이템은 제외하는 Argument다.\n",
    "user = user_to_idx['MYJ']\n",
    "# recommend에서는 user*item CSR Matrix를 받습니다.\n",
    "movie_recommended = als_model.recommend(user, csr_data, N=10, filter_already_liked_items=True)\n",
    "movie_recommended"
   ]
  },
  {
   "cell_type": "code",
   "execution_count": 30,
   "id": "environmental-utility",
   "metadata": {},
   "outputs": [
    {
     "data": {
      "text/plain": [
       "['Jurassic Park (1993)',\n",
       " 'Terminator 2: Judgment Day (1991)',\n",
       " 'Silence of the Lambs, The (1991)',\n",
       " 'Pulp Fiction (1994)',\n",
       " 'Usual Suspects, The (1995)',\n",
       " 'Stand by Me (1986)',\n",
       " 'Shawshank Redemption, The (1994)',\n",
       " 'American Beauty (1999)',\n",
       " 'Matrix, The (1999)',\n",
       " 'Saving Private Ryan (1998)']"
      ]
     },
     "execution_count": 30,
     "metadata": {},
     "output_type": "execute_result"
    }
   ],
   "source": [
    "[idx_to_movie[i[0]] for i in movie_recommended]"
   ]
  },
  {
   "cell_type": "code",
   "execution_count": 31,
   "id": "studied-angel",
   "metadata": {},
   "outputs": [],
   "source": [
    "# 모델은 여러개의 영화를 추천해줬는데 왜 이것들을 추천해줬는지 알아보자\n",
    "park = movie_to_idx['Jurassic Park (1993)']\n",
    "explain = als_model.explain(user, csr_data, itemid=park)"
   ]
  },
  {
   "cell_type": "code",
   "execution_count": 32,
   "id": "british-james",
   "metadata": {},
   "outputs": [
    {
     "data": {
      "text/plain": [
       "[('Men in Black (1997)', 0.35056134888893575),\n",
       " ('Braveheart (1995)', 0.15912352253182535),\n",
       " ('Fargo (1996)', 0.01064930795932474),\n",
       " ('L.A. Confidential (1997)', 0.009617515814918862),\n",
       " ('Princess Bride, The (1987)', 0.0002975621180058372)]"
      ]
     },
     "execution_count": 32,
     "metadata": {},
     "output_type": "execute_result"
    }
   ],
   "source": [
    "[(idx_to_movie[i[0]], i[1]) for i in explain[1]]"
   ]
  },
  {
   "cell_type": "code",
   "execution_count": 33,
   "id": "partial-cartridge",
   "metadata": {},
   "outputs": [],
   "source": [
    "# Men in Black (1997)과 Braveheart (1995)가 가장 크게 기여한 것을 볼 수 있다."
   ]
  },
  {
   "cell_type": "markdown",
   "id": "patent-integral",
   "metadata": {},
   "source": [
    "## 회고"
   ]
  }
 ],
 "metadata": {
  "kernelspec": {
   "display_name": "aiffel",
   "language": "python",
   "name": "aiffel"
  },
  "language_info": {
   "codemirror_mode": {
    "name": "ipython",
    "version": 3
   },
   "file_extension": ".py",
   "mimetype": "text/x-python",
   "name": "python",
   "nbconvert_exporter": "python",
   "pygments_lexer": "ipython3",
   "version": "3.7.9"
  }
 },
 "nbformat": 4,
 "nbformat_minor": 5
}
